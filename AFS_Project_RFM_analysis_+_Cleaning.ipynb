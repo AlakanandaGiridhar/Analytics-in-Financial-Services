{
  "nbformat": 4,
  "nbformat_minor": 0,
  "metadata": {
    "colab": {
      "name": "AFS Project - RFM analysis + Cleaning.ipynb",
      "provenance": [],
      "collapsed_sections": []
    },
    "kernelspec": {
      "name": "python3",
      "display_name": "Python 3"
    }
  },
  "cells": [
    {
      "cell_type": "code",
      "metadata": {
        "id": "5b5MMcEJrQE1",
        "colab_type": "code",
        "colab": {}
      },
      "source": [
        "import pandas as pd\n",
        "import numpy as np"
      ],
      "execution_count": 0,
      "outputs": []
    },
    {
      "cell_type": "code",
      "metadata": {
        "id": "a3RMY7KVzt3K",
        "colab_type": "code",
        "outputId": "1e633b09-6056-40a8-e44c-5090df08ff29",
        "colab": {
          "base_uri": "https://localhost:8080/",
          "height": 255
        }
      },
      "source": [
        "pip install fuzzywuzzy[speedup]"
      ],
      "execution_count": 0,
      "outputs": [
        {
          "output_type": "stream",
          "text": [
            "Collecting fuzzywuzzy[speedup]\n",
            "  Downloading https://files.pythonhosted.org/packages/43/ff/74f23998ad2f93b945c0309f825be92e04e0348e062026998b5eefef4c33/fuzzywuzzy-0.18.0-py2.py3-none-any.whl\n",
            "Collecting python-levenshtein>=0.12; extra == \"speedup\"\n",
            "\u001b[?25l  Downloading https://files.pythonhosted.org/packages/42/a9/d1785c85ebf9b7dfacd08938dd028209c34a0ea3b1bcdb895208bd40a67d/python-Levenshtein-0.12.0.tar.gz (48kB)\n",
            "\u001b[K     |████████████████████████████████| 51kB 2.9MB/s \n",
            "\u001b[?25hRequirement already satisfied: setuptools in /usr/local/lib/python3.6/dist-packages (from python-levenshtein>=0.12; extra == \"speedup\"->fuzzywuzzy[speedup]) (46.1.3)\n",
            "Building wheels for collected packages: python-levenshtein\n",
            "  Building wheel for python-levenshtein (setup.py) ... \u001b[?25l\u001b[?25hdone\n",
            "  Created wheel for python-levenshtein: filename=python_Levenshtein-0.12.0-cp36-cp36m-linux_x86_64.whl size=144795 sha256=5ca3caa372292c29c5909b962577b4af66fe744aefcfee5daabba6931e517a8d\n",
            "  Stored in directory: /root/.cache/pip/wheels/de/c2/93/660fd5f7559049268ad2dc6d81c4e39e9e36518766eaf7e342\n",
            "Successfully built python-levenshtein\n",
            "Installing collected packages: python-levenshtein, fuzzywuzzy\n",
            "Successfully installed fuzzywuzzy-0.18.0 python-levenshtein-0.12.0\n"
          ],
          "name": "stdout"
        }
      ]
    },
    {
      "cell_type": "code",
      "metadata": {
        "id": "nYX-YoG5znZP",
        "colab_type": "code",
        "colab": {}
      },
      "source": [
        "from fuzzywuzzy import fuzz\n",
        "from fuzzywuzzy import process\n",
        "import re\n",
        "import string"
      ],
      "execution_count": 0,
      "outputs": []
    },
    {
      "cell_type": "code",
      "metadata": {
        "id": "jXhOtmoduvbZ",
        "colab_type": "code",
        "outputId": "3c242860-da92-4e54-90b1-34f2ea8d9523",
        "colab": {
          "base_uri": "https://localhost:8080/",
          "height": 121
        }
      },
      "source": [
        "import os\n",
        "from google.colab import drive\n",
        "drive.mount('/content/gdrive')"
      ],
      "execution_count": 0,
      "outputs": [
        {
          "output_type": "stream",
          "text": [
            "Go to this URL in a browser: https://accounts.google.com/o/oauth2/auth?client_id=947318989803-6bn6qk8qdgf4n4g3pfee6491hc0brc4i.apps.googleusercontent.com&redirect_uri=urn%3aietf%3awg%3aoauth%3a2.0%3aoob&response_type=code&scope=email%20https%3a%2f%2fwww.googleapis.com%2fauth%2fdocs.test%20https%3a%2f%2fwww.googleapis.com%2fauth%2fdrive%20https%3a%2f%2fwww.googleapis.com%2fauth%2fdrive.photos.readonly%20https%3a%2f%2fwww.googleapis.com%2fauth%2fpeopleapi.readonly\n",
            "\n",
            "Enter your authorization code:\n",
            "··········\n",
            "Mounted at /content/gdrive\n"
          ],
          "name": "stdout"
        }
      ]
    },
    {
      "cell_type": "code",
      "metadata": {
        "id": "hXGCivqhuzP9",
        "colab_type": "code",
        "colab": {}
      },
      "source": [
        "os.chdir('/content/gdrive/My Drive/Analytics in Financial Services Project/Cleaning by-products')"
      ],
      "execution_count": 0,
      "outputs": []
    },
    {
      "cell_type": "code",
      "metadata": {
        "id": "pQgNZ8Z_vAYT",
        "colab_type": "code",
        "outputId": "52c5ef0e-2560-4683-de68-990b7cb6c22b",
        "colab": {
          "base_uri": "https://localhost:8080/",
          "height": 34
        }
      },
      "source": [
        "os.getcwd()"
      ],
      "execution_count": 0,
      "outputs": [
        {
          "output_type": "execute_result",
          "data": {
            "text/plain": [
              "'/content/gdrive/My Drive/Analytics in Financial Services Project'"
            ]
          },
          "metadata": {
            "tags": []
          },
          "execution_count": 6
        }
      ]
    },
    {
      "cell_type": "code",
      "metadata": {
        "id": "UJvqkFF_rBqn",
        "colab_type": "code",
        "colab": {}
      },
      "source": [
        "demo = pd.read_csv('Demography new.csv')"
      ],
      "execution_count": 0,
      "outputs": []
    },
    {
      "cell_type": "code",
      "metadata": {
        "id": "vbFUOaWetQaj",
        "colab_type": "code",
        "colab": {}
      },
      "source": [
        "trans = pd.read_csv('transaction.csv')"
      ],
      "execution_count": 0,
      "outputs": []
    },
    {
      "cell_type": "code",
      "metadata": {
        "id": "6CLxWknXxDMD",
        "colab_type": "code",
        "outputId": "c125fe7d-9dcc-432f-f461-2e1064567f63",
        "colab": {
          "base_uri": "https://localhost:8080/",
          "height": 195
        }
      },
      "source": [
        "demo.head()"
      ],
      "execution_count": 0,
      "outputs": [
        {
          "output_type": "execute_result",
          "data": {
            "text/html": [
              "<div>\n",
              "<style scoped>\n",
              "    .dataframe tbody tr th:only-of-type {\n",
              "        vertical-align: middle;\n",
              "    }\n",
              "\n",
              "    .dataframe tbody tr th {\n",
              "        vertical-align: top;\n",
              "    }\n",
              "\n",
              "    .dataframe thead th {\n",
              "        text-align: right;\n",
              "    }\n",
              "</style>\n",
              "<table border=\"1\" class=\"dataframe\">\n",
              "  <thead>\n",
              "    <tr style=\"text-align: right;\">\n",
              "      <th></th>\n",
              "      <th>No</th>\n",
              "      <th>AgeBand</th>\n",
              "      <th>CreditLimitBand</th>\n",
              "      <th>District</th>\n",
              "      <th>Gender</th>\n",
              "      <th>PartyID</th>\n",
              "      <th>RevolverFlag</th>\n",
              "    </tr>\n",
              "  </thead>\n",
              "  <tbody>\n",
              "    <tr>\n",
              "      <th>0</th>\n",
              "      <td>1</td>\n",
              "      <td>01 (20 - 29)</td>\n",
              "      <td>01 (&lt; 10)K</td>\n",
              "      <td>53</td>\n",
              "      <td>F</td>\n",
              "      <td>10167887</td>\n",
              "      <td>06 Inactive</td>\n",
              "    </tr>\n",
              "    <tr>\n",
              "      <th>1</th>\n",
              "      <td>2</td>\n",
              "      <td>01 (20 - 29)</td>\n",
              "      <td>01 (&lt; 10)K</td>\n",
              "      <td>56</td>\n",
              "      <td>F</td>\n",
              "      <td>35173089</td>\n",
              "      <td>02 Transactor</td>\n",
              "    </tr>\n",
              "    <tr>\n",
              "      <th>2</th>\n",
              "      <td>3</td>\n",
              "      <td>01 (20 - 29)</td>\n",
              "      <td>01 (&lt; 10)K</td>\n",
              "      <td>15</td>\n",
              "      <td>F</td>\n",
              "      <td>86406397</td>\n",
              "      <td>01 New Customer</td>\n",
              "    </tr>\n",
              "    <tr>\n",
              "      <th>3</th>\n",
              "      <td>4</td>\n",
              "      <td>01 (20 - 29)</td>\n",
              "      <td>01 (&lt; 10)K</td>\n",
              "      <td>73</td>\n",
              "      <td>F</td>\n",
              "      <td>13198251</td>\n",
              "      <td>01 New Customer</td>\n",
              "    </tr>\n",
              "    <tr>\n",
              "      <th>4</th>\n",
              "      <td>5</td>\n",
              "      <td>01 (20 - 29)</td>\n",
              "      <td>01 (&lt; 10)K</td>\n",
              "      <td>67</td>\n",
              "      <td>F</td>\n",
              "      <td>2074308</td>\n",
              "      <td>02 Transactor</td>\n",
              "    </tr>\n",
              "  </tbody>\n",
              "</table>\n",
              "</div>"
            ],
            "text/plain": [
              "   No       AgeBand CreditLimitBand District Gender   PartyID     RevolverFlag\n",
              "0   1  01 (20 - 29)      01 (< 10)K       53      F  10167887      06 Inactive\n",
              "1   2  01 (20 - 29)      01 (< 10)K       56      F  35173089    02 Transactor\n",
              "2   3  01 (20 - 29)      01 (< 10)K       15      F  86406397  01 New Customer\n",
              "3   4  01 (20 - 29)      01 (< 10)K       73      F  13198251  01 New Customer\n",
              "4   5  01 (20 - 29)      01 (< 10)K       67      F   2074308    02 Transactor"
            ]
          },
          "metadata": {
            "tags": []
          },
          "execution_count": 12
        }
      ]
    },
    {
      "cell_type": "code",
      "metadata": {
        "id": "-NcOfLPSxoJv",
        "colab_type": "code",
        "outputId": "ca9793e3-f5d4-4bc2-efc0-d684cb811753",
        "colab": {
          "base_uri": "https://localhost:8080/",
          "height": 195
        }
      },
      "source": [
        "trans.head()"
      ],
      "execution_count": 0,
      "outputs": [
        {
          "output_type": "execute_result",
          "data": {
            "text/html": [
              "<div>\n",
              "<style scoped>\n",
              "    .dataframe tbody tr th:only-of-type {\n",
              "        vertical-align: middle;\n",
              "    }\n",
              "\n",
              "    .dataframe tbody tr th {\n",
              "        vertical-align: top;\n",
              "    }\n",
              "\n",
              "    .dataframe thead th {\n",
              "        text-align: right;\n",
              "    }\n",
              "</style>\n",
              "<table border=\"1\" class=\"dataframe\">\n",
              "  <thead>\n",
              "    <tr style=\"text-align: right;\">\n",
              "      <th></th>\n",
              "      <th>PartyID</th>\n",
              "      <th>CardType</th>\n",
              "      <th>Merchant_Category</th>\n",
              "      <th>Merchant_Name</th>\n",
              "      <th>Transaction_amount</th>\n",
              "      <th>Transaction_Date</th>\n",
              "      <th>Unnamed: 6</th>\n",
              "    </tr>\n",
              "  </thead>\n",
              "  <tbody>\n",
              "    <tr>\n",
              "      <th>0</th>\n",
              "      <td>10100028</td>\n",
              "      <td>Co-Brand</td>\n",
              "      <td>FOOD STORES-WAREHOUSE</td>\n",
              "      <td>FAIRPRICE XTRA-AMK SINGAPORE SG</td>\n",
              "      <td>33.00</td>\n",
              "      <td>01/03/2014</td>\n",
              "      <td>NaN</td>\n",
              "    </tr>\n",
              "    <tr>\n",
              "      <th>1</th>\n",
              "      <td>10104387</td>\n",
              "      <td>Co-Brand</td>\n",
              "      <td>DEPARTMENT STORES</td>\n",
              "      <td>ROBINSONS - RAFFLES CITY SINGAPORE SG</td>\n",
              "      <td>122.21</td>\n",
              "      <td>01/03/2014</td>\n",
              "      <td>NaN</td>\n",
              "    </tr>\n",
              "    <tr>\n",
              "      <th>2</th>\n",
              "      <td>10124427</td>\n",
              "      <td>Co-Brand</td>\n",
              "      <td>DEPARTMENT STORES</td>\n",
              "      <td>M &amp; S - PARAGON SHPG CTR SINGAPORE SG</td>\n",
              "      <td>53.33</td>\n",
              "      <td>01/03/2014</td>\n",
              "      <td>NaN</td>\n",
              "    </tr>\n",
              "    <tr>\n",
              "      <th>3</th>\n",
              "      <td>10128840</td>\n",
              "      <td>Core Card</td>\n",
              "      <td>OTHER SERVICES</td>\n",
              "      <td>EXTREMAL SHOP ALMATY KAZ</td>\n",
              "      <td>15.70</td>\n",
              "      <td>01/03/2014</td>\n",
              "      <td>NaN</td>\n",
              "    </tr>\n",
              "    <tr>\n",
              "      <th>4</th>\n",
              "      <td>10199312</td>\n",
              "      <td>Core Card</td>\n",
              "      <td>RESTAURANTS-BARS</td>\n",
              "      <td>KYO SINGAPORE SG</td>\n",
              "      <td>133.32</td>\n",
              "      <td>01/03/2014</td>\n",
              "      <td>NaN</td>\n",
              "    </tr>\n",
              "  </tbody>\n",
              "</table>\n",
              "</div>"
            ],
            "text/plain": [
              "    PartyID   CardType  ... Transaction_Date Unnamed: 6\n",
              "0  10100028   Co-Brand  ...       01/03/2014        NaN\n",
              "1  10104387   Co-Brand  ...       01/03/2014        NaN\n",
              "2  10124427   Co-Brand  ...       01/03/2014        NaN\n",
              "3  10128840  Core Card  ...       01/03/2014        NaN\n",
              "4  10199312  Core Card  ...       01/03/2014        NaN\n",
              "\n",
              "[5 rows x 7 columns]"
            ]
          },
          "metadata": {
            "tags": []
          },
          "execution_count": 13
        }
      ]
    },
    {
      "cell_type": "code",
      "metadata": {
        "id": "ZO9e4hAdw6oc",
        "colab_type": "code",
        "colab": {}
      },
      "source": [
        "merged = pd.merge(demo,trans,on='PartyID',how = 'left')"
      ],
      "execution_count": 0,
      "outputs": []
    },
    {
      "cell_type": "code",
      "metadata": {
        "id": "eIytfxMchQUy",
        "colab_type": "code",
        "outputId": "e3c37caa-e1e8-4b90-bda8-7280b715ad95",
        "colab": {
          "base_uri": "https://localhost:8080/",
          "height": 296
        }
      },
      "source": [
        "merged.head()"
      ],
      "execution_count": 0,
      "outputs": [
        {
          "output_type": "execute_result",
          "data": {
            "text/html": [
              "<div>\n",
              "<style scoped>\n",
              "    .dataframe tbody tr th:only-of-type {\n",
              "        vertical-align: middle;\n",
              "    }\n",
              "\n",
              "    .dataframe tbody tr th {\n",
              "        vertical-align: top;\n",
              "    }\n",
              "\n",
              "    .dataframe thead th {\n",
              "        text-align: right;\n",
              "    }\n",
              "</style>\n",
              "<table border=\"1\" class=\"dataframe\">\n",
              "  <thead>\n",
              "    <tr style=\"text-align: right;\">\n",
              "      <th></th>\n",
              "      <th>No</th>\n",
              "      <th>AgeBand</th>\n",
              "      <th>CreditLimitBand</th>\n",
              "      <th>District</th>\n",
              "      <th>Gender</th>\n",
              "      <th>PartyID</th>\n",
              "      <th>RevolverFlag</th>\n",
              "      <th>CardType</th>\n",
              "      <th>Merchant_Category</th>\n",
              "      <th>Merchant_Name</th>\n",
              "      <th>Transaction_amount</th>\n",
              "      <th>Transaction_Date</th>\n",
              "      <th>Unnamed: 6</th>\n",
              "    </tr>\n",
              "  </thead>\n",
              "  <tbody>\n",
              "    <tr>\n",
              "      <th>0</th>\n",
              "      <td>1</td>\n",
              "      <td>01 (20 - 29)</td>\n",
              "      <td>01 (&lt; 10)K</td>\n",
              "      <td>53</td>\n",
              "      <td>F</td>\n",
              "      <td>10167887</td>\n",
              "      <td>06 Inactive</td>\n",
              "      <td>NaN</td>\n",
              "      <td>NaN</td>\n",
              "      <td>NaN</td>\n",
              "      <td>NaN</td>\n",
              "      <td>NaN</td>\n",
              "      <td>NaN</td>\n",
              "    </tr>\n",
              "    <tr>\n",
              "      <th>1</th>\n",
              "      <td>2</td>\n",
              "      <td>01 (20 - 29)</td>\n",
              "      <td>01 (&lt; 10)K</td>\n",
              "      <td>56</td>\n",
              "      <td>F</td>\n",
              "      <td>35173089</td>\n",
              "      <td>02 Transactor</td>\n",
              "      <td>Core Card</td>\n",
              "      <td>RESTAURANTS-BARS</td>\n",
              "      <td>IKEA-RESTAURANT SINGAPORE SG</td>\n",
              "      <td>32.44</td>\n",
              "      <td>09/03/2014</td>\n",
              "      <td>NaN</td>\n",
              "    </tr>\n",
              "    <tr>\n",
              "      <th>2</th>\n",
              "      <td>2</td>\n",
              "      <td>01 (20 - 29)</td>\n",
              "      <td>01 (&lt; 10)K</td>\n",
              "      <td>56</td>\n",
              "      <td>F</td>\n",
              "      <td>35173089</td>\n",
              "      <td>02 Transactor</td>\n",
              "      <td>Core Card</td>\n",
              "      <td>INTERIOR FURNISHINGS</td>\n",
              "      <td>IKEA SINGAPORE SG</td>\n",
              "      <td>26.78</td>\n",
              "      <td>09/03/2014</td>\n",
              "      <td>NaN</td>\n",
              "    </tr>\n",
              "    <tr>\n",
              "      <th>3</th>\n",
              "      <td>2</td>\n",
              "      <td>01 (20 - 29)</td>\n",
              "      <td>01 (&lt; 10)K</td>\n",
              "      <td>56</td>\n",
              "      <td>F</td>\n",
              "      <td>35173089</td>\n",
              "      <td>02 Transactor</td>\n",
              "      <td>Core Card</td>\n",
              "      <td>RESTAURANTS-BARS</td>\n",
              "      <td>PARIS BAGUETTE SINGAPORE SGP</td>\n",
              "      <td>26.66</td>\n",
              "      <td>28/03/2014</td>\n",
              "      <td>NaN</td>\n",
              "    </tr>\n",
              "    <tr>\n",
              "      <th>4</th>\n",
              "      <td>2</td>\n",
              "      <td>01 (20 - 29)</td>\n",
              "      <td>01 (&lt; 10)K</td>\n",
              "      <td>56</td>\n",
              "      <td>F</td>\n",
              "      <td>35173089</td>\n",
              "      <td>02 Transactor</td>\n",
              "      <td>Core Card</td>\n",
              "      <td>RESTAURANTS-BARS</td>\n",
              "      <td>PARIS BAGUETTE SINGAPORE SGP</td>\n",
              "      <td>53.55</td>\n",
              "      <td>28/03/2014</td>\n",
              "      <td>NaN</td>\n",
              "    </tr>\n",
              "  </tbody>\n",
              "</table>\n",
              "</div>"
            ],
            "text/plain": [
              "   No       AgeBand  ... Transaction_Date Unnamed: 6\n",
              "0   1  01 (20 - 29)  ...              NaN        NaN\n",
              "1   2  01 (20 - 29)  ...       09/03/2014        NaN\n",
              "2   2  01 (20 - 29)  ...       09/03/2014        NaN\n",
              "3   2  01 (20 - 29)  ...       28/03/2014        NaN\n",
              "4   2  01 (20 - 29)  ...       28/03/2014        NaN\n",
              "\n",
              "[5 rows x 13 columns]"
            ]
          },
          "metadata": {
            "tags": []
          },
          "execution_count": 15
        }
      ]
    },
    {
      "cell_type": "code",
      "metadata": {
        "id": "5U2VhrskhUUT",
        "colab_type": "code",
        "outputId": "13788323-4e34-4dcb-d3ee-277e78064ac7",
        "colab": {
          "base_uri": "https://localhost:8080/",
          "height": 34
        }
      },
      "source": [
        "demo.shape, trans.shape, merged.shape"
      ],
      "execution_count": 0,
      "outputs": [
        {
          "output_type": "execute_result",
          "data": {
            "text/plain": [
              "((29999, 7), (374035, 7), (381452, 13))"
            ]
          },
          "metadata": {
            "tags": []
          },
          "execution_count": 16
        }
      ]
    },
    {
      "cell_type": "code",
      "metadata": {
        "id": "dtvlEVVAj72M",
        "colab_type": "code",
        "outputId": "ba0ae1e1-3bb7-4b0b-c1d1-3e4cc4628d9b",
        "colab": {
          "base_uri": "https://localhost:8080/",
          "height": 84
        }
      },
      "source": [
        "#Increase in transction count post merging - 7417 out of 29999 people with no transactions\n",
        "print(\"Difference in transaction\",381452-374035)\n",
        "print(len(merged.loc[merged['CardType'].isnull(),'PartyID'].unique()))\n",
        "print(100*len(merged.loc[merged['CardType'].isnull(),'PartyID'].unique())/len(demo),\" percent customers with missing transactions\")\n",
        "print(100*len(merged.loc[merged['CardType'].isnull(),'PartyID'].unique())/len(merged),\" percent transactions aggdf in merged aggdfframe\")\n"
      ],
      "execution_count": 0,
      "outputs": [
        {
          "output_type": "stream",
          "text": [
            "Difference in transaction 7417\n",
            "7417\n",
            "24.72415747191573  percent customers with missing transactions\n",
            "1.9444124031332908  percent transactions aggdf in merged aggdfframe\n"
          ],
          "name": "stdout"
        }
      ]
    },
    {
      "cell_type": "code",
      "metadata": {
        "id": "MO0oxHSQqOMq",
        "colab_type": "code",
        "outputId": "63332159-5cd8-4586-a9a4-28a72fea02e1",
        "colab": {
          "base_uri": "https://localhost:8080/",
          "height": 252
        }
      },
      "source": [
        "merged.dtypes"
      ],
      "execution_count": 0,
      "outputs": [
        {
          "output_type": "execute_result",
          "data": {
            "text/plain": [
              "No                      int64\n",
              "AgeBand                object\n",
              "CreditLimitBand        object\n",
              "District               object\n",
              "Gender                 object\n",
              "PartyID                 int64\n",
              "RevolverFlag           object\n",
              "CardType               object\n",
              "Merchant_Category      object\n",
              "Merchant_Name          object\n",
              "Transaction_amount    float64\n",
              "Transaction_Date       object\n",
              "Unnamed: 6            float64\n",
              "dtype: object"
            ]
          },
          "metadata": {
            "tags": []
          },
          "execution_count": 18
        }
      ]
    },
    {
      "cell_type": "code",
      "metadata": {
        "id": "PGq3tcoreE4J",
        "colab_type": "code",
        "colab": {}
      },
      "source": [
        "#missing dropped aggdfframe\n",
        "mdmerged = merged.drop(axis = 0, index = merged[merged['CardType'].isnull()].index)"
      ],
      "execution_count": 0,
      "outputs": []
    },
    {
      "cell_type": "code",
      "metadata": {
        "id": "51-0Y2LzfgQn",
        "colab_type": "code",
        "colab": {}
      },
      "source": [
        "mdmerged['Transaction_Date'] = pd.to_datetime(mdmerged['Transaction_Date'],format=\"%d/%m/%Y\")"
      ],
      "execution_count": 0,
      "outputs": []
    },
    {
      "cell_type": "code",
      "metadata": {
        "id": "22yXzoS0gH7U",
        "colab_type": "code",
        "outputId": "9bdea9c4-b003-4872-d891-d80739866f82",
        "colab": {
          "base_uri": "https://localhost:8080/",
          "height": 134
        }
      },
      "source": [
        "mdmerged['Transaction_Date'].describe()"
      ],
      "execution_count": 0,
      "outputs": [
        {
          "output_type": "execute_result",
          "data": {
            "text/plain": [
              "count                  374035\n",
              "unique                     92\n",
              "top       2014-05-31 00:00:00\n",
              "freq                     5598\n",
              "first     2014-03-01 00:00:00\n",
              "last      2014-05-31 00:00:00\n",
              "Name: Transaction_Date, dtype: object"
            ]
          },
          "metadata": {
            "tags": []
          },
          "execution_count": 21
        }
      ]
    },
    {
      "cell_type": "code",
      "metadata": {
        "colab_type": "code",
        "outputId": "e7ffbc35-5506-41b4-8e97-d7c9d447f848",
        "id": "3BpIbNyl65Yx",
        "colab": {
          "base_uri": "https://localhost:8080/",
          "height": 1000
        }
      },
      "source": [
        "for col in mdmerged.columns:\n",
        "  if (merged[col].dtype == \"object\"):\n",
        "    print(\"-----------------------------\")\n",
        "    print(100*mdmerged[col].value_counts()/len(mdmerged))\n",
        "    print(\"Number of categories in\",col,\"is: \", len(mdmerged[col].value_counts()))\n",
        "    print(\"-----------------------------\")"
      ],
      "execution_count": 0,
      "outputs": [
        {
          "output_type": "stream",
          "text": [
            "-----------------------------\n",
            "03 (40 - 49)    31.338778\n",
            "02 (30 - 39)    28.817089\n",
            "04 (50 - 59)    22.247116\n",
            "05 (60 - 69)     8.953975\n",
            "01 (20 - 29)     7.325250\n",
            "06 (>= 70)       1.317791\n",
            "Name: AgeBand, dtype: float64\n",
            "Number of categories in AgeBand is:  6\n",
            "-----------------------------\n",
            "-----------------------------\n",
            "01 (< 10)K         57.922120\n",
            "02 (10 - 20)K      29.931958\n",
            "03 (20 - 30)K       5.637708\n",
            "04 (30 - 40)K       2.287486\n",
            "06 (50 - 60)K       1.150427\n",
            "05 (40 - 50)K       0.957397\n",
            "14 (unknown)        0.561445\n",
            "07 (60 - 70)K       0.371356\n",
            "08 (70 - 80)K       0.370554\n",
            "11 (10 - 150)K      0.349165\n",
            "09 (80 - 90)K       0.229390\n",
            "10 (90 - 100)K      0.130469\n",
            "12 (150 - 200)K     0.061759\n",
            "13 (>= 200)K        0.038766\n",
            "Name: CreditLimitBand, dtype: float64\n",
            "Number of categories in CreditLimitBand is:  14\n",
            "-----------------------------\n",
            "-----------------------------\n",
            "52    5.844640\n",
            "54    5.477562\n",
            "53    5.265283\n",
            "64    4.995789\n",
            "68    4.357346\n",
            "        ...   \n",
            "49    0.017645\n",
            "72    0.005347\n",
            "90    0.004278\n",
            "69    0.002941\n",
            "71    0.000535\n",
            "Name: District, Length: 81, dtype: float64\n",
            "Number of categories in District is:  81\n",
            "-----------------------------\n",
            "-----------------------------\n",
            "M    54.976139\n",
            "F    45.023861\n",
            "Name: Gender, dtype: float64\n",
            "Number of categories in Gender is:  2\n",
            "-----------------------------\n",
            "-----------------------------\n",
            "02 Transactor         63.571324\n",
            "03 Occa Revolver      13.991471\n",
            "04 Middle Revolver     9.812985\n",
            "05 Hard Revolver       8.038553\n",
            "01 New Customer        4.568556\n",
            "06 Inactive            0.017111\n",
            "Name: RevolverFlag, dtype: float64\n",
            "Number of categories in RevolverFlag is:  6\n",
            "-----------------------------\n",
            "-----------------------------\n",
            "Core Card    51.067413\n",
            "Co-Brand     45.260203\n",
            "Platinum      3.672384\n",
            "Name: CardType, dtype: float64\n",
            "Number of categories in CardType is:  3\n",
            "-----------------------------\n",
            "-----------------------------\n",
            "FOOD STORES-WAREHOUSE    39.344714\n",
            "RESTAURANTS-BARS         11.880439\n",
            "DEPARTMENT STORES         7.062173\n",
            "OTHER SERVICES            6.690016\n",
            "CLOTHING STORES           5.382919\n",
            "GAS STATIONS              5.142567\n",
            "OTHER RETAIL              5.105405\n",
            "PROFESSIONAL SERVICES     2.805352\n",
            "UTILITIES                 2.630770\n",
            "RECREATION                1.902228\n",
            "HEALTH CARE               1.748499\n",
            "DRUG STORES               1.678987\n",
            "MAIL ORDER                1.450666\n",
            "AIRLINE                   1.256032\n",
            "HOTEL-MOTEL               0.929592\n",
            "ELECTRIC-APPLIANCE        0.904728\n",
            "INTERIOR FURNISHINGS      0.848049\n",
            "OTHER TRANSPORT           0.664911\n",
            "TRAVEL AGENCIES           0.634700\n",
            "SPORTING-TOY STORES       0.634165\n",
            "QUASI CASH                0.474555\n",
            "VEHICLES                  0.325905\n",
            "EDUCATION                 0.239282\n",
            "HARDWARE                  0.122983\n",
            "Others                    0.067908\n",
            "AUTO RENTAL               0.041173\n",
            "DISCOUNT STORES           0.016309\n",
            "REPAIR SHOPS              0.014972\n",
            "Name: Merchant_Category, dtype: float64\n",
            "Number of categories in Merchant_Category is:  28\n",
            "-----------------------------\n",
            "-----------------------------\n",
            "FAIRPRICE XTRA-AMK SINGAPORE SG           1.443715\n",
            "FAIRPRICE XTRA-NEX MALL SINGAPORE SG      1.247209\n",
            "FAIRPRICE XTRA-JURONG POISINGAPORE SG     1.236248\n",
            "ESSO-FAIRPRICE EXPRESS SINGAPORE SG       1.183044\n",
            "ESSO-CHEERS BY FP SINGAPORE SG            1.107918\n",
            "                                            ...   \n",
            "ZINC-JUNCTION 8 SINGAPORE SGP             0.000267\n",
            "Greenmangaming Ltd London GB              0.000267\n",
            "LUXOR BTY WORLD-JB JOHOR BAHRU MYS        0.000267\n",
            "MIRABELL MBSTM MONGKOK Lai Chi Kok HKG    0.000267\n",
            "ICA CC14050619515739 SINGAPORE SG         0.000267\n",
            "Name: Merchant_Name, Length: 43495, dtype: float64\n",
            "Number of categories in Merchant_Name is:  43495\n",
            "-----------------------------\n",
            "-----------------------------\n",
            "2014-05-31    1.496651\n",
            "2014-04-26    1.386501\n",
            "2014-05-17    1.384897\n",
            "2014-05-24    1.384095\n",
            "2014-04-12    1.370460\n",
            "                ...   \n",
            "2014-03-05    0.891895\n",
            "2014-03-10    0.887885\n",
            "2014-04-16    0.883607\n",
            "2014-04-03    0.865962\n",
            "2014-03-12    0.861417\n",
            "Name: Transaction_Date, Length: 92, dtype: float64\n",
            "Number of categories in Transaction_Date is:  92\n",
            "-----------------------------\n"
          ],
          "name": "stdout"
        }
      ]
    },
    {
      "cell_type": "code",
      "metadata": {
        "id": "s7dNdsyL7Wz2",
        "colab_type": "code",
        "outputId": "e642b7f6-c992-4b55-a325-081185788264",
        "colab": {
          "base_uri": "https://localhost:8080/",
          "height": 296
        }
      },
      "source": [
        "mdmerged.head()"
      ],
      "execution_count": 0,
      "outputs": [
        {
          "output_type": "execute_result",
          "data": {
            "text/html": [
              "<div>\n",
              "<style scoped>\n",
              "    .dataframe tbody tr th:only-of-type {\n",
              "        vertical-align: middle;\n",
              "    }\n",
              "\n",
              "    .dataframe tbody tr th {\n",
              "        vertical-align: top;\n",
              "    }\n",
              "\n",
              "    .dataframe thead th {\n",
              "        text-align: right;\n",
              "    }\n",
              "</style>\n",
              "<table border=\"1\" class=\"dataframe\">\n",
              "  <thead>\n",
              "    <tr style=\"text-align: right;\">\n",
              "      <th></th>\n",
              "      <th>No</th>\n",
              "      <th>AgeBand</th>\n",
              "      <th>CreditLimitBand</th>\n",
              "      <th>District</th>\n",
              "      <th>Gender</th>\n",
              "      <th>PartyID</th>\n",
              "      <th>RevolverFlag</th>\n",
              "      <th>CardType</th>\n",
              "      <th>Merchant_Category</th>\n",
              "      <th>Merchant_Name</th>\n",
              "      <th>Transaction_amount</th>\n",
              "      <th>Transaction_Date</th>\n",
              "      <th>Unnamed: 6</th>\n",
              "    </tr>\n",
              "  </thead>\n",
              "  <tbody>\n",
              "    <tr>\n",
              "      <th>1</th>\n",
              "      <td>2</td>\n",
              "      <td>01 (20 - 29)</td>\n",
              "      <td>01 (&lt; 10)K</td>\n",
              "      <td>56</td>\n",
              "      <td>F</td>\n",
              "      <td>35173089</td>\n",
              "      <td>02 Transactor</td>\n",
              "      <td>Core Card</td>\n",
              "      <td>RESTAURANTS-BARS</td>\n",
              "      <td>IKEA-RESTAURANT SINGAPORE SG</td>\n",
              "      <td>32.44</td>\n",
              "      <td>2014-03-09</td>\n",
              "      <td>NaN</td>\n",
              "    </tr>\n",
              "    <tr>\n",
              "      <th>2</th>\n",
              "      <td>2</td>\n",
              "      <td>01 (20 - 29)</td>\n",
              "      <td>01 (&lt; 10)K</td>\n",
              "      <td>56</td>\n",
              "      <td>F</td>\n",
              "      <td>35173089</td>\n",
              "      <td>02 Transactor</td>\n",
              "      <td>Core Card</td>\n",
              "      <td>INTERIOR FURNISHINGS</td>\n",
              "      <td>IKEA SINGAPORE SG</td>\n",
              "      <td>26.78</td>\n",
              "      <td>2014-03-09</td>\n",
              "      <td>NaN</td>\n",
              "    </tr>\n",
              "    <tr>\n",
              "      <th>3</th>\n",
              "      <td>2</td>\n",
              "      <td>01 (20 - 29)</td>\n",
              "      <td>01 (&lt; 10)K</td>\n",
              "      <td>56</td>\n",
              "      <td>F</td>\n",
              "      <td>35173089</td>\n",
              "      <td>02 Transactor</td>\n",
              "      <td>Core Card</td>\n",
              "      <td>RESTAURANTS-BARS</td>\n",
              "      <td>PARIS BAGUETTE SINGAPORE SGP</td>\n",
              "      <td>26.66</td>\n",
              "      <td>2014-03-28</td>\n",
              "      <td>NaN</td>\n",
              "    </tr>\n",
              "    <tr>\n",
              "      <th>4</th>\n",
              "      <td>2</td>\n",
              "      <td>01 (20 - 29)</td>\n",
              "      <td>01 (&lt; 10)K</td>\n",
              "      <td>56</td>\n",
              "      <td>F</td>\n",
              "      <td>35173089</td>\n",
              "      <td>02 Transactor</td>\n",
              "      <td>Core Card</td>\n",
              "      <td>RESTAURANTS-BARS</td>\n",
              "      <td>PARIS BAGUETTE SINGAPORE SGP</td>\n",
              "      <td>53.55</td>\n",
              "      <td>2014-03-28</td>\n",
              "      <td>NaN</td>\n",
              "    </tr>\n",
              "    <tr>\n",
              "      <th>5</th>\n",
              "      <td>3</td>\n",
              "      <td>01 (20 - 29)</td>\n",
              "      <td>01 (&lt; 10)K</td>\n",
              "      <td>15</td>\n",
              "      <td>F</td>\n",
              "      <td>86406397</td>\n",
              "      <td>01 New Customer</td>\n",
              "      <td>Core Card</td>\n",
              "      <td>PROFESSIONAL SERVICES</td>\n",
              "      <td>ADDON SYSTEMS PTE LTD SINGAPORE SG</td>\n",
              "      <td>2165.34</td>\n",
              "      <td>2014-05-18</td>\n",
              "      <td>NaN</td>\n",
              "    </tr>\n",
              "  </tbody>\n",
              "</table>\n",
              "</div>"
            ],
            "text/plain": [
              "   No       AgeBand  ... Transaction_Date Unnamed: 6\n",
              "1   2  01 (20 - 29)  ...       2014-03-09        NaN\n",
              "2   2  01 (20 - 29)  ...       2014-03-09        NaN\n",
              "3   2  01 (20 - 29)  ...       2014-03-28        NaN\n",
              "4   2  01 (20 - 29)  ...       2014-03-28        NaN\n",
              "5   3  01 (20 - 29)  ...       2014-05-18        NaN\n",
              "\n",
              "[5 rows x 13 columns]"
            ]
          },
          "metadata": {
            "tags": []
          },
          "execution_count": 23
        }
      ]
    },
    {
      "cell_type": "code",
      "metadata": {
        "id": "3PvCDc1R6-IZ",
        "colab_type": "code",
        "colab": {}
      },
      "source": [
        "aggdf= mdmerged.groupby('PartyID').aggregate({'No':'count','CardType':'nunique','Merchant_Category':'nunique','Merchant_Name':'nunique','Transaction_amount':['mean','sum'],'Transaction_Date':'max'})\n",
        "aggdf.columns = [\"_\".join(x) for x in aggdf.columns.ravel()]"
      ],
      "execution_count": 0,
      "outputs": []
    },
    {
      "cell_type": "code",
      "metadata": {
        "id": "MGeEc4XF9di4",
        "colab_type": "code",
        "outputId": "bf0157ee-c4ec-493c-863a-9ee8b88fdca2",
        "colab": {
          "base_uri": "https://localhost:8080/",
          "height": 225
        }
      },
      "source": [
        "aggdf.head()"
      ],
      "execution_count": 0,
      "outputs": [
        {
          "output_type": "execute_result",
          "data": {
            "text/html": [
              "<div>\n",
              "<style scoped>\n",
              "    .dataframe tbody tr th:only-of-type {\n",
              "        vertical-align: middle;\n",
              "    }\n",
              "\n",
              "    .dataframe tbody tr th {\n",
              "        vertical-align: top;\n",
              "    }\n",
              "\n",
              "    .dataframe thead th {\n",
              "        text-align: right;\n",
              "    }\n",
              "</style>\n",
              "<table border=\"1\" class=\"dataframe\">\n",
              "  <thead>\n",
              "    <tr style=\"text-align: right;\">\n",
              "      <th></th>\n",
              "      <th>No_count</th>\n",
              "      <th>CardType_nunique</th>\n",
              "      <th>Merchant_Category_nunique</th>\n",
              "      <th>Merchant_Name_nunique</th>\n",
              "      <th>Transaction_amount_mean</th>\n",
              "      <th>Transaction_amount_sum</th>\n",
              "      <th>Transaction_Date_max</th>\n",
              "    </tr>\n",
              "    <tr>\n",
              "      <th>PartyID</th>\n",
              "      <th></th>\n",
              "      <th></th>\n",
              "      <th></th>\n",
              "      <th></th>\n",
              "      <th></th>\n",
              "      <th></th>\n",
              "      <th></th>\n",
              "    </tr>\n",
              "  </thead>\n",
              "  <tbody>\n",
              "    <tr>\n",
              "      <th>174884</th>\n",
              "      <td>56</td>\n",
              "      <td>1</td>\n",
              "      <td>12</td>\n",
              "      <td>27</td>\n",
              "      <td>152.070893</td>\n",
              "      <td>8515.97</td>\n",
              "      <td>2014-05-31</td>\n",
              "    </tr>\n",
              "    <tr>\n",
              "      <th>174930</th>\n",
              "      <td>13</td>\n",
              "      <td>1</td>\n",
              "      <td>4</td>\n",
              "      <td>10</td>\n",
              "      <td>39.124615</td>\n",
              "      <td>508.62</td>\n",
              "      <td>2014-05-16</td>\n",
              "    </tr>\n",
              "    <tr>\n",
              "      <th>175016</th>\n",
              "      <td>13</td>\n",
              "      <td>1</td>\n",
              "      <td>5</td>\n",
              "      <td>8</td>\n",
              "      <td>30.654615</td>\n",
              "      <td>398.51</td>\n",
              "      <td>2014-04-29</td>\n",
              "    </tr>\n",
              "    <tr>\n",
              "      <th>175067</th>\n",
              "      <td>15</td>\n",
              "      <td>2</td>\n",
              "      <td>3</td>\n",
              "      <td>6</td>\n",
              "      <td>66.691333</td>\n",
              "      <td>1000.37</td>\n",
              "      <td>2014-05-29</td>\n",
              "    </tr>\n",
              "    <tr>\n",
              "      <th>175187</th>\n",
              "      <td>8</td>\n",
              "      <td>2</td>\n",
              "      <td>3</td>\n",
              "      <td>7</td>\n",
              "      <td>37.461250</td>\n",
              "      <td>299.69</td>\n",
              "      <td>2014-05-12</td>\n",
              "    </tr>\n",
              "  </tbody>\n",
              "</table>\n",
              "</div>"
            ],
            "text/plain": [
              "         No_count  ...  Transaction_Date_max\n",
              "PartyID            ...                      \n",
              "174884         56  ...            2014-05-31\n",
              "174930         13  ...            2014-05-16\n",
              "175016         13  ...            2014-04-29\n",
              "175067         15  ...            2014-05-29\n",
              "175187          8  ...            2014-05-12\n",
              "\n",
              "[5 rows x 7 columns]"
            ]
          },
          "metadata": {
            "tags": []
          },
          "execution_count": 25
        }
      ]
    },
    {
      "cell_type": "code",
      "metadata": {
        "id": "zShx2Yda9j18",
        "colab_type": "code",
        "colab": {}
      },
      "source": [
        "aggdf['DaysSinceLastPurchase'] = (pd.to_datetime(\"2014-05-31\",format=\"%Y-%m-%d\")-aggdf['Transaction_Date_max'])/pd.Timedelta(1,'d')"
      ],
      "execution_count": 0,
      "outputs": []
    },
    {
      "cell_type": "code",
      "metadata": {
        "id": "yQlYsKjr5EaH",
        "colab_type": "code",
        "outputId": "de1356d9-9dd5-4792-966d-6e6d2bc25543",
        "colab": {
          "base_uri": "https://localhost:8080/",
          "height": 588
        }
      },
      "source": [
        "#Recency Variable\n",
        "\n",
        "aggdf['DaysSinceLastPurchase_Rev'] = aggdf['DaysSinceLastPurchase'].apply(lambda x: -1*x)\n",
        "\n",
        "print(aggdf['DaysSinceLastPurchase_Rev'].describe())\n",
        "\n",
        "print('\\n\\n',aggdf['DaysSinceLastPurchase_Rev'].quantile([0,0.1,0.2,0.3,0.35,0.4,0.5,0.6,0.7,0.75,0.8,0.90,0.99,1]))\n",
        "\n",
        "aggdf['R_quantile'] = pd.qcut(aggdf['DaysSinceLastPurchase_Rev'], 5 ,['1','2','3','4','5'], duplicates='drop')\n",
        "\n",
        "print('\\n\\n',aggdf['R_quantile'].value_counts())"
      ],
      "execution_count": 0,
      "outputs": [
        {
          "output_type": "stream",
          "text": [
            "count    22582.000000\n",
            "mean       -14.106279\n",
            "std         19.552700\n",
            "min        -91.000000\n",
            "25%        -19.000000\n",
            "50%         -6.000000\n",
            "75%         -1.000000\n",
            "max         -0.000000\n",
            "Name: DaysSinceLastPurchase_Rev, dtype: float64\n",
            "\n",
            "\n",
            " 0.00   -91.0\n",
            "0.10   -43.0\n",
            "0.20   -24.0\n",
            "0.30   -15.0\n",
            "0.35   -12.0\n",
            "0.40    -9.0\n",
            "0.50    -6.0\n",
            "0.60    -3.0\n",
            "0.70    -2.0\n",
            "0.75    -1.0\n",
            "0.80    -1.0\n",
            "0.90    -0.0\n",
            "0.99    -0.0\n",
            "1.00    -0.0\n",
            "Name: DaysSinceLastPurchase_Rev, dtype: float64\n",
            "\n",
            "\n",
            " 3    5516\n",
            "1    4628\n",
            "2    4512\n",
            "5    4097\n",
            "4    3829\n",
            "Name: R_quantile, dtype: int64\n"
          ],
          "name": "stdout"
        }
      ]
    },
    {
      "cell_type": "code",
      "metadata": {
        "id": "dAmkUkTT5EaK",
        "colab_type": "code",
        "outputId": "ac5b1a42-60f6-427d-8a0a-40555a30a68a",
        "colab": {
          "base_uri": "https://localhost:8080/",
          "height": 34
        }
      },
      "source": [
        "#Verifying that Recency bin 5 indeed consists of customers who recently purchased\n",
        "\n",
        "aggdf.loc[aggdf['R_quantile']=='5','DaysSinceLastPurchase'].mean()"
      ],
      "execution_count": 0,
      "outputs": [
        {
          "output_type": "execute_result",
          "data": {
            "text/plain": [
              "0.0"
            ]
          },
          "metadata": {
            "tags": []
          },
          "execution_count": 28
        }
      ]
    },
    {
      "cell_type": "code",
      "metadata": {
        "id": "P1OY1HmY5EaT",
        "colab_type": "code",
        "outputId": "38869bf3-288f-40c1-a129-03e96ff7af99",
        "colab": {
          "base_uri": "https://localhost:8080/",
          "height": 588
        }
      },
      "source": [
        "#Frequency Variable\n",
        "\n",
        "print(aggdf['No_count'].describe())\n",
        "\n",
        "print('\\n\\n',aggdf['No_count'].quantile([0,0.1,0.2,0.3,0.35,0.4,0.5,0.6,0.7,0.75,0.8,0.90,0.99,1]))\n",
        "\n",
        "aggdf['F_quantile'] = pd.qcut(aggdf['No_count'], 5 ,['1','2','3','4','5'], duplicates='drop')\n",
        "\n",
        "print('\\n\\n',aggdf['F_quantile'].value_counts())"
      ],
      "execution_count": 0,
      "outputs": [
        {
          "output_type": "stream",
          "text": [
            "count    22582.000000\n",
            "mean        16.563413\n",
            "std         21.936885\n",
            "min          1.000000\n",
            "25%          4.000000\n",
            "50%         10.000000\n",
            "75%         22.000000\n",
            "max       1350.000000\n",
            "Name: No_count, dtype: float64\n",
            "\n",
            "\n",
            " 0.00       1.0\n",
            "0.10       1.0\n",
            "0.20       3.0\n",
            "0.30       5.0\n",
            "0.35       6.0\n",
            "0.40       7.0\n",
            "0.50      10.0\n",
            "0.60      14.0\n",
            "0.70      19.0\n",
            "0.75      22.0\n",
            "0.80      27.0\n",
            "0.90      39.0\n",
            "0.99      89.0\n",
            "1.00    1350.0\n",
            "Name: No_count, dtype: float64\n",
            "\n",
            "\n",
            " 1    5453\n",
            "4    4478\n",
            "3    4304\n",
            "5    4257\n",
            "2    4090\n",
            "Name: F_quantile, dtype: int64\n"
          ],
          "name": "stdout"
        }
      ]
    },
    {
      "cell_type": "code",
      "metadata": {
        "id": "Zzshxarc5EaP",
        "colab_type": "code",
        "outputId": "f4dcf55a-46c2-4baf-b137-06ac40ac4ba2",
        "colab": {
          "base_uri": "https://localhost:8080/",
          "height": 538
        }
      },
      "source": [
        "#Monetary Variable\n",
        "\n",
        "print(aggdf['Transaction_amount_sum'].describe())\n",
        "print('\\n\\n',aggdf['Transaction_amount_sum'].quantile([0.1,0.2,0.3,0.4,0.5,0.6,0.7,0.8,0.90,0.99,1]))\n",
        "\n",
        "aggdf['M_quantile'] = pd.qcut(aggdf['Transaction_amount_sum'], 5 ,['1','2','3','4','5'], duplicates = 'drop')\n",
        "\n",
        "print('\\n\\n',aggdf['M_quantile'].value_counts())"
      ],
      "execution_count": 0,
      "outputs": [
        {
          "output_type": "stream",
          "text": [
            "count    2.258200e+04\n",
            "mean     2.231907e+03\n",
            "std      2.124770e+04\n",
            "min      6.700000e-01\n",
            "25%      3.057225e+02\n",
            "50%      8.879850e+02\n",
            "75%      2.276950e+03\n",
            "max      2.594885e+06\n",
            "Name: Transaction_amount_sum, dtype: float64\n",
            "\n",
            "\n",
            " 0.10    9.932000e+01\n",
            "0.20    2.233120e+02\n",
            "0.30    3.950390e+02\n",
            "0.40    6.068460e+02\n",
            "0.50    8.879850e+02\n",
            "0.60    1.284672e+03\n",
            "0.70    1.864757e+03\n",
            "0.80    2.830418e+03\n",
            "0.90    4.825187e+03\n",
            "0.99    1.593825e+04\n",
            "1.00    2.594885e+06\n",
            "Name: Transaction_amount_sum, dtype: float64\n",
            "\n",
            "\n",
            " 5    4517\n",
            "1    4517\n",
            "4    4516\n",
            "3    4516\n",
            "2    4516\n",
            "Name: M_quantile, dtype: int64\n"
          ],
          "name": "stdout"
        }
      ]
    },
    {
      "cell_type": "code",
      "metadata": {
        "id": "az9siA6H5Eag",
        "colab_type": "code",
        "outputId": "099cda4d-74d1-454b-8610-7cdd78288a49",
        "colab": {
          "base_uri": "https://localhost:8080/",
          "height": 218
        }
      },
      "source": [
        "#RFM Variable\n",
        "\n",
        "aggdf['RFM_q'] = aggdf[['R_quantile','F_quantile','M_quantile']].apply(lambda x: ''.join(x),axis=1)\n",
        "aggdf['RFM_q'].value_counts()"
      ],
      "execution_count": 0,
      "outputs": [
        {
          "output_type": "execute_result",
          "data": {
            "text/plain": [
              "111    2089\n",
              "555    1113\n",
              "455     786\n",
              "211     702\n",
              "344     595\n",
              "       ... \n",
              "153       2\n",
              "252       2\n",
              "141       1\n",
              "351       1\n",
              "251       1\n",
              "Name: RFM_q, Length: 121, dtype: int64"
            ]
          },
          "metadata": {
            "tags": []
          },
          "execution_count": 31
        }
      ]
    },
    {
      "cell_type": "code",
      "metadata": {
        "id": "yY8x0bnvC4ig",
        "colab_type": "code",
        "colab": {}
      },
      "source": [
        "#EngagementScore\n",
        "aggdf['EngagementScore'] = aggdf[['R_quantile','F_quantile','M_quantile']].apply(lambda x: int(x['R_quantile'])+int(x['F_quantile'])+int(x['M_quantile']),axis=1)"
      ],
      "execution_count": 0,
      "outputs": []
    },
    {
      "cell_type": "code",
      "metadata": {
        "id": "MFmsqbE3DdDj",
        "colab_type": "code",
        "outputId": "d1ce5e25-05c3-4e13-a3a8-22039738a4a6",
        "colab": {
          "base_uri": "https://localhost:8080/",
          "height": 403
        }
      },
      "source": [
        "#Identifying EngagementSegments\n",
        "print(aggdf['EngagementScore'].describe())\n",
        "print('\\n\\n',aggdf['EngagementScore'].quantile([0.0,0.33,0.66,0.99,1]))\n",
        "\n",
        "aggdf['EngagementSegments'] = pd.qcut(aggdf['EngagementScore'],3,['Low','Mid','High'], duplicates = 'drop')\n",
        "\n",
        "print('\\n\\n',aggdf['EngagementSegments'].value_counts())"
      ],
      "execution_count": 0,
      "outputs": [
        {
          "output_type": "stream",
          "text": [
            "count    22582.000000\n",
            "mean         8.833983\n",
            "std          3.627187\n",
            "min          3.000000\n",
            "25%          6.000000\n",
            "50%          9.000000\n",
            "75%         12.000000\n",
            "max         15.000000\n",
            "Name: EngagementScore, dtype: float64\n",
            "\n",
            "\n",
            " 0.00     3.0\n",
            "0.33     7.0\n",
            "0.66    11.0\n",
            "0.99    15.0\n",
            "1.00    15.0\n",
            "Name: EngagementScore, dtype: float64\n",
            "\n",
            "\n",
            " Low     8671\n",
            "Mid     7497\n",
            "High    6414\n",
            "Name: EngagementSegments, dtype: int64\n"
          ],
          "name": "stdout"
        }
      ]
    },
    {
      "cell_type": "code",
      "metadata": {
        "id": "YKZUuQ3xH7dT",
        "colab_type": "code",
        "outputId": "9d5f71ed-54aa-4315-8878-a28ae227afa2",
        "colab": {
          "base_uri": "https://localhost:8080/",
          "height": 605
        }
      },
      "source": [
        "#Characteristics of high-mid-low segments\n",
        "for seg in aggdf['EngagementSegments'].unique():\n",
        "  print(\"----------------------\")\n",
        "  print(\"Segment:\",seg)\n",
        "  print(\"EngagementScore Range- min, mean, max: \", aggdf.loc[aggdf['EngagementSegments']==seg,'EngagementScore'].min(),aggdf.loc[aggdf['EngagementSegments']==seg,'EngagementScore'].mean(),aggdf.loc[aggdf['EngagementSegments']==seg,'EngagementScore'].max())\n",
        "  print(\"Quantile means: Rq_mean, Fq_mean, Mq_mean: \", pd.to_numeric(aggdf.loc[aggdf['EngagementSegments']==seg,'R_quantile']).mean(),pd.to_numeric(aggdf.loc[aggdf['EngagementSegments']==seg,'F_quantile']).mean(),pd.to_numeric(aggdf.loc[aggdf['EngagementSegments']==seg,'M_quantile']).mean())\n",
        "  print(\"Quantile min: Rq_min, Fq_min, Mq_min: \", pd.to_numeric(aggdf.loc[aggdf['EngagementSegments']==seg,'R_quantile']).min(),pd.to_numeric(aggdf.loc[aggdf['EngagementSegments']==seg,'F_quantile']).min(),pd.to_numeric(aggdf.loc[aggdf['EngagementSegments']==seg,'M_quantile']).min())\n",
        "  print(\"Quantile max: Rq_max, Fq_max, Mq_max: \", pd.to_numeric(aggdf.loc[aggdf['EngagementSegments']==seg,'R_quantile']).max(),pd.to_numeric(aggdf.loc[aggdf['EngagementSegments']==seg,'F_quantile']).max(),pd.to_numeric(aggdf.loc[aggdf['EngagementSegments']==seg,'M_quantile']).max())\n",
        "  print(\"Value means: R_mean, F_mean, M_mean: \",aggdf.loc[aggdf['EngagementSegments']==seg,'DaysSinceLastPurchase'].mean(),aggdf.loc[aggdf['EngagementSegments']==seg,'No_count'].mean(),aggdf.loc[aggdf['EngagementSegments']==seg,'Transaction_amount_sum'].mean())\n",
        "  print(\"Unique RFM Segments: \", aggdf.loc[aggdf['EngagementSegments']==seg,'RFM_q'].unique())\n",
        "  print(\"----------------------\")"
      ],
      "execution_count": 0,
      "outputs": [
        {
          "output_type": "stream",
          "text": [
            "----------------------\n",
            "Segment: High\n",
            "EngagementScore Range- min, mean, max:  12 13.290926099158092 15\n",
            "Quantile means: Rq_mean, Fq_mean, Mq_mean:  4.262394761459308 4.575304022450888 4.453227315247895\n",
            "Quantile min: Rq_min, Fq_min, Mq_min:  2 2 2\n",
            "Quantile max: Rq_max, Fq_max, Mq_max:  5 5 5\n",
            "Value means: R_mean, F_mean, M_mean:  1.4998440910508264 37.86295603367633 5428.334298409732\n",
            "Unique RFM Segments:  ['555' '544' '454' '445' '554' '455' '453' '355' '553' '535' '444' '545'\n",
            " '543' '345' '525' '354' '255' '534' '435' '552']\n",
            "----------------------\n",
            "----------------------\n",
            "Segment: Low\n",
            "EngagementScore Range- min, mean, max:  3 4.952715949717449 7\n",
            "Quantile means: Rq_mean, Fq_mean, Mq_mean:  1.76311844077961 1.4754930227194096 1.7141044862184291\n",
            "Quantile min: Rq_min, Fq_min, Mq_min:  1 1 1\n",
            "Quantile max: Rq_max, Fq_max, Mq_max:  5 4 5\n",
            "Value means: R_mean, F_mean, M_mean:  29.42290393264906 3.5452658286241494 403.7756498673737\n",
            "Unique RFM Segments:  ['232' '132' '222' '122' '311' '213' '112' '111' '211' '121' '322' '223'\n",
            " '113' '221' '212' '114' '511' '411' '331' '312' '124' '115' '123' '321'\n",
            " '133' '313' '412' '421' '231' '214' '241' '131' '142' '141']\n",
            "----------------------\n",
            "----------------------\n",
            "Segment: Mid\n",
            "EngagementScore Range- min, mean, max:  8 9.509937308256635 11\n",
            "Quantile means: Rq_mean, Fq_mean, Mq_mean:  3.117780445511538 3.1481926103774844 3.2439642523676135\n",
            "Quantile min: Rq_min, Fq_min, Mq_min:  1 1 1\n",
            "Quantile max: Rq_max, Fq_max, Mq_max:  5 5 5\n",
            "Value means: R_mean, F_mean, M_mean:  7.176470588235294 13.39749233026544 1611.6387901827402\n",
            "Unique RFM Segments:  ['443' '432' '533' '343' '422' '332' '334' '512' '433' '323' '413' '434'\n",
            " '235' '333' '425' '344' '135' '245' '243' '415' '522' '254' '542' '521'\n",
            " '233' '134' '532' '424' '244' '442' '324' '144' '234' '352' '341' '423'\n",
            " '125' '514' '242' '314' '524' '513' '523' '335' '224' '431' '325' '215'\n",
            " '342' '225' '145' '353' '143' '155' '253' '315' '452' '531' '515' '414'\n",
            " '541' '441' '252' '154' '153' '351' '251']\n",
            "----------------------\n"
          ],
          "name": "stdout"
        }
      ]
    },
    {
      "cell_type": "code",
      "metadata": {
        "id": "tY_4kph3RNYt",
        "colab_type": "code",
        "colab": {}
      },
      "source": [
        "#aggdf.to_excel('SegmentedDf.xlsx',index=True)"
      ],
      "execution_count": 0,
      "outputs": []
    },
    {
      "cell_type": "markdown",
      "metadata": {
        "id": "Gzq42Rdkw6ws",
        "colab_type": "text"
      },
      "source": [
        "## Loading cleaned dataset and cleaning merchant names further\n",
        "\n",
        "> Indented block\n",
        "\n"
      ]
    },
    {
      "cell_type": "code",
      "metadata": {
        "id": "FcsvXMP7TZdL",
        "colab_type": "code",
        "colab": {}
      },
      "source": [
        "Trx_Cleaned = pd.read_excel('Transactions_Cleaned.xlsx')"
      ],
      "execution_count": 0,
      "outputs": []
    },
    {
      "cell_type": "code",
      "metadata": {
        "id": "M78X3Sa2yO7z",
        "colab_type": "code",
        "colab": {}
      },
      "source": [
        "Demographics_Cleaned = pd.read_excel('Demography_Cleaned.xlsx') "
      ],
      "execution_count": 0,
      "outputs": []
    },
    {
      "cell_type": "code",
      "metadata": {
        "id": "UN_hKMXfypK1",
        "colab_type": "code",
        "outputId": "4c15e798-1229-4020-cc27-60d070f6c79f",
        "colab": {
          "base_uri": "https://localhost:8080/",
          "height": 34
        }
      },
      "source": [
        "Trx_Cleaned['Merchant_Name_Cleaned'].nunique()"
      ],
      "execution_count": 0,
      "outputs": [
        {
          "output_type": "execute_result",
          "data": {
            "text/plain": [
              "31147"
            ]
          },
          "metadata": {
            "tags": []
          },
          "execution_count": 101
        }
      ]
    },
    {
      "cell_type": "code",
      "metadata": {
        "id": "Wtfx5H69z7HY",
        "colab_type": "code",
        "outputId": "cac961f3-edfd-4b9a-a5ab-287872200851",
        "colab": {
          "base_uri": "https://localhost:8080/",
          "height": 67
        }
      },
      "source": [
        "Trx_Cleaned['Merchant_Name_Cleaned'].unique()"
      ],
      "execution_count": 0,
      "outputs": [
        {
          "output_type": "execute_result",
          "data": {
            "text/plain": [
              "array(['LONG BEACH KING ', 'FAIRPRICE FINEST', 'AGODA.COM INTERNET SG',\n",
              "       ..., 'DONATION VIA AMMADO DUBLIN IE', 'SAFECART.COM*SAFECART 855',\n",
              "       'BOTTOMSLIM NEW YORK P '], dtype=object)"
            ]
          },
          "metadata": {
            "tags": []
          },
          "execution_count": 102
        }
      ]
    },
    {
      "cell_type": "code",
      "metadata": {
        "id": "GdTsNdbd3tIQ",
        "colab_type": "code",
        "outputId": "00ab79df-f560-493a-d56f-866b3d54dda7",
        "colab": {
          "base_uri": "https://localhost:8080/",
          "height": 34
        }
      },
      "source": [
        "Trx_Cleaned.shape, Demographics_Cleaned.shape"
      ],
      "execution_count": 0,
      "outputs": [
        {
          "output_type": "execute_result",
          "data": {
            "text/plain": [
              "((374035, 14), (22582, 21))"
            ]
          },
          "metadata": {
            "tags": []
          },
          "execution_count": 103
        }
      ]
    },
    {
      "cell_type": "code",
      "metadata": {
        "id": "64g043e5yvw-",
        "colab_type": "code",
        "colab": {}
      },
      "source": [
        "def clean(txt):\n",
        "    exclude = set(string.punctuation)\n",
        "    freq_term = ['sg','sgp','corp','corporation','inc', 'corporate', 'ltd', 'laboratoires', 'laboratories',\n",
        "             'brand', 'international','company','gm','ml','com','internet','lte','llc']\n",
        "    txt = str(txt)    \n",
        "    txt = ''.join([' ' + x if x.isupper() and i > 0 and txt[i-1] != '-' and i+2 < len(txt) and\n",
        "                   txt[i+1].islower() and txt[i+2].islower() else x for i, x in enumerate(txt)]).strip() # separate out \"HimalayaHerbal\" to \"Himalaya Herbal\" \n",
        "    txt=txt.lower()\n",
        "    txt=''.join([ch for ch in txt if not ch.isdigit()])\n",
        "    txt = ''.join([ch if ch not in exclude else ' ' for ch in txt])\n",
        "    txt = ' '.join(x for x in txt.split(' ') if x not in freq_term)\n",
        "    txt=re.sub(' +',' ',txt)\n",
        "    return txt.strip()"
      ],
      "execution_count": 0,
      "outputs": []
    },
    {
      "cell_type": "code",
      "metadata": {
        "id": "VglFRS030xAi",
        "colab_type": "code",
        "colab": {}
      },
      "source": [
        "Trx_Cleaned['Merchant_Name_Cleaned2'] = Trx_Cleaned['Merchant_Name_Cleaned'].apply(lambda x: clean(x))"
      ],
      "execution_count": 0,
      "outputs": []
    },
    {
      "cell_type": "code",
      "metadata": {
        "id": "ymvxh_NHt9Oe",
        "colab_type": "code",
        "colab": {}
      },
      "source": [
        "def fuzzyfind_similar_names(query, choices,score_func, lt, sim_threshold):\n",
        "  top_similar = []\n",
        "  sim_scores = process.extract(query, choices, scorer = score_func, limit=lt)\n",
        "  #print('Y')\n",
        "  #print(sim_scores)\n",
        "  for name,score in sim_scores:\n",
        "    if score > sim_threshold:\n",
        "      top_similar.append(name)\n",
        "  return top_similar"
      ],
      "execution_count": 0,
      "outputs": []
    },
    {
      "cell_type": "code",
      "metadata": {
        "id": "ADqzlt-ft9Yd",
        "colab_type": "code",
        "outputId": "f238a9fd-8abb-43d0-c99c-8eb433170f4a",
        "colab": {
          "base_uri": "https://localhost:8080/",
          "height": 84
        }
      },
      "source": [
        "print(fuzz.partial_ratio(\"Starbucks\", [\"STARBUCKS NZ\", \"sTARBUCKS LTD\"]))\n",
        "print(fuzz.WRatio(\"Starbucks\", [\"STARBUCKS NZ\", \"sTARBUCKS LTD\"]))\n",
        "print(fuzz.token_sort_ratio(\"Starbucks\", [\"STARBUCKS NZ\", \"sTARBUCKS LTD\"]))\n",
        "print(fuzz.token_set_ratio(\"Starbucks\", [\"STARBUCKS NZ\", \"sTARBUCKS LTD\"]))"
      ],
      "execution_count": 0,
      "outputs": [
        {
          "output_type": "stream",
          "text": [
            "22\n",
            "90\n",
            "51\n",
            "100\n"
          ],
          "name": "stdout"
        }
      ]
    },
    {
      "cell_type": "code",
      "metadata": {
        "id": "SocKx_640BXV",
        "colab_type": "code",
        "outputId": "fd34f0c5-b670-4d9b-8ba8-dc58104e00be",
        "colab": {
          "base_uri": "https://localhost:8080/",
          "height": 84
        }
      },
      "source": [
        "print(fuzz.partial_ratio(\"Amazon\", [\"AMAZON web services\", \"amazon payments\", \"amazon RETAIL\"]))\n",
        "print(fuzz.WRatio(\"Amazon\", [\"AMAZON web services\", \"amazon payments\", \"amazon RETAIL\"]))\n",
        "print(fuzz.token_sort_ratio(\"Amazon\", [\"AMAZON web services\", \"amazon payments\", \"amazon RETAIL\"]))\n",
        "print(fuzz.token_set_ratio(\"Amazon\", [\"AMAZON web services\", \"amazon payments\", \"amazon RETAIL\"]))"
      ],
      "execution_count": 0,
      "outputs": [
        {
          "output_type": "stream",
          "text": [
            "83\n",
            "60\n",
            "22\n",
            "100\n"
          ],
          "name": "stdout"
        }
      ]
    },
    {
      "cell_type": "code",
      "metadata": {
        "id": "NOz5kqxFt2iu",
        "colab_type": "code",
        "colab": {}
      },
      "source": [
        "MerchantList = Trx_Cleaned['Merchant_Name_Cleaned2'].unique()"
      ],
      "execution_count": 0,
      "outputs": []
    },
    {
      "cell_type": "code",
      "metadata": {
        "id": "0Hk-tqUHuH9s",
        "colab_type": "code",
        "colab": {}
      },
      "source": [
        "SimilarNames = {}"
      ],
      "execution_count": 0,
      "outputs": []
    },
    {
      "cell_type": "markdown",
      "metadata": {
        "id": "QxgqCwESlAnr",
        "colab_type": "text"
      },
      "source": [
        "### Group into similar names using fuzzywuzzy token set ratio"
      ]
    },
    {
      "cell_type": "code",
      "metadata": {
        "id": "FWYqUPQJt8-Y",
        "colab_type": "code",
        "colab": {}
      },
      "source": [
        "choices=MerchantList\n",
        "for index, merchant in enumerate(MerchantList):\n",
        "  print(index)\n",
        "  if merchant in choices:\n",
        "    print(merchant)\n",
        "    SimilarNames[merchant] = fuzzyfind_similar_names(merchant, choices, score_func = fuzz.token_set_ratio, lt=100, sim_threshold = 80)\n",
        "    print('SimilarNames:',SimilarNames[merchant])\n",
        "    print('\\n')\n",
        "    choices= [x for x in choices if x not in SimilarNames[merchant]+[merchant]]"
      ],
      "execution_count": 0,
      "outputs": []
    },
    {
      "cell_type": "markdown",
      "metadata": {
        "id": "4FQcu3ihsTgq",
        "colab_type": "text"
      },
      "source": [
        "### Creating mapping of merchant group-name to merchant name"
      ]
    },
    {
      "cell_type": "code",
      "metadata": {
        "id": "df6Q7SobWUTB",
        "colab_type": "code",
        "colab": {}
      },
      "source": [
        "# Names_Mapping = pd.DataFrame([(key, var) for (key, L) in SimilarNames.items() for var in L], \n",
        "#                  columns=['key', 'variable'])"
      ],
      "execution_count": 0,
      "outputs": []
    },
    {
      "cell_type": "code",
      "metadata": {
        "id": "v5hpI8rOYfyW",
        "colab_type": "code",
        "colab": {}
      },
      "source": [
        "#Names_Mapping.to_excel('MerchantName_Mapping.xlsx',index = False)"
      ],
      "execution_count": 0,
      "outputs": []
    },
    {
      "cell_type": "markdown",
      "metadata": {
        "colab_type": "text",
        "id": "y5KICAVBswgT"
      },
      "source": [
        "### Manually modified the above merchant name mapping file to create a better quality mapping. Got 14K merchant names. Grouping merchants who together contribute to 10% transaction amount into 'Others' "
      ]
    },
    {
      "cell_type": "code",
      "metadata": {
        "id": "G_9Sf8QSsShd",
        "colab_type": "code",
        "colab": {}
      },
      "source": [
        "names_mapped = pd.read_excel('MerchantName_Mapping_Nanda.xlsx')"
      ],
      "execution_count": 0,
      "outputs": []
    },
    {
      "cell_type": "code",
      "metadata": {
        "id": "aA-KMdx7YySr",
        "colab_type": "code",
        "outputId": "a3024843-b68d-45e7-a694-6b09d633ec93",
        "colab": {
          "base_uri": "https://localhost:8080/",
          "height": 34
        }
      },
      "source": [
        "names_mapped['key'].nunique()"
      ],
      "execution_count": 0,
      "outputs": [
        {
          "output_type": "execute_result",
          "data": {
            "text/plain": [
              "14914"
            ]
          },
          "metadata": {
            "tags": []
          },
          "execution_count": 106
        }
      ]
    },
    {
      "cell_type": "code",
      "metadata": {
        "id": "kndGx4sacVGH",
        "colab_type": "code",
        "outputId": "16391316-bf59-4114-9af5-c9dce88158ae",
        "colab": {
          "base_uri": "https://localhost:8080/",
          "height": 101
        }
      },
      "source": [
        "Trx_Cleaned.columns, names_mapped.columns"
      ],
      "execution_count": 0,
      "outputs": [
        {
          "output_type": "execute_result",
          "data": {
            "text/plain": [
              "(Index(['PartyID', 'CardType', 'Merchant_Category', 'Merchant_Name',\n",
              "        'Transaction_amount', 'Transaction_Date', 'HasTransacted?',\n",
              "        'WeekOfYear', 'Month', 'DayOfMonth', 'DayOfWeek', 'Weekday/Weekend',\n",
              "        'Merchant_Name_Cleaned', 'Merchant_Gateway', 'Merchant_Name_Cleaned2'],\n",
              "       dtype='object'), Index(['key', 'variable'], dtype='object'))"
            ]
          },
          "metadata": {
            "tags": []
          },
          "execution_count": 107
        }
      ]
    },
    {
      "cell_type": "code",
      "metadata": {
        "id": "7eTkIqsN37un",
        "colab_type": "code",
        "outputId": "add1d653-ec30-4502-da47-3f23c00fd517",
        "colab": {
          "base_uri": "https://localhost:8080/",
          "height": 34
        }
      },
      "source": [
        "Trx_Cleaned.shape, names_mapped.shape"
      ],
      "execution_count": 0,
      "outputs": [
        {
          "output_type": "execute_result",
          "data": {
            "text/plain": [
              "((374035, 15), (25295, 2))"
            ]
          },
          "metadata": {
            "tags": []
          },
          "execution_count": 108
        }
      ]
    },
    {
      "cell_type": "code",
      "metadata": {
        "id": "A-JwJgotcFnT",
        "colab_type": "code",
        "colab": {}
      },
      "source": [
        "Trx_Cleaned = pd.merge(Trx_Cleaned,names_mapped,how = 'left',left_on= 'Merchant_Name_Cleaned2', right_on='variable')"
      ],
      "execution_count": 0,
      "outputs": []
    },
    {
      "cell_type": "code",
      "metadata": {
        "id": "-amI5d1j4l9m",
        "colab_type": "code",
        "outputId": "3b7d94c9-b8ff-4a37-b63b-2fbabd2e25b4",
        "colab": {
          "base_uri": "https://localhost:8080/",
          "height": 34
        }
      },
      "source": [
        "Trx_Cleaned.shape, names_mapped.shape"
      ],
      "execution_count": 0,
      "outputs": [
        {
          "output_type": "execute_result",
          "data": {
            "text/plain": [
              "((374035, 17), (25295, 2))"
            ]
          },
          "metadata": {
            "tags": []
          },
          "execution_count": 110
        }
      ]
    },
    {
      "cell_type": "code",
      "metadata": {
        "id": "QzB_fotKc3Bb",
        "colab_type": "code",
        "colab": {}
      },
      "source": [
        "Trx_Cleaned.rename(columns = {'key':'Merchant_Name_Grouped'},inplace = True)"
      ],
      "execution_count": 0,
      "outputs": []
    },
    {
      "cell_type": "code",
      "metadata": {
        "id": "6rvjbjfVdmbz",
        "colab_type": "code",
        "colab": {}
      },
      "source": [
        "Trx_Cleaned.drop(columns = 'variable', inplace = True)"
      ],
      "execution_count": 0,
      "outputs": []
    },
    {
      "cell_type": "code",
      "metadata": {
        "id": "TdPUQgVHu-Ix",
        "colab_type": "code",
        "colab": {}
      },
      "source": [
        "MerchantSalesCountPct = pd.DataFrame(Trx_Cleaned['Merchant_Name_Grouped'].value_counts(normalize = True)*100)"
      ],
      "execution_count": 0,
      "outputs": []
    },
    {
      "cell_type": "code",
      "metadata": {
        "id": "xl8Zj8QRvJpm",
        "colab_type": "code",
        "outputId": "be0093b1-33c9-4059-dd70-69ab0c827a57",
        "colab": {
          "base_uri": "https://localhost:8080/",
          "height": 402
        }
      },
      "source": [
        "MerchantSalesCountPct"
      ],
      "execution_count": 0,
      "outputs": [
        {
          "output_type": "execute_result",
          "data": {
            "text/html": [
              "<div>\n",
              "<style scoped>\n",
              "    .dataframe tbody tr th:only-of-type {\n",
              "        vertical-align: middle;\n",
              "    }\n",
              "\n",
              "    .dataframe tbody tr th {\n",
              "        vertical-align: top;\n",
              "    }\n",
              "\n",
              "    .dataframe thead th {\n",
              "        text-align: right;\n",
              "    }\n",
              "</style>\n",
              "<table border=\"1\" class=\"dataframe\">\n",
              "  <thead>\n",
              "    <tr style=\"text-align: right;\">\n",
              "      <th></th>\n",
              "      <th>Merchant_Name_Grouped</th>\n",
              "    </tr>\n",
              "  </thead>\n",
              "  <tbody>\n",
              "    <tr>\n",
              "      <th>fairprice</th>\n",
              "      <td>34.359197</td>\n",
              "    </tr>\n",
              "    <tr>\n",
              "      <th>esso</th>\n",
              "      <td>2.743034</td>\n",
              "    </tr>\n",
              "    <tr>\n",
              "      <th>robinsons</th>\n",
              "      <td>2.620284</td>\n",
              "    </tr>\n",
              "    <tr>\n",
              "      <th>caltex upper thomson</th>\n",
              "      <td>1.469530</td>\n",
              "    </tr>\n",
              "    <tr>\n",
              "      <th>giosis qoo</th>\n",
              "      <td>1.404277</td>\n",
              "    </tr>\n",
              "    <tr>\n",
              "      <th>...</th>\n",
              "      <td>...</td>\n",
              "    </tr>\n",
              "    <tr>\n",
              "      <th>pinkplanks</th>\n",
              "      <td>0.000267</td>\n",
              "    </tr>\n",
              "    <tr>\n",
              "      <th>hair venture salon</th>\n",
              "      <td>0.000267</td>\n",
              "    </tr>\n",
              "    <tr>\n",
              "      <th>dasom</th>\n",
              "      <td>0.000267</td>\n",
              "    </tr>\n",
              "    <tr>\n",
              "      <th>siglap optical</th>\n",
              "      <td>0.000267</td>\n",
              "    </tr>\n",
              "    <tr>\n",
              "      <th>dental clini</th>\n",
              "      <td>0.000267</td>\n",
              "    </tr>\n",
              "  </tbody>\n",
              "</table>\n",
              "<p>14914 rows × 1 columns</p>\n",
              "</div>"
            ],
            "text/plain": [
              "                      Merchant_Name_Grouped\n",
              "fairprice                         34.359197\n",
              "esso                               2.743034\n",
              "robinsons                          2.620284\n",
              "caltex upper thomson               1.469530\n",
              "giosis qoo                         1.404277\n",
              "...                                     ...\n",
              "pinkplanks                         0.000267\n",
              "hair venture salon                 0.000267\n",
              "dasom                              0.000267\n",
              "siglap optical                     0.000267\n",
              "dental clini                       0.000267\n",
              "\n",
              "[14914 rows x 1 columns]"
            ]
          },
          "metadata": {
            "tags": []
          },
          "execution_count": 114
        }
      ]
    },
    {
      "cell_type": "code",
      "metadata": {
        "id": "gRxCLZYkz__v",
        "colab_type": "code",
        "outputId": "53ed62d1-300e-46f4-951a-03809803fc2d",
        "colab": {
          "base_uri": "https://localhost:8080/",
          "height": 431
        }
      },
      "source": [
        "MerchantSalesAmtPct = Trx_Cleaned.groupby('Merchant_Name_Grouped').agg({'Transaction_amount':'sum'})\n",
        "MerchantSalesAmtPct"
      ],
      "execution_count": 0,
      "outputs": [
        {
          "output_type": "execute_result",
          "data": {
            "text/html": [
              "<div>\n",
              "<style scoped>\n",
              "    .dataframe tbody tr th:only-of-type {\n",
              "        vertical-align: middle;\n",
              "    }\n",
              "\n",
              "    .dataframe tbody tr th {\n",
              "        vertical-align: top;\n",
              "    }\n",
              "\n",
              "    .dataframe thead th {\n",
              "        text-align: right;\n",
              "    }\n",
              "</style>\n",
              "<table border=\"1\" class=\"dataframe\">\n",
              "  <thead>\n",
              "    <tr style=\"text-align: right;\">\n",
              "      <th></th>\n",
              "      <th>Transaction_amount</th>\n",
              "    </tr>\n",
              "    <tr>\n",
              "      <th>Merchant_Name_Grouped</th>\n",
              "      <th></th>\n",
              "    </tr>\n",
              "  </thead>\n",
              "  <tbody>\n",
              "    <tr>\n",
              "      <th>7-eleven</th>\n",
              "      <td>4153.80</td>\n",
              "    </tr>\n",
              "    <tr>\n",
              "      <th>Aeon Supermarket</th>\n",
              "      <td>11035.30</td>\n",
              "    </tr>\n",
              "    <tr>\n",
              "      <th>Air Asia</th>\n",
              "      <td>3558.38</td>\n",
              "    </tr>\n",
              "    <tr>\n",
              "      <th>Air Berlin</th>\n",
              "      <td>898.89</td>\n",
              "    </tr>\n",
              "    <tr>\n",
              "      <th>Air Canada</th>\n",
              "      <td>11578.49</td>\n",
              "    </tr>\n",
              "    <tr>\n",
              "      <th>...</th>\n",
              "      <td>...</td>\n",
              "    </tr>\n",
              "    <tr>\n",
              "      <th>zupon beauty slimming c</th>\n",
              "      <td>62.49</td>\n",
              "    </tr>\n",
              "    <tr>\n",
              "      <th>zuri express hotel cikarabekasi id</th>\n",
              "      <td>660.41</td>\n",
              "    </tr>\n",
              "    <tr>\n",
              "      <th>zurich int life lt douglas gb</th>\n",
              "      <td>6221.60</td>\n",
              "    </tr>\n",
              "    <tr>\n",
              "      <th>zushi ana causeway bay hkg</th>\n",
              "      <td>244.05</td>\n",
              "    </tr>\n",
              "    <tr>\n",
              "      <th>zynga</th>\n",
              "      <td>134.29</td>\n",
              "    </tr>\n",
              "  </tbody>\n",
              "</table>\n",
              "<p>14914 rows × 1 columns</p>\n",
              "</div>"
            ],
            "text/plain": [
              "                                    Transaction_amount\n",
              "Merchant_Name_Grouped                                 \n",
              "7-eleven                                       4153.80\n",
              "Aeon Supermarket                              11035.30\n",
              "Air Asia                                       3558.38\n",
              "Air Berlin                                      898.89\n",
              "Air Canada                                    11578.49\n",
              "...                                                ...\n",
              "zupon beauty slimming c                          62.49\n",
              "zuri express hotel cikarabekasi id              660.41\n",
              "zurich int life lt douglas gb                  6221.60\n",
              "zushi ana causeway bay hkg                      244.05\n",
              "zynga                                           134.29\n",
              "\n",
              "[14914 rows x 1 columns]"
            ]
          },
          "metadata": {
            "tags": []
          },
          "execution_count": 115
        }
      ]
    },
    {
      "cell_type": "code",
      "metadata": {
        "id": "aFR0sbSu02oG",
        "colab_type": "code",
        "colab": {}
      },
      "source": [
        "MerchantSalesAmtPct.sort_values(by='Transaction_amount',  ascending = False, inplace = True)"
      ],
      "execution_count": 0,
      "outputs": []
    },
    {
      "cell_type": "code",
      "metadata": {
        "id": "Ie3OEl5k1G8x",
        "colab_type": "code",
        "outputId": "136cb772-08b7-481a-a7b4-cdab7f59545c",
        "colab": {
          "base_uri": "https://localhost:8080/",
          "height": 431
        }
      },
      "source": [
        "MerchantSalesAmtPct['PctAmount'] = 100*(MerchantSalesAmtPct['Transaction_amount']/MerchantSalesAmtPct['Transaction_amount'].sum() )\n",
        "MerchantSalesAmtPct['CumulativePctAmount'] = MerchantSalesAmtPct['PctAmount'].cumsum()\n",
        "MerchantSalesAmtPct "
      ],
      "execution_count": 0,
      "outputs": [
        {
          "output_type": "execute_result",
          "data": {
            "text/html": [
              "<div>\n",
              "<style scoped>\n",
              "    .dataframe tbody tr th:only-of-type {\n",
              "        vertical-align: middle;\n",
              "    }\n",
              "\n",
              "    .dataframe tbody tr th {\n",
              "        vertical-align: top;\n",
              "    }\n",
              "\n",
              "    .dataframe thead th {\n",
              "        text-align: right;\n",
              "    }\n",
              "</style>\n",
              "<table border=\"1\" class=\"dataframe\">\n",
              "  <thead>\n",
              "    <tr style=\"text-align: right;\">\n",
              "      <th></th>\n",
              "      <th>Transaction_amount</th>\n",
              "      <th>PctAmount</th>\n",
              "      <th>CumulativePctAmount</th>\n",
              "    </tr>\n",
              "    <tr>\n",
              "      <th>Merchant_Name_Grouped</th>\n",
              "      <th></th>\n",
              "      <th></th>\n",
              "      <th></th>\n",
              "    </tr>\n",
              "  </thead>\n",
              "  <tbody>\n",
              "    <tr>\n",
              "      <th>fairprice</th>\n",
              "      <td>5766136.79</td>\n",
              "      <td>1.144563e+01</td>\n",
              "      <td>11.445630</td>\n",
              "    </tr>\n",
              "    <tr>\n",
              "      <th>ntuc income</th>\n",
              "      <td>5341746.43</td>\n",
              "      <td>1.060323e+01</td>\n",
              "      <td>22.048857</td>\n",
              "    </tr>\n",
              "    <tr>\n",
              "      <th>robinsons</th>\n",
              "      <td>1652569.39</td>\n",
              "      <td>3.280307e+00</td>\n",
              "      <td>25.329164</td>\n",
              "    </tr>\n",
              "    <tr>\n",
              "      <th>esso</th>\n",
              "      <td>732606.05</td>\n",
              "      <td>1.454204e+00</td>\n",
              "      <td>26.783368</td>\n",
              "    </tr>\n",
              "    <tr>\n",
              "      <th>life insurance premium</th>\n",
              "      <td>465441.92</td>\n",
              "      <td>9.238900e-01</td>\n",
              "      <td>27.707258</td>\n",
              "    </tr>\n",
              "    <tr>\n",
              "      <th>...</th>\n",
              "      <td>...</td>\n",
              "      <td>...</td>\n",
              "      <td>...</td>\n",
              "    </tr>\n",
              "    <tr>\n",
              "      <th>jumbo software</th>\n",
              "      <td>1.10</td>\n",
              "      <td>2.183471e-06</td>\n",
              "      <td>99.999996</td>\n",
              "    </tr>\n",
              "    <tr>\n",
              "      <th>keepcalling</th>\n",
              "      <td>0.86</td>\n",
              "      <td>1.707077e-06</td>\n",
              "      <td>99.999998</td>\n",
              "    </tr>\n",
              "    <tr>\n",
              "      <th>bd acct recovery</th>\n",
              "      <td>0.86</td>\n",
              "      <td>1.707077e-06</td>\n",
              "      <td>99.999999</td>\n",
              "    </tr>\n",
              "    <tr>\n",
              "      <th>andrewtong</th>\n",
              "      <td>0.32</td>\n",
              "      <td>6.351916e-07</td>\n",
              "      <td>100.000000</td>\n",
              "    </tr>\n",
              "    <tr>\n",
              "      <th>rudding park hotel harrogate gbr</th>\n",
              "      <td>0.03</td>\n",
              "      <td>5.954921e-08</td>\n",
              "      <td>100.000000</td>\n",
              "    </tr>\n",
              "  </tbody>\n",
              "</table>\n",
              "<p>14914 rows × 3 columns</p>\n",
              "</div>"
            ],
            "text/plain": [
              "                                  Transaction_amount  ...  CumulativePctAmount\n",
              "Merchant_Name_Grouped                                 ...                     \n",
              "fairprice                                 5766136.79  ...            11.445630\n",
              "ntuc income                               5341746.43  ...            22.048857\n",
              "robinsons                                 1652569.39  ...            25.329164\n",
              "esso                                       732606.05  ...            26.783368\n",
              "life insurance premium                     465441.92  ...            27.707258\n",
              "...                                              ...  ...                  ...\n",
              "jumbo software                                  1.10  ...            99.999996\n",
              "keepcalling                                     0.86  ...            99.999998\n",
              "bd acct recovery                                0.86  ...            99.999999\n",
              "andrewtong                                      0.32  ...           100.000000\n",
              "rudding park hotel harrogate gbr                0.03  ...           100.000000\n",
              "\n",
              "[14914 rows x 3 columns]"
            ]
          },
          "metadata": {
            "tags": []
          },
          "execution_count": 117
        }
      ]
    },
    {
      "cell_type": "code",
      "metadata": {
        "id": "vnZ_5-EowEH4",
        "colab_type": "code",
        "outputId": "48f96048-6604-4fc6-8ec2-fc5b95a71e36",
        "colab": {
          "base_uri": "https://localhost:8080/",
          "height": 218
        }
      },
      "source": [
        "MerchantSalesPct['Merchant_Name_Grouped'].cumsum()"
      ],
      "execution_count": 0,
      "outputs": [
        {
          "output_type": "execute_result",
          "data": {
            "text/plain": [
              "fairprice                34.359197\n",
              "esso                     37.102231\n",
              "robinsons                39.722514\n",
              "caltex upper thomson     41.192044\n",
              "giosis qoo               42.596322\n",
              "                           ...    \n",
              "pinkplanks               99.998930\n",
              "hair venture salon       99.999198\n",
              "dasom                    99.999465\n",
              "siglap optical           99.999733\n",
              "dental clini            100.000000\n",
              "Name: Merchant_Name_Grouped, Length: 14914, dtype: float64"
            ]
          },
          "metadata": {
            "tags": []
          },
          "execution_count": 118
        }
      ]
    },
    {
      "cell_type": "code",
      "metadata": {
        "id": "vw5fyLgchDYd",
        "colab_type": "code",
        "outputId": "15e61f8d-ec3b-4e83-e26b-d236b74867b6",
        "colab": {
          "base_uri": "https://localhost:8080/",
          "height": 151
        }
      },
      "source": [
        "MerchantSalesPct[MerchantSalesPct['Merchant_Name_Grouped'].cumsum()>90].index"
      ],
      "execution_count": 0,
      "outputs": [
        {
          "output_type": "execute_result",
          "data": {
            "text/plain": [
              "Index(['action city', 'beppu menkan rstn s', 'the shilla duty f incheon kr',\n",
              "       'mst golf', 'jibiru pte', 'nice vision optical', 'china one', 'phspl s',\n",
              "       'singkids pte', 'soon lee',\n",
              "       ...\n",
              "       'love n show pte', 'caba s since taipei city tw', 'hte s pte',\n",
              "       'iggymcpig', 'internetgam', 'pinkplanks', 'hair venture salon', 'dasom',\n",
              "       'siglap optical', 'dental clini'],\n",
              "      dtype='object', length=13559)"
            ]
          },
          "metadata": {
            "tags": []
          },
          "execution_count": 119
        }
      ]
    },
    {
      "cell_type": "code",
      "metadata": {
        "id": "4ieCPX_81wxl",
        "colab_type": "code",
        "outputId": "ec09b1f5-77b2-4d97-919d-82962daf5409",
        "colab": {
          "base_uri": "https://localhost:8080/",
          "height": 151
        }
      },
      "source": [
        "MerchantSalesAmtPct[MerchantSalesAmtPct['CumulativePctAmount']>90].index"
      ],
      "execution_count": 0,
      "outputs": [
        {
          "output_type": "execute_result",
          "data": {
            "text/plain": [
              "Index(['viator gb', 'white link', 'tambuah mas indonesian re', 'etna',\n",
              "       'chrome hearts taipei tw', 'kotobuki restaurant', 'metropolitan ymca',\n",
              "       'conference online', 'stargek private', 'nana hiso hotel bangkok tha',\n",
              "       ...\n",
              "       'digitalchemy', 'distinctdev', 'redblox games', 'javanshir',\n",
              "       'grigore cretu', 'jumbo software', 'keepcalling', 'bd acct recovery',\n",
              "       'andrewtong', 'rudding park hotel harrogate gbr'],\n",
              "      dtype='object', name='Merchant_Name_Grouped', length=12611)"
            ]
          },
          "metadata": {
            "tags": []
          },
          "execution_count": 120
        }
      ]
    },
    {
      "cell_type": "code",
      "metadata": {
        "id": "a2ocoUDvfBXz",
        "colab_type": "code",
        "colab": {}
      },
      "source": [
        "Trx_Cleaned['Merchant_Name_Grouped2'] = Trx_Cleaned['Merchant_Name_Grouped']\n",
        "Trx_Cleaned.loc[Trx_Cleaned['Merchant_Name_Grouped2'].isin(MerchantSalesAmtPct[MerchantSalesAmtPct['CumulativePctAmount']>90].index),'Merchant_Name_Grouped2'] = 'Others'"
      ],
      "execution_count": 0,
      "outputs": []
    },
    {
      "cell_type": "code",
      "metadata": {
        "id": "siUHnnCXf05K",
        "colab_type": "code",
        "outputId": "984dd7c7-51fe-48eb-aa9f-380b9a38c98d",
        "colab": {
          "base_uri": "https://localhost:8080/",
          "height": 34
        }
      },
      "source": [
        "Trx_Cleaned['Merchant_Name_Grouped2'].nunique() "
      ],
      "execution_count": 0,
      "outputs": [
        {
          "output_type": "execute_result",
          "data": {
            "text/plain": [
              "2304"
            ]
          },
          "metadata": {
            "tags": []
          },
          "execution_count": 122
        }
      ]
    },
    {
      "cell_type": "code",
      "metadata": {
        "id": "L3yFW2u62sCN",
        "colab_type": "code",
        "outputId": "1b22c2e6-8c66-4d49-a54e-ad70c0bb790b",
        "colab": {
          "base_uri": "https://localhost:8080/",
          "height": 892
        }
      },
      "source": [
        "Trx_Cleaned"
      ],
      "execution_count": 0,
      "outputs": [
        {
          "output_type": "execute_result",
          "data": {
            "text/html": [
              "<div>\n",
              "<style scoped>\n",
              "    .dataframe tbody tr th:only-of-type {\n",
              "        vertical-align: middle;\n",
              "    }\n",
              "\n",
              "    .dataframe tbody tr th {\n",
              "        vertical-align: top;\n",
              "    }\n",
              "\n",
              "    .dataframe thead th {\n",
              "        text-align: right;\n",
              "    }\n",
              "</style>\n",
              "<table border=\"1\" class=\"dataframe\">\n",
              "  <thead>\n",
              "    <tr style=\"text-align: right;\">\n",
              "      <th></th>\n",
              "      <th>PartyID</th>\n",
              "      <th>CardType</th>\n",
              "      <th>Merchant_Category</th>\n",
              "      <th>Merchant_Name</th>\n",
              "      <th>Transaction_amount</th>\n",
              "      <th>Transaction_Date</th>\n",
              "      <th>HasTransacted?</th>\n",
              "      <th>WeekOfYear</th>\n",
              "      <th>Month</th>\n",
              "      <th>DayOfMonth</th>\n",
              "      <th>DayOfWeek</th>\n",
              "      <th>Weekday/Weekend</th>\n",
              "      <th>Merchant_Name_Cleaned</th>\n",
              "      <th>Merchant_Gateway</th>\n",
              "      <th>Merchant_Name_Cleaned2</th>\n",
              "      <th>Merchant_Name_Grouped</th>\n",
              "      <th>Merchant_Name_Grouped2</th>\n",
              "    </tr>\n",
              "  </thead>\n",
              "  <tbody>\n",
              "    <tr>\n",
              "      <th>0</th>\n",
              "      <td>174884</td>\n",
              "      <td>Co-Brand</td>\n",
              "      <td>RESTAURANTS-BARS</td>\n",
              "      <td>LONG BEACH KING SINGAPORE SG</td>\n",
              "      <td>79.43</td>\n",
              "      <td>41699</td>\n",
              "      <td>1</td>\n",
              "      <td>9</td>\n",
              "      <td>3</td>\n",
              "      <td>1</td>\n",
              "      <td>7</td>\n",
              "      <td>Weekend</td>\n",
              "      <td>LONG BEACH KING</td>\n",
              "      <td>NaN</td>\n",
              "      <td>long beach king</td>\n",
              "      <td>long beach king</td>\n",
              "      <td>long beach king</td>\n",
              "    </tr>\n",
              "    <tr>\n",
              "      <th>1</th>\n",
              "      <td>174884</td>\n",
              "      <td>Co-Brand</td>\n",
              "      <td>FOOD STORES-WAREHOUSE</td>\n",
              "      <td>FAIRPRICE FINEST-THOMSON SINGAPORE SG</td>\n",
              "      <td>44.50</td>\n",
              "      <td>41705</td>\n",
              "      <td>1</td>\n",
              "      <td>10</td>\n",
              "      <td>3</td>\n",
              "      <td>7</td>\n",
              "      <td>6</td>\n",
              "      <td>Weekday</td>\n",
              "      <td>FAIRPRICE FINEST</td>\n",
              "      <td>NaN</td>\n",
              "      <td>fairprice finest</td>\n",
              "      <td>fairprice</td>\n",
              "      <td>fairprice</td>\n",
              "    </tr>\n",
              "    <tr>\n",
              "      <th>2</th>\n",
              "      <td>174884</td>\n",
              "      <td>Co-Brand</td>\n",
              "      <td>TRAVEL AGENCIES</td>\n",
              "      <td>AGODA.COM INTERNET SG</td>\n",
              "      <td>1427.46</td>\n",
              "      <td>41706</td>\n",
              "      <td>1</td>\n",
              "      <td>10</td>\n",
              "      <td>3</td>\n",
              "      <td>8</td>\n",
              "      <td>7</td>\n",
              "      <td>Weekend</td>\n",
              "      <td>AGODA.COM INTERNET SG</td>\n",
              "      <td>NaN</td>\n",
              "      <td>agoda</td>\n",
              "      <td>agoda</td>\n",
              "      <td>agoda</td>\n",
              "    </tr>\n",
              "    <tr>\n",
              "      <th>3</th>\n",
              "      <td>174884</td>\n",
              "      <td>Co-Brand</td>\n",
              "      <td>FOOD STORES-WAREHOUSE</td>\n",
              "      <td>FAIRPRICE XTRA-AMK SINGAPORE SG</td>\n",
              "      <td>25.00</td>\n",
              "      <td>41707</td>\n",
              "      <td>1</td>\n",
              "      <td>11</td>\n",
              "      <td>3</td>\n",
              "      <td>9</td>\n",
              "      <td>1</td>\n",
              "      <td>Weekend</td>\n",
              "      <td>FAIRPRICE XTRA</td>\n",
              "      <td>NaN</td>\n",
              "      <td>fairprice xtra</td>\n",
              "      <td>fairprice</td>\n",
              "      <td>fairprice</td>\n",
              "    </tr>\n",
              "    <tr>\n",
              "      <th>4</th>\n",
              "      <td>174884</td>\n",
              "      <td>Co-Brand</td>\n",
              "      <td>UTILITIES</td>\n",
              "      <td>HELLO! AMK HUB SINGAPORE SG</td>\n",
              "      <td>308.86</td>\n",
              "      <td>41707</td>\n",
              "      <td>1</td>\n",
              "      <td>11</td>\n",
              "      <td>3</td>\n",
              "      <td>9</td>\n",
              "      <td>1</td>\n",
              "      <td>Weekend</td>\n",
              "      <td>HELLO! AMK HUB</td>\n",
              "      <td>NaN</td>\n",
              "      <td>hello amk hub</td>\n",
              "      <td>hello amk hub</td>\n",
              "      <td>hello amk hub</td>\n",
              "    </tr>\n",
              "    <tr>\n",
              "      <th>...</th>\n",
              "      <td>...</td>\n",
              "      <td>...</td>\n",
              "      <td>...</td>\n",
              "      <td>...</td>\n",
              "      <td>...</td>\n",
              "      <td>...</td>\n",
              "      <td>...</td>\n",
              "      <td>...</td>\n",
              "      <td>...</td>\n",
              "      <td>...</td>\n",
              "      <td>...</td>\n",
              "      <td>...</td>\n",
              "      <td>...</td>\n",
              "      <td>...</td>\n",
              "      <td>...</td>\n",
              "      <td>...</td>\n",
              "      <td>...</td>\n",
              "    </tr>\n",
              "    <tr>\n",
              "      <th>374030</th>\n",
              "      <td>86556083</td>\n",
              "      <td>Co-Brand</td>\n",
              "      <td>FOOD STORES-WAREHOUSE</td>\n",
              "      <td>NTUC FP-HOUGANG A SINGAPORE SG</td>\n",
              "      <td>53.72</td>\n",
              "      <td>41790</td>\n",
              "      <td>1</td>\n",
              "      <td>22</td>\n",
              "      <td>5</td>\n",
              "      <td>31</td>\n",
              "      <td>7</td>\n",
              "      <td>Weekend</td>\n",
              "      <td>NTUC FP</td>\n",
              "      <td>NaN</td>\n",
              "      <td>ntuc fp</td>\n",
              "      <td>fairprice</td>\n",
              "      <td>fairprice</td>\n",
              "    </tr>\n",
              "    <tr>\n",
              "      <th>374031</th>\n",
              "      <td>86556083</td>\n",
              "      <td>Co-Brand</td>\n",
              "      <td>CLOTHING STORES</td>\n",
              "      <td>GIOSIS(QOO10) SINGAPORE SG</td>\n",
              "      <td>5.44</td>\n",
              "      <td>41790</td>\n",
              "      <td>1</td>\n",
              "      <td>22</td>\n",
              "      <td>5</td>\n",
              "      <td>31</td>\n",
              "      <td>7</td>\n",
              "      <td>Weekend</td>\n",
              "      <td>GIOSIS(QOO10)</td>\n",
              "      <td>NaN</td>\n",
              "      <td>giosis qoo</td>\n",
              "      <td>giosis qoo</td>\n",
              "      <td>giosis qoo</td>\n",
              "    </tr>\n",
              "    <tr>\n",
              "      <th>374032</th>\n",
              "      <td>86607425</td>\n",
              "      <td>Co-Brand</td>\n",
              "      <td>DEPARTMENT STORES</td>\n",
              "      <td>ROBINSONS - RAFFLES CITY SINGAPORE SG</td>\n",
              "      <td>6.44</td>\n",
              "      <td>41790</td>\n",
              "      <td>1</td>\n",
              "      <td>22</td>\n",
              "      <td>5</td>\n",
              "      <td>31</td>\n",
              "      <td>7</td>\n",
              "      <td>Weekend</td>\n",
              "      <td>ROBINSONS</td>\n",
              "      <td>NaN</td>\n",
              "      <td>robinsons</td>\n",
              "      <td>robinsons</td>\n",
              "      <td>robinsons</td>\n",
              "    </tr>\n",
              "    <tr>\n",
              "      <th>374033</th>\n",
              "      <td>86607425</td>\n",
              "      <td>Co-Brand</td>\n",
              "      <td>DEPARTMENT STORES</td>\n",
              "      <td>ROBINSONS - RAFFLES CITY SINGAPORE SG</td>\n",
              "      <td>813.96</td>\n",
              "      <td>41790</td>\n",
              "      <td>1</td>\n",
              "      <td>22</td>\n",
              "      <td>5</td>\n",
              "      <td>31</td>\n",
              "      <td>7</td>\n",
              "      <td>Weekend</td>\n",
              "      <td>ROBINSONS</td>\n",
              "      <td>NaN</td>\n",
              "      <td>robinsons</td>\n",
              "      <td>robinsons</td>\n",
              "      <td>robinsons</td>\n",
              "    </tr>\n",
              "    <tr>\n",
              "      <th>374034</th>\n",
              "      <td>86607425</td>\n",
              "      <td>Co-Brand</td>\n",
              "      <td>DEPARTMENT STORES</td>\n",
              "      <td>ROBINSONS - RAFFLES CITY SINGAPORE SG</td>\n",
              "      <td>5.51</td>\n",
              "      <td>41790</td>\n",
              "      <td>1</td>\n",
              "      <td>22</td>\n",
              "      <td>5</td>\n",
              "      <td>31</td>\n",
              "      <td>7</td>\n",
              "      <td>Weekend</td>\n",
              "      <td>ROBINSONS</td>\n",
              "      <td>NaN</td>\n",
              "      <td>robinsons</td>\n",
              "      <td>robinsons</td>\n",
              "      <td>robinsons</td>\n",
              "    </tr>\n",
              "  </tbody>\n",
              "</table>\n",
              "<p>374035 rows × 17 columns</p>\n",
              "</div>"
            ],
            "text/plain": [
              "         PartyID  CardType  ... Merchant_Name_Grouped Merchant_Name_Grouped2\n",
              "0         174884  Co-Brand  ...       long beach king        long beach king\n",
              "1         174884  Co-Brand  ...             fairprice              fairprice\n",
              "2         174884  Co-Brand  ...                 agoda                  agoda\n",
              "3         174884  Co-Brand  ...             fairprice              fairprice\n",
              "4         174884  Co-Brand  ...         hello amk hub          hello amk hub\n",
              "...          ...       ...  ...                   ...                    ...\n",
              "374030  86556083  Co-Brand  ...             fairprice              fairprice\n",
              "374031  86556083  Co-Brand  ...            giosis qoo             giosis qoo\n",
              "374032  86607425  Co-Brand  ...             robinsons              robinsons\n",
              "374033  86607425  Co-Brand  ...             robinsons              robinsons\n",
              "374034  86607425  Co-Brand  ...             robinsons              robinsons\n",
              "\n",
              "[374035 rows x 17 columns]"
            ]
          },
          "metadata": {
            "tags": []
          },
          "execution_count": 123
        }
      ]
    },
    {
      "cell_type": "code",
      "metadata": {
        "id": "DmbC47v52s0Q",
        "colab_type": "code",
        "outputId": "82ca6252-0b02-4ff0-f76a-d61e401854be",
        "colab": {
          "base_uri": "https://localhost:8080/",
          "height": 151
        }
      },
      "source": [
        "Trx_Cleaned['Merchant_Category'].unique()"
      ],
      "execution_count": 0,
      "outputs": [
        {
          "output_type": "execute_result",
          "data": {
            "text/plain": [
              "array(['RESTAURANTS-BARS', 'FOOD STORES-WAREHOUSE', 'TRAVEL AGENCIES',\n",
              "       'UTILITIES', 'MAIL ORDER', 'GAS STATIONS', 'OTHER TRANSPORT',\n",
              "       'OTHER RETAIL', 'INTERIOR FURNISHINGS', 'VEHICLES', 'HARDWARE',\n",
              "       'CLOTHING STORES', 'OTHER SERVICES', 'HEALTH CARE', 'RECREATION',\n",
              "       'DEPARTMENT STORES', 'DRUG STORES', 'ELECTRIC-APPLIANCE',\n",
              "       'SPORTING-TOY STORES', 'PROFESSIONAL SERVICES', 'AIRLINE',\n",
              "       'HOTEL-MOTEL', 'EDUCATION', 'AUTO RENTAL', 'QUASI CASH', 'Others',\n",
              "       'REPAIR SHOPS', 'DISCOUNT STORES'], dtype=object)"
            ]
          },
          "metadata": {
            "tags": []
          },
          "execution_count": 124
        }
      ]
    },
    {
      "cell_type": "code",
      "metadata": {
        "id": "qoS96Ffb5erc",
        "colab_type": "code",
        "colab": {}
      },
      "source": [
        "#Trx_Cleaned.to_csv('Transactions_Cleaned_Nanda.csv', index = False)"
      ],
      "execution_count": 0,
      "outputs": []
    },
    {
      "cell_type": "code",
      "metadata": {
        "id": "fp1xu1UZ5wJC",
        "colab_type": "code",
        "colab": {}
      },
      "source": [
        "#MerchantSalesAmtPct.to_excel('MerchantSalesAmountPct.xlsx', index = True)"
      ],
      "execution_count": 0,
      "outputs": []
    }
  ]
}