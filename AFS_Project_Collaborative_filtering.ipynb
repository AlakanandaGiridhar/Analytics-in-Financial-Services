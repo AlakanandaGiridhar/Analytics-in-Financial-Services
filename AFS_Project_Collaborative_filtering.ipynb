{
  "nbformat": 4,
  "nbformat_minor": 0,
  "metadata": {
    "colab": {
      "name": "AFS Project - Collaborative filtering",
      "provenance": [],
      "collapsed_sections": [
        "b2jsEAu9q972",
        "G6rUJEriq97_",
        "vLD3AaXDq98G"
      ]
    },
    "kernelspec": {
      "name": "python3",
      "display_name": "Python 3"
    }
  },
  "cells": [
    {
      "cell_type": "code",
      "metadata": {
        "id": "5b5MMcEJrQE1",
        "colab_type": "code",
        "colab": {}
      },
      "source": [
        "import pandas as pd\n",
        "import numpy as np"
      ],
      "execution_count": 0,
      "outputs": []
    },
    {
      "cell_type": "code",
      "metadata": {
        "id": "bERIpj_c3GSU",
        "colab_type": "code",
        "outputId": "d99fb024-b29c-4fef-82d4-0a4f6bdb2d0b",
        "colab": {
          "base_uri": "https://localhost:8080/",
          "height": 252
        }
      },
      "source": [
        "!pip install scikit-surprise"
      ],
      "execution_count": 0,
      "outputs": [
        {
          "output_type": "stream",
          "text": [
            "Collecting scikit-surprise\n",
            "\u001b[?25l  Downloading https://files.pythonhosted.org/packages/f5/da/b5700d96495fb4f092be497f02492768a3d96a3f4fa2ae7dea46d4081cfa/scikit-surprise-1.1.0.tar.gz (6.4MB)\n",
            "\u001b[K     |████████████████████████████████| 6.5MB 2.7MB/s \n",
            "\u001b[?25hRequirement already satisfied: joblib>=0.11 in /usr/local/lib/python3.6/dist-packages (from scikit-surprise) (0.14.1)\n",
            "Requirement already satisfied: numpy>=1.11.2 in /usr/local/lib/python3.6/dist-packages (from scikit-surprise) (1.18.2)\n",
            "Requirement already satisfied: scipy>=1.0.0 in /usr/local/lib/python3.6/dist-packages (from scikit-surprise) (1.4.1)\n",
            "Requirement already satisfied: six>=1.10.0 in /usr/local/lib/python3.6/dist-packages (from scikit-surprise) (1.12.0)\n",
            "Building wheels for collected packages: scikit-surprise\n",
            "  Building wheel for scikit-surprise (setup.py) ... \u001b[?25l\u001b[?25hdone\n",
            "  Created wheel for scikit-surprise: filename=scikit_surprise-1.1.0-cp36-cp36m-linux_x86_64.whl size=1678568 sha256=0c04efd30a85bd953aa4be3547fbcc91cf5337f17054a80b8936db8a6aae1241\n",
            "  Stored in directory: /root/.cache/pip/wheels/cc/fa/8c/16c93fccce688ae1bde7d979ff102f7bee980d9cfeb8641bcf\n",
            "Successfully built scikit-surprise\n",
            "Installing collected packages: scikit-surprise\n",
            "Successfully installed scikit-surprise-1.1.0\n"
          ],
          "name": "stdout"
        }
      ]
    },
    {
      "cell_type": "code",
      "metadata": {
        "id": "cYmqrjWX2ei4",
        "colab_type": "code",
        "colab": {}
      },
      "source": [
        "import surprise\n",
        "from surprise import SVD, SVDpp, SlopeOne, KNNWithMeans\n",
        "from surprise import Reader, Dataset\n",
        "from surprise.model_selection import train_test_split, RandomizedSearchCV, GridSearchCV\n",
        "from surprise import accuracy\n",
        "from surprise.accuracy import rmse"
      ],
      "execution_count": 0,
      "outputs": []
    },
    {
      "cell_type": "code",
      "metadata": {
        "id": "Ul4QGggwG4O6",
        "colab_type": "code",
        "colab": {}
      },
      "source": [
        "import pickle"
      ],
      "execution_count": 0,
      "outputs": []
    },
    {
      "cell_type": "code",
      "metadata": {
        "id": "mKwyg1dPDdP9",
        "colab_type": "code",
        "colab": {}
      },
      "source": [
        "from sklearn import model_selection"
      ],
      "execution_count": 0,
      "outputs": []
    },
    {
      "cell_type": "code",
      "metadata": {
        "id": "jXhOtmoduvbZ",
        "colab_type": "code",
        "outputId": "0f3130d5-ff82-4aba-9fb0-1971fe6f474c",
        "colab": {
          "base_uri": "https://localhost:8080/",
          "height": 121
        }
      },
      "source": [
        "import os\n",
        "from google.colab import drive\n",
        "drive.mount('/content/gdrive')"
      ],
      "execution_count": 0,
      "outputs": [
        {
          "output_type": "stream",
          "text": [
            "Go to this URL in a browser: https://accounts.google.com/o/oauth2/auth?client_id=947318989803-6bn6qk8qdgf4n4g3pfee6491hc0brc4i.apps.googleusercontent.com&redirect_uri=urn%3aietf%3awg%3aoauth%3a2.0%3aoob&response_type=code&scope=email%20https%3a%2f%2fwww.googleapis.com%2fauth%2fdocs.test%20https%3a%2f%2fwww.googleapis.com%2fauth%2fdrive%20https%3a%2f%2fwww.googleapis.com%2fauth%2fdrive.photos.readonly%20https%3a%2f%2fwww.googleapis.com%2fauth%2fpeopleapi.readonly\n",
            "\n",
            "Enter your authorization code:\n",
            "··········\n",
            "Mounted at /content/gdrive\n"
          ],
          "name": "stdout"
        }
      ]
    },
    {
      "cell_type": "code",
      "metadata": {
        "id": "hXGCivqhuzP9",
        "colab_type": "code",
        "colab": {}
      },
      "source": [
        "os.chdir('/content/gdrive/My Drive/Analytics in Financial Services Project')"
      ],
      "execution_count": 0,
      "outputs": []
    },
    {
      "cell_type": "code",
      "metadata": {
        "id": "pQgNZ8Z_vAYT",
        "colab_type": "code",
        "outputId": "5325f671-8613-48f0-aaac-48b297c7cde6",
        "colab": {
          "base_uri": "https://localhost:8080/",
          "height": 34
        }
      },
      "source": [
        "os.getcwd()"
      ],
      "execution_count": 0,
      "outputs": [
        {
          "output_type": "execute_result",
          "data": {
            "text/plain": [
              "'/content/gdrive/My Drive/Analytics in Financial Services Project'"
            ]
          },
          "metadata": {
            "tags": []
          },
          "execution_count": 8
        }
      ]
    },
    {
      "cell_type": "markdown",
      "metadata": {
        "id": "3uDwlNsTEBAH",
        "colab_type": "text"
      },
      "source": [
        "# Reading Datasets"
      ]
    },
    {
      "cell_type": "code",
      "metadata": {
        "id": "zTPgwpzZDd7M",
        "colab_type": "code",
        "colab": {}
      },
      "source": [
        "transactions = pd.read_csv('Transaction_Final.csv')"
      ],
      "execution_count": 0,
      "outputs": []
    },
    {
      "cell_type": "code",
      "metadata": {
        "id": "SXbybra1EMLf",
        "colab_type": "code",
        "colab": {}
      },
      "source": [
        "demography_high = pd.read_csv('High_RFMSegment_Final.csv')"
      ],
      "execution_count": 0,
      "outputs": []
    },
    {
      "cell_type": "code",
      "metadata": {
        "id": "iGqKJXsCEqHo",
        "colab_type": "code",
        "outputId": "3f8ebad1-99fc-4ce4-ab09-74f80608005b",
        "colab": {
          "base_uri": "https://localhost:8080/",
          "height": 50
        }
      },
      "source": [
        "txn_demo_high = pd.read_csv('HighRFMSegment_Transactions_Join.csv')"
      ],
      "execution_count": 0,
      "outputs": [
        {
          "output_type": "stream",
          "text": [
            "/usr/local/lib/python3.6/dist-packages/IPython/core/interactiveshell.py:2718: DtypeWarning: Columns (18) have mixed types.Specify dtype option on import or set low_memory=False.\n",
            "  interactivity=interactivity, compiler=compiler, result=result)\n"
          ],
          "name": "stderr"
        }
      ]
    },
    {
      "cell_type": "code",
      "metadata": {
        "id": "jmwxseaMV78m",
        "colab_type": "code",
        "outputId": "9bba876f-50e7-462d-bc31-e31ce5ad72df",
        "colab": {
          "base_uri": "https://localhost:8080/",
          "height": 34
        }
      },
      "source": [
        "txn_demo_high.columns[17]"
      ],
      "execution_count": 0,
      "outputs": [
        {
          "output_type": "execute_result",
          "data": {
            "text/plain": [
              "'CreditLimitBand'"
            ]
          },
          "metadata": {
            "tags": []
          },
          "execution_count": 14
        }
      ]
    },
    {
      "cell_type": "code",
      "metadata": {
        "id": "Zigm96jlWJM5",
        "colab_type": "code",
        "outputId": "21be3493-22c2-4085-c084-bfdd7ae684e6",
        "colab": {
          "base_uri": "https://localhost:8080/",
          "height": 84
        }
      },
      "source": [
        "txn_demo_high['CreditLimitBand'].unique()"
      ],
      "execution_count": 0,
      "outputs": [
        {
          "output_type": "execute_result",
          "data": {
            "text/plain": [
              "array(['01 (< 10)K', '02 (10 - 20)K', '03 (20 - 30)K', '05 (40 - 50)K',\n",
              "       '04 (30 - 40)K', '11 (10 - 150)K', '07 (60 - 70)K',\n",
              "       '10 (90 - 100)K', '14 (unknown)', '09 (80 - 90)K', '06 (50 - 60)K',\n",
              "       '08 (70 - 80)K', '13 (>= 200)K', '12 (150 - 200)K'], dtype=object)"
            ]
          },
          "metadata": {
            "tags": []
          },
          "execution_count": 15
        }
      ]
    },
    {
      "cell_type": "code",
      "metadata": {
        "id": "DzY8tEj5ES5U",
        "colab_type": "code",
        "outputId": "82c51d97-ed27-4951-a71d-c1eb1442c951",
        "colab": {
          "base_uri": "https://localhost:8080/",
          "height": 34
        }
      },
      "source": [
        "transactions.shape, demography_high.shape,txn_demo_high.shape"
      ],
      "execution_count": 0,
      "outputs": [
        {
          "output_type": "execute_result",
          "data": {
            "text/plain": [
              "((374035, 13), (6414, 21), (242853, 33))"
            ]
          },
          "metadata": {
            "tags": []
          },
          "execution_count": 11
        }
      ]
    },
    {
      "cell_type": "code",
      "metadata": {
        "id": "MvIFsoaMFkMH",
        "colab_type": "code",
        "outputId": "5ba512d3-83a9-4603-fabc-924a8ac365e6",
        "colab": {
          "base_uri": "https://localhost:8080/",
          "height": 266
        }
      },
      "source": [
        "transactions.head()"
      ],
      "execution_count": 0,
      "outputs": [
        {
          "output_type": "execute_result",
          "data": {
            "text/html": [
              "<div>\n",
              "<style scoped>\n",
              "    .dataframe tbody tr th:only-of-type {\n",
              "        vertical-align: middle;\n",
              "    }\n",
              "\n",
              "    .dataframe tbody tr th {\n",
              "        vertical-align: top;\n",
              "    }\n",
              "\n",
              "    .dataframe thead th {\n",
              "        text-align: right;\n",
              "    }\n",
              "</style>\n",
              "<table border=\"1\" class=\"dataframe\">\n",
              "  <thead>\n",
              "    <tr style=\"text-align: right;\">\n",
              "      <th></th>\n",
              "      <th>PartyID</th>\n",
              "      <th>CardType</th>\n",
              "      <th>Merchant_Category</th>\n",
              "      <th>Merchant_Name_Cleaned</th>\n",
              "      <th>Transaction_amount</th>\n",
              "      <th>Transaction_Date</th>\n",
              "      <th>HasTransacted?</th>\n",
              "      <th>WeekOfYear</th>\n",
              "      <th>Month</th>\n",
              "      <th>DayOfMonth</th>\n",
              "      <th>DayOfWeek</th>\n",
              "      <th>Weekday/Weekend</th>\n",
              "      <th>Merchant_Gateway</th>\n",
              "    </tr>\n",
              "  </thead>\n",
              "  <tbody>\n",
              "    <tr>\n",
              "      <th>0</th>\n",
              "      <td>174884</td>\n",
              "      <td>Co-Brand</td>\n",
              "      <td>RESTAURANTS-BARS</td>\n",
              "      <td>long beach king</td>\n",
              "      <td>79.43</td>\n",
              "      <td>41699</td>\n",
              "      <td>1</td>\n",
              "      <td>9</td>\n",
              "      <td>3</td>\n",
              "      <td>1</td>\n",
              "      <td>7</td>\n",
              "      <td>Weekend</td>\n",
              "      <td>NaN</td>\n",
              "    </tr>\n",
              "    <tr>\n",
              "      <th>1</th>\n",
              "      <td>174884</td>\n",
              "      <td>Co-Brand</td>\n",
              "      <td>FOOD STORES-WAREHOUSE</td>\n",
              "      <td>fairprice</td>\n",
              "      <td>44.50</td>\n",
              "      <td>41705</td>\n",
              "      <td>1</td>\n",
              "      <td>10</td>\n",
              "      <td>3</td>\n",
              "      <td>7</td>\n",
              "      <td>6</td>\n",
              "      <td>Weekday</td>\n",
              "      <td>NaN</td>\n",
              "    </tr>\n",
              "    <tr>\n",
              "      <th>2</th>\n",
              "      <td>174884</td>\n",
              "      <td>Co-Brand</td>\n",
              "      <td>TRAVEL AGENCIES</td>\n",
              "      <td>agoda</td>\n",
              "      <td>1427.46</td>\n",
              "      <td>41706</td>\n",
              "      <td>1</td>\n",
              "      <td>10</td>\n",
              "      <td>3</td>\n",
              "      <td>8</td>\n",
              "      <td>7</td>\n",
              "      <td>Weekend</td>\n",
              "      <td>NaN</td>\n",
              "    </tr>\n",
              "    <tr>\n",
              "      <th>3</th>\n",
              "      <td>174884</td>\n",
              "      <td>Co-Brand</td>\n",
              "      <td>FOOD STORES-WAREHOUSE</td>\n",
              "      <td>fairprice</td>\n",
              "      <td>25.00</td>\n",
              "      <td>41707</td>\n",
              "      <td>1</td>\n",
              "      <td>11</td>\n",
              "      <td>3</td>\n",
              "      <td>9</td>\n",
              "      <td>1</td>\n",
              "      <td>Weekend</td>\n",
              "      <td>NaN</td>\n",
              "    </tr>\n",
              "    <tr>\n",
              "      <th>4</th>\n",
              "      <td>174884</td>\n",
              "      <td>Co-Brand</td>\n",
              "      <td>UTILITIES</td>\n",
              "      <td>hello amk hub</td>\n",
              "      <td>308.86</td>\n",
              "      <td>41707</td>\n",
              "      <td>1</td>\n",
              "      <td>11</td>\n",
              "      <td>3</td>\n",
              "      <td>9</td>\n",
              "      <td>1</td>\n",
              "      <td>Weekend</td>\n",
              "      <td>NaN</td>\n",
              "    </tr>\n",
              "  </tbody>\n",
              "</table>\n",
              "</div>"
            ],
            "text/plain": [
              "   PartyID  CardType  ... Weekday/Weekend Merchant_Gateway\n",
              "0   174884  Co-Brand  ...         Weekend              NaN\n",
              "1   174884  Co-Brand  ...         Weekday              NaN\n",
              "2   174884  Co-Brand  ...         Weekend              NaN\n",
              "3   174884  Co-Brand  ...         Weekend              NaN\n",
              "4   174884  Co-Brand  ...         Weekend              NaN\n",
              "\n",
              "[5 rows x 13 columns]"
            ]
          },
          "metadata": {
            "tags": []
          },
          "execution_count": 11
        }
      ]
    },
    {
      "cell_type": "code",
      "metadata": {
        "id": "THAX4Mn8Fv5b",
        "colab_type": "code",
        "outputId": "18133c54-3fd2-4b27-c998-706936e6320f",
        "colab": {
          "base_uri": "https://localhost:8080/",
          "height": 299
        }
      },
      "source": [
        "txn_demo_high.head()"
      ],
      "execution_count": 0,
      "outputs": [
        {
          "output_type": "execute_result",
          "data": {
            "text/html": [
              "<div>\n",
              "<style scoped>\n",
              "    .dataframe tbody tr th:only-of-type {\n",
              "        vertical-align: middle;\n",
              "    }\n",
              "\n",
              "    .dataframe tbody tr th {\n",
              "        vertical-align: top;\n",
              "    }\n",
              "\n",
              "    .dataframe thead th {\n",
              "        text-align: right;\n",
              "    }\n",
              "</style>\n",
              "<table border=\"1\" class=\"dataframe\">\n",
              "  <thead>\n",
              "    <tr style=\"text-align: right;\">\n",
              "      <th></th>\n",
              "      <th>PartyID</th>\n",
              "      <th>PurchaseFrequency</th>\n",
              "      <th>CardType_nunique</th>\n",
              "      <th>Merchant_Category_nunique</th>\n",
              "      <th>Merchant_Name_nunique</th>\n",
              "      <th>Transaction_amount_mean</th>\n",
              "      <th>Transaction_amount_sum</th>\n",
              "      <th>Transaction_Date_max</th>\n",
              "      <th>DaysSinceLastPurchase</th>\n",
              "      <th>DaysSinceLastPurchase_Rev</th>\n",
              "      <th>R_quantile</th>\n",
              "      <th>F_quantile</th>\n",
              "      <th>M_quantile</th>\n",
              "      <th>RFM_q</th>\n",
              "      <th>EngagementScore</th>\n",
              "      <th>EngagementSegments</th>\n",
              "      <th>AgeBand</th>\n",
              "      <th>CreditLimitBand</th>\n",
              "      <th>District</th>\n",
              "      <th>Gender</th>\n",
              "      <th>RevolverFlag</th>\n",
              "      <th>CardType</th>\n",
              "      <th>Merchant_Category</th>\n",
              "      <th>Merchant_Name_Cleaned</th>\n",
              "      <th>Transaction_amount</th>\n",
              "      <th>Transaction_Date</th>\n",
              "      <th>HasTransacted?</th>\n",
              "      <th>WeekOfYear</th>\n",
              "      <th>Month</th>\n",
              "      <th>DayOfMonth</th>\n",
              "      <th>DayOfWeek</th>\n",
              "      <th>Weekday/Weekend</th>\n",
              "      <th>Merchant_Gateway</th>\n",
              "    </tr>\n",
              "  </thead>\n",
              "  <tbody>\n",
              "    <tr>\n",
              "      <th>0</th>\n",
              "      <td>174884</td>\n",
              "      <td>56</td>\n",
              "      <td>1</td>\n",
              "      <td>12</td>\n",
              "      <td>27</td>\n",
              "      <td>152.070893</td>\n",
              "      <td>8515.97</td>\n",
              "      <td>0</td>\n",
              "      <td>0</td>\n",
              "      <td>0</td>\n",
              "      <td>5</td>\n",
              "      <td>5</td>\n",
              "      <td>5</td>\n",
              "      <td>555</td>\n",
              "      <td>15</td>\n",
              "      <td>High</td>\n",
              "      <td>05 (60 - 69)</td>\n",
              "      <td>01 (&lt; 10)K</td>\n",
              "      <td>57</td>\n",
              "      <td>M</td>\n",
              "      <td>02 Transactor</td>\n",
              "      <td>Co-Brand</td>\n",
              "      <td>RESTAURANTS-BARS</td>\n",
              "      <td>long beach king</td>\n",
              "      <td>79.43</td>\n",
              "      <td>41699</td>\n",
              "      <td>1</td>\n",
              "      <td>9</td>\n",
              "      <td>3</td>\n",
              "      <td>1</td>\n",
              "      <td>7</td>\n",
              "      <td>Weekend</td>\n",
              "      <td>NaN</td>\n",
              "    </tr>\n",
              "    <tr>\n",
              "      <th>1</th>\n",
              "      <td>174884</td>\n",
              "      <td>56</td>\n",
              "      <td>1</td>\n",
              "      <td>12</td>\n",
              "      <td>27</td>\n",
              "      <td>152.070893</td>\n",
              "      <td>8515.97</td>\n",
              "      <td>0</td>\n",
              "      <td>0</td>\n",
              "      <td>0</td>\n",
              "      <td>5</td>\n",
              "      <td>5</td>\n",
              "      <td>5</td>\n",
              "      <td>555</td>\n",
              "      <td>15</td>\n",
              "      <td>High</td>\n",
              "      <td>05 (60 - 69)</td>\n",
              "      <td>01 (&lt; 10)K</td>\n",
              "      <td>57</td>\n",
              "      <td>M</td>\n",
              "      <td>02 Transactor</td>\n",
              "      <td>Co-Brand</td>\n",
              "      <td>FOOD STORES-WAREHOUSE</td>\n",
              "      <td>fairprice</td>\n",
              "      <td>44.50</td>\n",
              "      <td>41705</td>\n",
              "      <td>1</td>\n",
              "      <td>10</td>\n",
              "      <td>3</td>\n",
              "      <td>7</td>\n",
              "      <td>6</td>\n",
              "      <td>Weekday</td>\n",
              "      <td>NaN</td>\n",
              "    </tr>\n",
              "    <tr>\n",
              "      <th>2</th>\n",
              "      <td>174884</td>\n",
              "      <td>56</td>\n",
              "      <td>1</td>\n",
              "      <td>12</td>\n",
              "      <td>27</td>\n",
              "      <td>152.070893</td>\n",
              "      <td>8515.97</td>\n",
              "      <td>0</td>\n",
              "      <td>0</td>\n",
              "      <td>0</td>\n",
              "      <td>5</td>\n",
              "      <td>5</td>\n",
              "      <td>5</td>\n",
              "      <td>555</td>\n",
              "      <td>15</td>\n",
              "      <td>High</td>\n",
              "      <td>05 (60 - 69)</td>\n",
              "      <td>01 (&lt; 10)K</td>\n",
              "      <td>57</td>\n",
              "      <td>M</td>\n",
              "      <td>02 Transactor</td>\n",
              "      <td>Co-Brand</td>\n",
              "      <td>TRAVEL AGENCIES</td>\n",
              "      <td>agoda</td>\n",
              "      <td>1427.46</td>\n",
              "      <td>41706</td>\n",
              "      <td>1</td>\n",
              "      <td>10</td>\n",
              "      <td>3</td>\n",
              "      <td>8</td>\n",
              "      <td>7</td>\n",
              "      <td>Weekend</td>\n",
              "      <td>NaN</td>\n",
              "    </tr>\n",
              "    <tr>\n",
              "      <th>3</th>\n",
              "      <td>174884</td>\n",
              "      <td>56</td>\n",
              "      <td>1</td>\n",
              "      <td>12</td>\n",
              "      <td>27</td>\n",
              "      <td>152.070893</td>\n",
              "      <td>8515.97</td>\n",
              "      <td>0</td>\n",
              "      <td>0</td>\n",
              "      <td>0</td>\n",
              "      <td>5</td>\n",
              "      <td>5</td>\n",
              "      <td>5</td>\n",
              "      <td>555</td>\n",
              "      <td>15</td>\n",
              "      <td>High</td>\n",
              "      <td>05 (60 - 69)</td>\n",
              "      <td>01 (&lt; 10)K</td>\n",
              "      <td>57</td>\n",
              "      <td>M</td>\n",
              "      <td>02 Transactor</td>\n",
              "      <td>Co-Brand</td>\n",
              "      <td>FOOD STORES-WAREHOUSE</td>\n",
              "      <td>fairprice</td>\n",
              "      <td>25.00</td>\n",
              "      <td>41707</td>\n",
              "      <td>1</td>\n",
              "      <td>11</td>\n",
              "      <td>3</td>\n",
              "      <td>9</td>\n",
              "      <td>1</td>\n",
              "      <td>Weekend</td>\n",
              "      <td>NaN</td>\n",
              "    </tr>\n",
              "    <tr>\n",
              "      <th>4</th>\n",
              "      <td>174884</td>\n",
              "      <td>56</td>\n",
              "      <td>1</td>\n",
              "      <td>12</td>\n",
              "      <td>27</td>\n",
              "      <td>152.070893</td>\n",
              "      <td>8515.97</td>\n",
              "      <td>0</td>\n",
              "      <td>0</td>\n",
              "      <td>0</td>\n",
              "      <td>5</td>\n",
              "      <td>5</td>\n",
              "      <td>5</td>\n",
              "      <td>555</td>\n",
              "      <td>15</td>\n",
              "      <td>High</td>\n",
              "      <td>05 (60 - 69)</td>\n",
              "      <td>01 (&lt; 10)K</td>\n",
              "      <td>57</td>\n",
              "      <td>M</td>\n",
              "      <td>02 Transactor</td>\n",
              "      <td>Co-Brand</td>\n",
              "      <td>UTILITIES</td>\n",
              "      <td>hello amk hub</td>\n",
              "      <td>308.86</td>\n",
              "      <td>41707</td>\n",
              "      <td>1</td>\n",
              "      <td>11</td>\n",
              "      <td>3</td>\n",
              "      <td>9</td>\n",
              "      <td>1</td>\n",
              "      <td>Weekend</td>\n",
              "      <td>NaN</td>\n",
              "    </tr>\n",
              "  </tbody>\n",
              "</table>\n",
              "</div>"
            ],
            "text/plain": [
              "   PartyID  PurchaseFrequency  ...  Weekday/Weekend  Merchant_Gateway\n",
              "0   174884                 56  ...          Weekend               NaN\n",
              "1   174884                 56  ...          Weekday               NaN\n",
              "2   174884                 56  ...          Weekend               NaN\n",
              "3   174884                 56  ...          Weekend               NaN\n",
              "4   174884                 56  ...          Weekend               NaN\n",
              "\n",
              "[5 rows x 33 columns]"
            ]
          },
          "metadata": {
            "tags": []
          },
          "execution_count": 12
        }
      ]
    },
    {
      "cell_type": "code",
      "metadata": {
        "id": "XcvsEw8xEZWI",
        "colab_type": "code",
        "outputId": "613fe5d0-fda3-45e7-d2ed-1171c6a909b7",
        "colab": {
          "base_uri": "https://localhost:8080/",
          "height": 34
        }
      },
      "source": [
        "transactions['Merchant_Name_Cleaned'].nunique()"
      ],
      "execution_count": 0,
      "outputs": [
        {
          "output_type": "execute_result",
          "data": {
            "text/plain": [
              "2302"
            ]
          },
          "metadata": {
            "tags": []
          },
          "execution_count": 16
        }
      ]
    },
    {
      "cell_type": "code",
      "metadata": {
        "id": "IhaNtjxuEgd3",
        "colab_type": "code",
        "outputId": "9c5d2f51-d8eb-4b69-f746-d09436e8a710",
        "colab": {
          "base_uri": "https://localhost:8080/",
          "height": 34
        }
      },
      "source": [
        "txn_demo_high['Merchant_Name_Cleaned'].nunique()"
      ],
      "execution_count": 0,
      "outputs": [
        {
          "output_type": "execute_result",
          "data": {
            "text/plain": [
              "2151"
            ]
          },
          "metadata": {
            "tags": []
          },
          "execution_count": 17
        }
      ]
    },
    {
      "cell_type": "code",
      "metadata": {
        "id": "TXryXmufIOD1",
        "colab_type": "code",
        "outputId": "5330edb5-a4dc-463f-be3d-274aef3b18c7",
        "colab": {
          "base_uri": "https://localhost:8080/",
          "height": 218
        }
      },
      "source": [
        "print(txn_demo_high['Merchant_Name_Cleaned'].value_counts(normalize = True))"
      ],
      "execution_count": 0,
      "outputs": [
        {
          "output_type": "stream",
          "text": [
            "fairprice                                 0.337299\n",
            "Others                                    0.110124\n",
            "esso                                      0.029186\n",
            "caltex                                    0.016356\n",
            "robinsons                                 0.015474\n",
            "                                            ...   \n",
            "marinedepot                               0.000004\n",
            "az archery enterprises prescott vly us    0.000004\n",
            "tara apothecary                           0.000004\n",
            "your music guitares roma it               0.000004\n",
            "expertecomm                               0.000004\n",
            "Name: Merchant_Name_Cleaned, Length: 2151, dtype: float64\n"
          ],
          "name": "stdout"
        }
      ]
    },
    {
      "cell_type": "markdown",
      "metadata": {
        "id": "5cGLRx4TfMbk",
        "colab_type": "text"
      },
      "source": [
        "#Collaborative filtering"
      ]
    },
    {
      "cell_type": "markdown",
      "metadata": {
        "id": "xQwIoN_S8NJw",
        "colab_type": "text"
      },
      "source": [
        "## Function to Calculate precision and Top n recommendations"
      ]
    },
    {
      "cell_type": "code",
      "metadata": {
        "id": "ChQE8L6GnUED",
        "colab_type": "code",
        "colab": {}
      },
      "source": [
        "def get_top_n(predictions, n=10):\n",
        "    '''Return the top-N recommendation for each user from a set of predictions.\n",
        "\n",
        "    Args:\n",
        "        predictions(list of Prediction objects): The list of predictions, as\n",
        "            returned by the test method of an algorithm.\n",
        "        n(int): The number of recommendation to output for each user. Default\n",
        "            is 10.\n",
        "\n",
        "    Returns:\n",
        "    A dict where keys are user (raw) ids and values are lists of tuples:\n",
        "        [(raw item id, rating estimation), ...] of size n.\n",
        "    '''\n",
        "\n",
        "    # First map the predictions to each user.\n",
        "    top_n = defaultdict(list)\n",
        "    for uid, iid, true_r, est, _ in predictions:\n",
        "        top_n[uid].append((iid, est))\n",
        "\n",
        "    # Then sort the predictions for each user and retrieve the k highest ones.\n",
        "    for uid, user_ratings in top_n.items():\n",
        "        user_ratings.sort(key=lambda x: x[1], reverse=True)\n",
        "        top_n[uid] = user_ratings[:n]\n",
        "\n",
        "    return top_n"
      ],
      "execution_count": 0,
      "outputs": []
    },
    {
      "cell_type": "code",
      "metadata": {
        "id": "3YlOtZgqqNxf",
        "colab_type": "code",
        "colab": {}
      },
      "source": [
        "from collections import defaultdict\n",
        "# PartyID, Merchant_Name, true rating, estimated rating. Sorts the matrix by descending order of estimated ratings. Cuts off the top k (10) rows. Within those 10 rows, \n",
        "# it calculates the count of merchants truly liked aka relevant items (true rating >= 4), count of merchants predicted as liked aka recommended items (est >= 4), \n",
        "# and count of merchants both liked and recommended (est & true rating >=4)\n",
        "\n",
        "def precision_recall_at_k(predictions, k=10, threshold=4):\n",
        "    '''Return precision and recall at k metrics for each user.'''\n",
        "\n",
        "    # First map the predictions to each user.\n",
        "    user_est_true = defaultdict(list)\n",
        "    for uid, _, true_r, est, _ in predictions:\n",
        "        user_est_true[uid].append((est, true_r))\n",
        "\n",
        "    precisions = dict()\n",
        "    recalls = dict()\n",
        "    for uid, user_ratings in user_est_true.items():\n",
        "\n",
        "        # Sort user ratings by estimated value\n",
        "        user_ratings.sort(key=lambda x: x[0], reverse=True)\n",
        "\n",
        "        # Number of relevant items\n",
        "        n_rel = sum((true_r >= threshold) for (_, true_r) in user_ratings)\n",
        "\n",
        "        # Number of recommended items in top k\n",
        "        n_rec_k = sum((est >= threshold) for (est, _) in user_ratings[:k])\n",
        "\n",
        "        # Number of relevant and recommended items in top k\n",
        "        n_rel_and_rec_k = sum(((true_r >= threshold) and (est >= threshold))\n",
        "                              for (est, true_r) in user_ratings[:k])\n",
        "\n",
        "        # Precision@K: Proportion of recommended items that are relevant\n",
        "        precisions[uid] = n_rel_and_rec_k / n_rec_k if n_rec_k != 0 else 1\n",
        "\n",
        "        # Recall@K: Proportion of relevant items that are recommended\n",
        "        recalls[uid] = n_rel_and_rec_k / n_rel if n_rel != 0 else 1\n",
        "\n",
        "    return precisions, recalls"
      ],
      "execution_count": 0,
      "outputs": []
    },
    {
      "cell_type": "markdown",
      "metadata": {
        "id": "AMxw4MfRq49E",
        "colab_type": "text"
      },
      "source": [
        "## Preparing the data in suitable format"
      ]
    },
    {
      "cell_type": "code",
      "metadata": {
        "id": "pvXCplQYtnqU",
        "colab_type": "code",
        "outputId": "89b8608d-431e-4542-d7cf-03b722c597cc",
        "colab": {
          "base_uri": "https://localhost:8080/",
          "height": 402
        }
      },
      "source": [
        "df = pd.DataFrame({'Frequency' : txn_demo_high.groupby(['PartyID','Merchant_Name_Cleaned']).size()}).reset_index()\n",
        "df"
      ],
      "execution_count": 0,
      "outputs": [
        {
          "output_type": "execute_result",
          "data": {
            "text/html": [
              "<div>\n",
              "<style scoped>\n",
              "    .dataframe tbody tr th:only-of-type {\n",
              "        vertical-align: middle;\n",
              "    }\n",
              "\n",
              "    .dataframe tbody tr th {\n",
              "        vertical-align: top;\n",
              "    }\n",
              "\n",
              "    .dataframe thead th {\n",
              "        text-align: right;\n",
              "    }\n",
              "</style>\n",
              "<table border=\"1\" class=\"dataframe\">\n",
              "  <thead>\n",
              "    <tr style=\"text-align: right;\">\n",
              "      <th></th>\n",
              "      <th>PartyID</th>\n",
              "      <th>Merchant_Name_Cleaned</th>\n",
              "      <th>Frequency</th>\n",
              "    </tr>\n",
              "  </thead>\n",
              "  <tbody>\n",
              "    <tr>\n",
              "      <th>0</th>\n",
              "      <td>174884</td>\n",
              "      <td>Others</td>\n",
              "      <td>4</td>\n",
              "    </tr>\n",
              "    <tr>\n",
              "      <th>1</th>\n",
              "      <td>174884</td>\n",
              "      <td>ackerman smith</td>\n",
              "      <td>1</td>\n",
              "    </tr>\n",
              "    <tr>\n",
              "      <th>2</th>\n",
              "      <td>174884</td>\n",
              "      <td>agoda</td>\n",
              "      <td>1</td>\n",
              "    </tr>\n",
              "    <tr>\n",
              "      <th>3</th>\n",
              "      <td>174884</td>\n",
              "      <td>apple store</td>\n",
              "      <td>1</td>\n",
              "    </tr>\n",
              "    <tr>\n",
              "      <th>4</th>\n",
              "      <td>174884</td>\n",
              "      <td>caltex</td>\n",
              "      <td>12</td>\n",
              "    </tr>\n",
              "    <tr>\n",
              "      <th>...</th>\n",
              "      <td>...</td>\n",
              "      <td>...</td>\n",
              "      <td>...</td>\n",
              "    </tr>\n",
              "    <tr>\n",
              "      <th>78592</th>\n",
              "      <td>85867033</td>\n",
              "      <td>starbucks</td>\n",
              "      <td>1</td>\n",
              "    </tr>\n",
              "    <tr>\n",
              "      <th>78593</th>\n",
              "      <td>85867033</td>\n",
              "      <td>sushi express</td>\n",
              "      <td>1</td>\n",
              "    </tr>\n",
              "    <tr>\n",
              "      <th>78594</th>\n",
              "      <td>85867033</td>\n",
              "      <td>toys r us</td>\n",
              "      <td>1</td>\n",
              "    </tr>\n",
              "    <tr>\n",
              "      <th>78595</th>\n",
              "      <td>85867033</td>\n",
              "      <td>uniqlo</td>\n",
              "      <td>1</td>\n",
              "    </tr>\n",
              "    <tr>\n",
              "      <th>78596</th>\n",
              "      <td>85867033</td>\n",
              "      <td>victoria's secret</td>\n",
              "      <td>1</td>\n",
              "    </tr>\n",
              "  </tbody>\n",
              "</table>\n",
              "<p>78597 rows × 3 columns</p>\n",
              "</div>"
            ],
            "text/plain": [
              "        PartyID Merchant_Name_Cleaned  Frequency\n",
              "0        174884                Others          4\n",
              "1        174884        ackerman smith          1\n",
              "2        174884                 agoda          1\n",
              "3        174884           apple store          1\n",
              "4        174884                caltex         12\n",
              "...         ...                   ...        ...\n",
              "78592  85867033             starbucks          1\n",
              "78593  85867033         sushi express          1\n",
              "78594  85867033             toys r us          1\n",
              "78595  85867033                uniqlo          1\n",
              "78596  85867033     victoria's secret          1\n",
              "\n",
              "[78597 rows x 3 columns]"
            ]
          },
          "metadata": {
            "tags": []
          },
          "execution_count": 25
        }
      ]
    },
    {
      "cell_type": "code",
      "metadata": {
        "id": "_ZPPg6Ctu25p",
        "colab_type": "code",
        "outputId": "a2bfad1a-a722-4503-d861-2ba00a5984f4",
        "colab": {
          "base_uri": "https://localhost:8080/",
          "height": 402
        }
      },
      "source": [
        "TotalFreqbyPartyID = df.groupby(['PartyID']).agg({'Frequency':'sum'}).reset_index(level=['PartyID'])\n",
        "TotalFreqbyPartyID"
      ],
      "execution_count": 0,
      "outputs": [
        {
          "output_type": "execute_result",
          "data": {
            "text/html": [
              "<div>\n",
              "<style scoped>\n",
              "    .dataframe tbody tr th:only-of-type {\n",
              "        vertical-align: middle;\n",
              "    }\n",
              "\n",
              "    .dataframe tbody tr th {\n",
              "        vertical-align: top;\n",
              "    }\n",
              "\n",
              "    .dataframe thead th {\n",
              "        text-align: right;\n",
              "    }\n",
              "</style>\n",
              "<table border=\"1\" class=\"dataframe\">\n",
              "  <thead>\n",
              "    <tr style=\"text-align: right;\">\n",
              "      <th></th>\n",
              "      <th>PartyID</th>\n",
              "      <th>Frequency</th>\n",
              "    </tr>\n",
              "  </thead>\n",
              "  <tbody>\n",
              "    <tr>\n",
              "      <th>0</th>\n",
              "      <td>174884</td>\n",
              "      <td>56</td>\n",
              "    </tr>\n",
              "    <tr>\n",
              "      <th>1</th>\n",
              "      <td>175387</td>\n",
              "      <td>23</td>\n",
              "    </tr>\n",
              "    <tr>\n",
              "      <th>2</th>\n",
              "      <td>175550</td>\n",
              "      <td>28</td>\n",
              "    </tr>\n",
              "    <tr>\n",
              "      <th>3</th>\n",
              "      <td>176146</td>\n",
              "      <td>34</td>\n",
              "    </tr>\n",
              "    <tr>\n",
              "      <th>4</th>\n",
              "      <td>176222</td>\n",
              "      <td>15</td>\n",
              "    </tr>\n",
              "    <tr>\n",
              "      <th>...</th>\n",
              "      <td>...</td>\n",
              "      <td>...</td>\n",
              "    </tr>\n",
              "    <tr>\n",
              "      <th>6409</th>\n",
              "      <td>85795366</td>\n",
              "      <td>43</td>\n",
              "    </tr>\n",
              "    <tr>\n",
              "      <th>6410</th>\n",
              "      <td>85795614</td>\n",
              "      <td>24</td>\n",
              "    </tr>\n",
              "    <tr>\n",
              "      <th>6411</th>\n",
              "      <td>85795846</td>\n",
              "      <td>11</td>\n",
              "    </tr>\n",
              "    <tr>\n",
              "      <th>6412</th>\n",
              "      <td>85808087</td>\n",
              "      <td>23</td>\n",
              "    </tr>\n",
              "    <tr>\n",
              "      <th>6413</th>\n",
              "      <td>85867033</td>\n",
              "      <td>42</td>\n",
              "    </tr>\n",
              "  </tbody>\n",
              "</table>\n",
              "<p>6414 rows × 2 columns</p>\n",
              "</div>"
            ],
            "text/plain": [
              "       PartyID  Frequency\n",
              "0       174884         56\n",
              "1       175387         23\n",
              "2       175550         28\n",
              "3       176146         34\n",
              "4       176222         15\n",
              "...        ...        ...\n",
              "6409  85795366         43\n",
              "6410  85795614         24\n",
              "6411  85795846         11\n",
              "6412  85808087         23\n",
              "6413  85867033         42\n",
              "\n",
              "[6414 rows x 2 columns]"
            ]
          },
          "metadata": {
            "tags": []
          },
          "execution_count": 43
        }
      ]
    },
    {
      "cell_type": "code",
      "metadata": {
        "id": "CMG15NFnufTk",
        "colab_type": "code",
        "colab": {}
      },
      "source": [
        "df = pd.merge(df,TotalFreqbyPartyID,how = 'left', on = 'PartyID')"
      ],
      "execution_count": 0,
      "outputs": []
    },
    {
      "cell_type": "code",
      "metadata": {
        "id": "odiVlQ0rz6Bi",
        "colab_type": "code",
        "colab": {}
      },
      "source": [
        "df.rename(columns = {'Frequency_x': 'Merchant_Freq','Frequency_y': 'TotalFrequency'}, inplace= True)"
      ],
      "execution_count": 0,
      "outputs": []
    },
    {
      "cell_type": "code",
      "metadata": {
        "id": "MsmHIG7f0zyi",
        "colab_type": "code",
        "colab": {}
      },
      "source": [
        "df['FreqProp'] = (df['Merchant_Freq']/df['TotalFrequency'])"
      ],
      "execution_count": 0,
      "outputs": []
    },
    {
      "cell_type": "code",
      "metadata": {
        "id": "RniLOxqE1Nfp",
        "colab_type": "code",
        "colab": {}
      },
      "source": [
        "df['rating'] = pd.qcut(df['FreqProp'],5,['1','2','3','4','5'], duplicates='drop')"
      ],
      "execution_count": 0,
      "outputs": []
    },
    {
      "cell_type": "code",
      "metadata": {
        "id": "DENv-wgW3voh",
        "colab_type": "code",
        "outputId": "74bd94f2-a452-4352-c7e6-f80cf370476a",
        "colab": {
          "base_uri": "https://localhost:8080/",
          "height": 254
        }
      },
      "source": [
        "df.groupby('rating').agg({'FreqProp':['min','max']})"
      ],
      "execution_count": 0,
      "outputs": [
        {
          "output_type": "execute_result",
          "data": {
            "text/html": [
              "<div>\n",
              "<style scoped>\n",
              "    .dataframe tbody tr th:only-of-type {\n",
              "        vertical-align: middle;\n",
              "    }\n",
              "\n",
              "    .dataframe tbody tr th {\n",
              "        vertical-align: top;\n",
              "    }\n",
              "\n",
              "    .dataframe thead tr th {\n",
              "        text-align: left;\n",
              "    }\n",
              "\n",
              "    .dataframe thead tr:last-of-type th {\n",
              "        text-align: right;\n",
              "    }\n",
              "</style>\n",
              "<table border=\"1\" class=\"dataframe\">\n",
              "  <thead>\n",
              "    <tr>\n",
              "      <th></th>\n",
              "      <th colspan=\"2\" halign=\"left\">FreqProp</th>\n",
              "    </tr>\n",
              "    <tr>\n",
              "      <th></th>\n",
              "      <th>min</th>\n",
              "      <th>max</th>\n",
              "    </tr>\n",
              "    <tr>\n",
              "      <th>rating</th>\n",
              "      <th></th>\n",
              "      <th></th>\n",
              "    </tr>\n",
              "  </thead>\n",
              "  <tbody>\n",
              "    <tr>\n",
              "      <th>1</th>\n",
              "      <td>0.001692</td>\n",
              "      <td>0.019608</td>\n",
              "    </tr>\n",
              "    <tr>\n",
              "      <th>2</th>\n",
              "      <td>0.019737</td>\n",
              "      <td>0.029412</td>\n",
              "    </tr>\n",
              "    <tr>\n",
              "      <th>3</th>\n",
              "      <td>0.029484</td>\n",
              "      <td>0.043478</td>\n",
              "    </tr>\n",
              "    <tr>\n",
              "      <th>4</th>\n",
              "      <td>0.043750</td>\n",
              "      <td>0.083333</td>\n",
              "    </tr>\n",
              "    <tr>\n",
              "      <th>5</th>\n",
              "      <td>0.083969</td>\n",
              "      <td>1.000000</td>\n",
              "    </tr>\n",
              "  </tbody>\n",
              "</table>\n",
              "</div>"
            ],
            "text/plain": [
              "        FreqProp          \n",
              "             min       max\n",
              "rating                    \n",
              "1       0.001692  0.019608\n",
              "2       0.019737  0.029412\n",
              "3       0.029484  0.043478\n",
              "4       0.043750  0.083333\n",
              "5       0.083969  1.000000"
            ]
          },
          "metadata": {
            "tags": []
          },
          "execution_count": 61
        }
      ]
    },
    {
      "cell_type": "code",
      "metadata": {
        "id": "nKnMYCIz2al4",
        "colab_type": "code",
        "outputId": "c067719c-933c-4146-d1e5-e766b9c9c38f",
        "colab": {
          "base_uri": "https://localhost:8080/",
          "height": 195
        }
      },
      "source": [
        "df.head()"
      ],
      "execution_count": 0,
      "outputs": [
        {
          "output_type": "execute_result",
          "data": {
            "text/html": [
              "<div>\n",
              "<style scoped>\n",
              "    .dataframe tbody tr th:only-of-type {\n",
              "        vertical-align: middle;\n",
              "    }\n",
              "\n",
              "    .dataframe tbody tr th {\n",
              "        vertical-align: top;\n",
              "    }\n",
              "\n",
              "    .dataframe thead th {\n",
              "        text-align: right;\n",
              "    }\n",
              "</style>\n",
              "<table border=\"1\" class=\"dataframe\">\n",
              "  <thead>\n",
              "    <tr style=\"text-align: right;\">\n",
              "      <th></th>\n",
              "      <th>PartyID</th>\n",
              "      <th>Merchant_Name_Cleaned</th>\n",
              "      <th>Merchant_Freq</th>\n",
              "      <th>TotalFrequency</th>\n",
              "      <th>rating</th>\n",
              "      <th>FreqProp</th>\n",
              "    </tr>\n",
              "  </thead>\n",
              "  <tbody>\n",
              "    <tr>\n",
              "      <th>0</th>\n",
              "      <td>174884</td>\n",
              "      <td>Others</td>\n",
              "      <td>4</td>\n",
              "      <td>56</td>\n",
              "      <td>4</td>\n",
              "      <td>0.071429</td>\n",
              "    </tr>\n",
              "    <tr>\n",
              "      <th>1</th>\n",
              "      <td>174884</td>\n",
              "      <td>ackerman smith</td>\n",
              "      <td>1</td>\n",
              "      <td>56</td>\n",
              "      <td>1</td>\n",
              "      <td>0.017857</td>\n",
              "    </tr>\n",
              "    <tr>\n",
              "      <th>2</th>\n",
              "      <td>174884</td>\n",
              "      <td>agoda</td>\n",
              "      <td>1</td>\n",
              "      <td>56</td>\n",
              "      <td>1</td>\n",
              "      <td>0.017857</td>\n",
              "    </tr>\n",
              "    <tr>\n",
              "      <th>3</th>\n",
              "      <td>174884</td>\n",
              "      <td>apple store</td>\n",
              "      <td>1</td>\n",
              "      <td>56</td>\n",
              "      <td>1</td>\n",
              "      <td>0.017857</td>\n",
              "    </tr>\n",
              "    <tr>\n",
              "      <th>4</th>\n",
              "      <td>174884</td>\n",
              "      <td>caltex</td>\n",
              "      <td>12</td>\n",
              "      <td>56</td>\n",
              "      <td>5</td>\n",
              "      <td>0.214286</td>\n",
              "    </tr>\n",
              "  </tbody>\n",
              "</table>\n",
              "</div>"
            ],
            "text/plain": [
              "   PartyID Merchant_Name_Cleaned  ...  rating  FreqProp\n",
              "0   174884                Others  ...       4  0.071429\n",
              "1   174884        ackerman smith  ...       1  0.017857\n",
              "2   174884                 agoda  ...       1  0.017857\n",
              "3   174884           apple store  ...       1  0.017857\n",
              "4   174884                caltex  ...       5  0.214286\n",
              "\n",
              "[5 rows x 6 columns]"
            ]
          },
          "metadata": {
            "tags": []
          },
          "execution_count": 63
        }
      ]
    },
    {
      "cell_type": "code",
      "metadata": {
        "id": "24dhytm33AF_",
        "colab_type": "code",
        "outputId": "7602761b-68ff-4b16-f259-c276c98d8273",
        "colab": {
          "base_uri": "https://localhost:8080/",
          "height": 118
        }
      },
      "source": [
        "df['rating'].value_counts(normalize = True)"
      ],
      "execution_count": 0,
      "outputs": [
        {
          "output_type": "execute_result",
          "data": {
            "text/plain": [
              "2    0.202718\n",
              "1    0.201356\n",
              "5    0.199168\n",
              "4    0.198532\n",
              "3    0.198226\n",
              "Name: rating, dtype: float64"
            ]
          },
          "metadata": {
            "tags": []
          },
          "execution_count": 62
        }
      ]
    },
    {
      "cell_type": "code",
      "metadata": {
        "id": "Izkn6GuEaCOC",
        "colab_type": "code",
        "colab": {}
      },
      "source": [
        "#df.to_csv('Data_for_Collaborative.csv',index = False)"
      ],
      "execution_count": 0,
      "outputs": []
    },
    {
      "cell_type": "markdown",
      "metadata": {
        "colab_type": "text",
        "id": "Cn7j3gY5q97v"
      },
      "source": [
        "## Creating data object for collaborative filtering"
      ]
    },
    {
      "cell_type": "code",
      "metadata": {
        "id": "T__5Cw-DBqcM",
        "colab_type": "code",
        "colab": {}
      },
      "source": [
        "df = pd.read_csv('Data_for_Collaborative.csv')"
      ],
      "execution_count": 0,
      "outputs": []
    },
    {
      "cell_type": "code",
      "metadata": {
        "colab_type": "code",
        "id": "fE4JsR7lq97x",
        "colab": {}
      },
      "source": [
        "#change the df_new here to df to skip the filtering earlier\n",
        "reader = Reader(rating_scale=(1, 5))\n",
        "data = Dataset.load_from_df(df[['PartyID', 'Merchant_Name_Cleaned', 'rating']], reader)"
      ],
      "execution_count": 0,
      "outputs": []
    },
    {
      "cell_type": "code",
      "metadata": {
        "id": "5DtowMrbXn--",
        "colab_type": "code",
        "colab": {}
      },
      "source": [
        "#building unbiased test set for testing precision and accuracy\n",
        "import random\n",
        "\n",
        "# Load the full dataset.\n",
        "raw_ratings = data.raw_ratings\n",
        "\n",
        "# shuffle ratings if you want\n",
        "random.shuffle(raw_ratings)\n",
        "\n",
        "# A = 70% of the data, B = 30% of the data\n",
        "threshold = int(0.7 * len(raw_ratings))\n",
        "A_raw_ratings = raw_ratings[:threshold]\n",
        "B_raw_ratings = raw_ratings[threshold:]\n",
        "\n",
        "data.raw_ratings = A_raw_ratings  # data is now the set A\n",
        "\n",
        "# building 70% data as trainset\n",
        "trainset = data.build_full_trainset()\n",
        "\n",
        "# building 30% data as testset\n",
        "testset = data.construct_testset(B_raw_ratings)  # testset is now the set B"
      ],
      "execution_count": 0,
      "outputs": []
    },
    {
      "cell_type": "markdown",
      "metadata": {
        "colab_type": "text",
        "id": "0qb-cGOrq972"
      },
      "source": [
        "# Parameter tuning for collaborative algorithms by doing cv on trainset\n",
        "  1. best item-item model- RMSE: 1.1169649211021628; Parameters:\n",
        "{'k': 40, 'sim_options': {'name': 'cosine', 'user_based': False}}\n",
        "\n",
        "  2. best user-user model- RMSE: 1.0579519004974747; Parameters: {'k': 2500, 'sim_options': {'name': 'cosine', 'user_based': True}}\n",
        "\n",
        "  3. best LF model- RMSE: 1.0192473889324232; Parameters: {'n_factors': 90, 'lr_all': 0.1, 'reg_all': 0.02}"
      ]
    },
    {
      "cell_type": "markdown",
      "metadata": {
        "colab_type": "text",
        "id": "b2jsEAu9q972"
      },
      "source": [
        "## User-User Similarity"
      ]
    },
    {
      "cell_type": "code",
      "metadata": {
        "colab_type": "code",
        "outputId": "b87b6c46-0a12-40b7-ba42-10e98371addc",
        "id": "vmClG2yOq972",
        "colab": {
          "base_uri": "https://localhost:8080/",
          "height": 877
        }
      },
      "source": [
        "param_grid = {'k': [40, 50, 85, 100, 150, 400, 1000, 1500, 2000, 2500, 3000],\n",
        "             'sim_options': {'name': ['pearson_baseline','cosine'], 'user_based': [True]}\n",
        "             }\n",
        "\n",
        "uu_gs = RandomizedSearchCV(KNNWithMeans, param_grid, measures=['rmse'], n_iter = 15, cv=3, refit = False, n_jobs = -1, joblib_verbose= 50)\n",
        "\n",
        "uu_gs.fit(data)\n",
        "\n",
        "# best RMSE score\n",
        "print(uu_gs.best_score['rmse'])\n",
        "\n",
        "# combination of parameters that gave the best RMSE score\n",
        "print(uu_gs.best_params['rmse'])"
      ],
      "execution_count": 0,
      "outputs": [
        {
          "output_type": "stream",
          "text": [
            "[Parallel(n_jobs=-1)]: Using backend LokyBackend with 2 concurrent workers.\n",
            "[Parallel(n_jobs=-1)]: Done   1 tasks      | elapsed:   29.9s\n",
            "[Parallel(n_jobs=-1)]: Done   2 tasks      | elapsed:   31.8s\n",
            "[Parallel(n_jobs=-1)]: Done   3 tasks      | elapsed:   46.3s\n",
            "[Parallel(n_jobs=-1)]: Done   4 tasks      | elapsed:   58.8s\n"
          ],
          "name": "stdout"
        },
        {
          "output_type": "stream",
          "text": [
            "/usr/local/lib/python3.6/dist-packages/joblib/externals/loky/process_executor.py:706: UserWarning: A worker stopped while some jobs were given to the executor. This can be caused by a too short worker timeout or by a memory leak.\n",
            "  \"timeout or by a memory leak.\", UserWarning\n"
          ],
          "name": "stderr"
        },
        {
          "output_type": "stream",
          "text": [
            "[Parallel(n_jobs=-1)]: Done   5 tasks      | elapsed:  1.0min\n",
            "[Parallel(n_jobs=-1)]: Done   6 tasks      | elapsed:  1.3min\n",
            "[Parallel(n_jobs=-1)]: Done   7 tasks      | elapsed:  1.5min\n",
            "[Parallel(n_jobs=-1)]: Done   8 tasks      | elapsed:  1.7min\n",
            "[Parallel(n_jobs=-1)]: Done   9 tasks      | elapsed:  1.9min\n",
            "[Parallel(n_jobs=-1)]: Done  10 tasks      | elapsed:  2.2min\n",
            "[Parallel(n_jobs=-1)]: Done  11 tasks      | elapsed:  2.5min\n",
            "[Parallel(n_jobs=-1)]: Done  12 tasks      | elapsed:  2.7min\n",
            "[Parallel(n_jobs=-1)]: Done  13 tasks      | elapsed:  2.8min\n",
            "[Parallel(n_jobs=-1)]: Done  14 tasks      | elapsed:  3.1min\n",
            "[Parallel(n_jobs=-1)]: Done  15 tasks      | elapsed:  3.2min\n",
            "[Parallel(n_jobs=-1)]: Done  16 tasks      | elapsed:  3.3min\n",
            "[Parallel(n_jobs=-1)]: Done  17 tasks      | elapsed:  3.5min\n",
            "[Parallel(n_jobs=-1)]: Done  18 tasks      | elapsed:  3.6min\n",
            "[Parallel(n_jobs=-1)]: Done  19 tasks      | elapsed:  3.8min\n",
            "[Parallel(n_jobs=-1)]: Done  20 tasks      | elapsed:  3.9min\n",
            "[Parallel(n_jobs=-1)]: Done  21 tasks      | elapsed:  4.1min\n",
            "[Parallel(n_jobs=-1)]: Done  22 tasks      | elapsed:  4.4min\n",
            "[Parallel(n_jobs=-1)]: Done  23 tasks      | elapsed:  4.5min\n",
            "[Parallel(n_jobs=-1)]: Done  24 tasks      | elapsed:  4.8min\n",
            "[Parallel(n_jobs=-1)]: Done  25 tasks      | elapsed:  4.9min\n",
            "[Parallel(n_jobs=-1)]: Done  26 tasks      | elapsed:  5.2min\n",
            "[Parallel(n_jobs=-1)]: Done  27 tasks      | elapsed:  5.3min\n",
            "[Parallel(n_jobs=-1)]: Done  28 tasks      | elapsed:  5.4min\n",
            "[Parallel(n_jobs=-1)]: Done  29 tasks      | elapsed:  5.5min\n",
            "[Parallel(n_jobs=-1)]: Done  30 tasks      | elapsed:  5.7min\n",
            "[Parallel(n_jobs=-1)]: Done  31 tasks      | elapsed:  5.8min\n",
            "[Parallel(n_jobs=-1)]: Done  32 tasks      | elapsed:  5.9min\n",
            "[Parallel(n_jobs=-1)]: Done  33 tasks      | elapsed:  6.0min\n",
            "[Parallel(n_jobs=-1)]: Done  34 tasks      | elapsed:  6.4min\n",
            "[Parallel(n_jobs=-1)]: Done  35 tasks      | elapsed:  6.6min\n",
            "[Parallel(n_jobs=-1)]: Done  36 tasks      | elapsed:  6.9min\n",
            "[Parallel(n_jobs=-1)]: Done  37 tasks      | elapsed:  7.1min\n",
            "[Parallel(n_jobs=-1)]: Done  38 tasks      | elapsed:  7.5min\n",
            "[Parallel(n_jobs=-1)]: Done  39 tasks      | elapsed:  7.7min\n",
            "[Parallel(n_jobs=-1)]: Done  40 tasks      | elapsed:  8.0min\n",
            "[Parallel(n_jobs=-1)]: Done  41 tasks      | elapsed:  8.3min\n",
            "[Parallel(n_jobs=-1)]: Done  42 tasks      | elapsed:  8.5min\n",
            "[Parallel(n_jobs=-1)]: Done  43 out of  45 | elapsed:  8.5min remaining:   23.9s\n",
            "[Parallel(n_jobs=-1)]: Done  45 out of  45 | elapsed:  8.8min remaining:    0.0s\n",
            "[Parallel(n_jobs=-1)]: Done  45 out of  45 | elapsed:  8.8min finished\n",
            "1.0579519004974747\n",
            "{'k': 2500, 'sim_options': {'name': 'cosine', 'user_based': True}}\n"
          ],
          "name": "stdout"
        }
      ]
    },
    {
      "cell_type": "code",
      "metadata": {
        "colab_type": "code",
        "id": "cPgSZaz9q977",
        "colab": {}
      },
      "source": [
        "#best user-user model\n",
        "# 1.0579519004974747\n",
        "# {'k': 2500, 'sim_options': {'name': 'cosine', 'user_based': True}}\n",
        "\n",
        "algo_u_u = uu_gs.best_estimator['rmse']"
      ],
      "execution_count": 0,
      "outputs": []
    },
    {
      "cell_type": "code",
      "metadata": {
        "id": "OqBQ6u8L1OzL",
        "colab_type": "code",
        "outputId": "a45d30e3-5800-4d7e-d71b-25e55c5f6aaf",
        "colab": {
          "base_uri": "https://localhost:8080/",
          "height": 67
        }
      },
      "source": [
        "#refit on train data\n",
        "\n",
        "algo_u_u.fit(trainset)"
      ],
      "execution_count": 0,
      "outputs": [
        {
          "output_type": "stream",
          "text": [
            "Computing the cosine similarity matrix...\n",
            "Done computing similarity matrix.\n"
          ],
          "name": "stdout"
        },
        {
          "output_type": "execute_result",
          "data": {
            "text/plain": [
              "<surprise.prediction_algorithms.knns.KNNWithMeans at 0x7f412f211978>"
            ]
          },
          "metadata": {
            "tags": []
          },
          "execution_count": 25
        }
      ]
    },
    {
      "cell_type": "code",
      "metadata": {
        "colab_type": "code",
        "id": "WSAWT1mGq979",
        "colab": {}
      },
      "source": [
        "#pickle save\n",
        "pickle.dump(algo_u_u,open('user_user_GSbest.sav','wb'))"
      ],
      "execution_count": 0,
      "outputs": []
    },
    {
      "cell_type": "code",
      "metadata": {
        "id": "T2bzbeRkMk_J",
        "colab_type": "code",
        "outputId": "e7e2db15-69fd-4dd2-bc21-59b15caf6003",
        "colab": {
          "base_uri": "https://localhost:8080/",
          "height": 54
        }
      },
      "source": [
        "uu_gs.cv_results.keys()"
      ],
      "execution_count": 0,
      "outputs": [
        {
          "output_type": "execute_result",
          "data": {
            "text/plain": [
              "dict_keys(['split0_test_rmse', 'split1_test_rmse', 'split2_test_rmse', 'mean_test_rmse', 'std_test_rmse', 'rank_test_rmse', 'mean_fit_time', 'std_fit_time', 'mean_test_time', 'std_test_time', 'params', 'param_k', 'param_sim_options'])"
            ]
          },
          "metadata": {
            "tags": []
          },
          "execution_count": 27
        }
      ]
    },
    {
      "cell_type": "code",
      "metadata": {
        "id": "qvjSugDNM1dY",
        "colab_type": "code",
        "outputId": "b611b181-0060-4fd5-d56d-159c7cc0eb0c",
        "colab": {
          "base_uri": "https://localhost:8080/",
          "height": 336
        }
      },
      "source": [
        "uu_gs.cv_results['params'], uu_gs.cv_results['mean_test_rmse']"
      ],
      "execution_count": 0,
      "outputs": [
        {
          "output_type": "execute_result",
          "data": {
            "text/plain": [
              "(array([{'k': 150, 'sim_options': {'name': 'cosine', 'user_based': True}},\n",
              "        {'k': 85, 'sim_options': {'name': 'pearson_baseline', 'user_based': True}},\n",
              "        {'k': 100, 'sim_options': {'name': 'cosine', 'user_based': True}},\n",
              "        {'k': 400, 'sim_options': {'name': 'cosine', 'user_based': True}},\n",
              "        {'k': 1500, 'sim_options': {'name': 'pearson_baseline', 'user_based': True}},\n",
              "        {'k': 100, 'sim_options': {'name': 'pearson_baseline', 'user_based': True}},\n",
              "        {'k': 3000, 'sim_options': {'name': 'pearson_baseline', 'user_based': True}},\n",
              "        {'k': 85, 'sim_options': {'name': 'cosine', 'user_based': True}},\n",
              "        {'k': 2000, 'sim_options': {'name': 'pearson_baseline', 'user_based': True}},\n",
              "        {'k': 50, 'sim_options': {'name': 'pearson_baseline', 'user_based': True}},\n",
              "        {'k': 40, 'sim_options': {'name': 'pearson_baseline', 'user_based': True}},\n",
              "        {'k': 2500, 'sim_options': {'name': 'cosine', 'user_based': True}},\n",
              "        {'k': 1500, 'sim_options': {'name': 'cosine', 'user_based': True}},\n",
              "        {'k': 3000, 'sim_options': {'name': 'cosine', 'user_based': True}},\n",
              "        {'k': 2500, 'sim_options': {'name': 'pearson_baseline', 'user_based': True}}],\n",
              "       dtype=object),\n",
              " array([1.05912417, 1.11915152, 1.05861953, 1.0589974 , 1.1194125 ,\n",
              "        1.11924574, 1.1194125 , 1.0589585 , 1.1194125 , 1.11862184,\n",
              "        1.11850357, 1.0579519 , 1.0579519 , 1.0579519 , 1.1194125 ]))"
            ]
          },
          "metadata": {
            "tags": []
          },
          "execution_count": 28
        }
      ]
    },
    {
      "cell_type": "markdown",
      "metadata": {
        "colab_type": "text",
        "id": "G6rUJEriq97_"
      },
      "source": [
        "## Item-Item Similarity"
      ]
    },
    {
      "cell_type": "code",
      "metadata": {
        "colab_type": "code",
        "outputId": "ca85e4d4-64f8-4e16-d65b-ed8b2441608f",
        "id": "4DpSSFM9q97_",
        "colab": {
          "base_uri": "https://localhost:8080/",
          "height": 1000
        }
      },
      "source": [
        "param_grid = {'k': [40,50,60,80,100,200,500,1000,1500,2000,2500,3000],\n",
        "             'sim_options': {'name': ['pearson_baseline','cosine'], 'user_based': [False]}\n",
        "             }\n",
        "\n",
        "i_i_gs = GridSearchCV(KNNWithMeans, param_grid, measures=['rmse'], cv=3, joblib_verbose=40, n_jobs=-1)\n",
        "\n",
        "i_i_gs.fit(data)\n",
        "\n",
        "# best RMSE score\n",
        "print(i_i_gs.best_score['rmse'])\n",
        "\n",
        "# combination of parameters that gave the best RMSE score\n",
        "print(i_i_gs.best_params['rmse'])"
      ],
      "execution_count": 0,
      "outputs": [
        {
          "output_type": "stream",
          "text": [
            "[Parallel(n_jobs=-1)]: Using backend LokyBackend with 2 concurrent workers.\n",
            "[Parallel(n_jobs=-1)]: Done   1 tasks      | elapsed:    2.5s\n",
            "[Parallel(n_jobs=-1)]: Done   2 tasks      | elapsed:    3.8s\n",
            "[Parallel(n_jobs=-1)]: Done   3 tasks      | elapsed:    4.9s\n",
            "[Parallel(n_jobs=-1)]: Done   4 tasks      | elapsed:    6.1s\n",
            "[Parallel(n_jobs=-1)]: Done   5 tasks      | elapsed:    7.3s\n",
            "[Parallel(n_jobs=-1)]: Done   6 tasks      | elapsed:    8.6s\n",
            "[Parallel(n_jobs=-1)]: Done   7 tasks      | elapsed:    9.7s\n",
            "[Parallel(n_jobs=-1)]: Done   8 tasks      | elapsed:   10.9s\n",
            "[Parallel(n_jobs=-1)]: Done   9 tasks      | elapsed:   12.0s\n",
            "[Parallel(n_jobs=-1)]: Done  10 tasks      | elapsed:   13.3s\n",
            "[Parallel(n_jobs=-1)]: Done  11 tasks      | elapsed:   14.5s\n",
            "[Parallel(n_jobs=-1)]: Done  12 tasks      | elapsed:   15.7s\n",
            "[Parallel(n_jobs=-1)]: Done  13 tasks      | elapsed:   16.9s\n",
            "[Parallel(n_jobs=-1)]: Done  14 tasks      | elapsed:   18.0s\n",
            "[Parallel(n_jobs=-1)]: Done  15 tasks      | elapsed:   19.1s\n",
            "[Parallel(n_jobs=-1)]: Done  16 tasks      | elapsed:   20.4s\n",
            "[Parallel(n_jobs=-1)]: Done  17 tasks      | elapsed:   21.7s\n",
            "[Parallel(n_jobs=-1)]: Done  18 tasks      | elapsed:   22.9s\n",
            "[Parallel(n_jobs=-1)]: Done  19 tasks      | elapsed:   23.9s\n",
            "[Parallel(n_jobs=-1)]: Done  20 tasks      | elapsed:   25.1s\n",
            "[Parallel(n_jobs=-1)]: Done  21 tasks      | elapsed:   26.4s\n",
            "[Parallel(n_jobs=-1)]: Done  22 tasks      | elapsed:   27.6s\n",
            "[Parallel(n_jobs=-1)]: Done  23 tasks      | elapsed:   28.8s\n",
            "[Parallel(n_jobs=-1)]: Done  24 tasks      | elapsed:   30.1s\n",
            "[Parallel(n_jobs=-1)]: Done  25 tasks      | elapsed:   31.2s\n",
            "[Parallel(n_jobs=-1)]: Done  26 tasks      | elapsed:   32.3s\n",
            "[Parallel(n_jobs=-1)]: Done  27 tasks      | elapsed:   33.5s\n",
            "[Parallel(n_jobs=-1)]: Done  28 tasks      | elapsed:   34.8s\n",
            "[Parallel(n_jobs=-1)]: Done  29 tasks      | elapsed:   36.0s\n",
            "[Parallel(n_jobs=-1)]: Done  30 tasks      | elapsed:   37.2s\n",
            "[Parallel(n_jobs=-1)]: Done  31 tasks      | elapsed:   38.3s\n",
            "[Parallel(n_jobs=-1)]: Done  32 tasks      | elapsed:   39.4s\n",
            "[Parallel(n_jobs=-1)]: Done  33 tasks      | elapsed:   40.6s\n",
            "[Parallel(n_jobs=-1)]: Done  34 tasks      | elapsed:   41.9s\n",
            "[Parallel(n_jobs=-1)]: Done  35 tasks      | elapsed:   43.1s\n",
            "[Parallel(n_jobs=-1)]: Done  36 tasks      | elapsed:   44.3s\n",
            "[Parallel(n_jobs=-1)]: Done  37 tasks      | elapsed:   45.5s\n",
            "[Parallel(n_jobs=-1)]: Done  38 tasks      | elapsed:   46.6s\n",
            "[Parallel(n_jobs=-1)]: Done  39 tasks      | elapsed:   47.7s\n",
            "[Parallel(n_jobs=-1)]: Done  40 tasks      | elapsed:   49.0s\n",
            "[Parallel(n_jobs=-1)]: Done  41 tasks      | elapsed:   50.3s\n",
            "[Parallel(n_jobs=-1)]: Done  42 tasks      | elapsed:   51.5s\n",
            "[Parallel(n_jobs=-1)]: Done  43 tasks      | elapsed:   52.5s\n",
            "[Parallel(n_jobs=-1)]: Done  44 tasks      | elapsed:   53.8s\n",
            "[Parallel(n_jobs=-1)]: Done  45 tasks      | elapsed:   54.9s\n",
            "[Parallel(n_jobs=-1)]: Done  46 tasks      | elapsed:   56.2s\n",
            "[Parallel(n_jobs=-1)]: Done  47 tasks      | elapsed:   57.3s\n",
            "[Parallel(n_jobs=-1)]: Done  48 tasks      | elapsed:   58.6s\n",
            "[Parallel(n_jobs=-1)]: Done  49 tasks      | elapsed:   59.7s\n",
            "[Parallel(n_jobs=-1)]: Done  50 tasks      | elapsed:  1.0min\n",
            "[Parallel(n_jobs=-1)]: Done  51 tasks      | elapsed:  1.0min\n",
            "[Parallel(n_jobs=-1)]: Done  52 tasks      | elapsed:  1.1min\n",
            "[Parallel(n_jobs=-1)]: Done  53 tasks      | elapsed:  1.1min\n",
            "[Parallel(n_jobs=-1)]: Done  54 tasks      | elapsed:  1.1min\n",
            "[Parallel(n_jobs=-1)]: Done  55 tasks      | elapsed:  1.1min\n",
            "[Parallel(n_jobs=-1)]: Done  56 tasks      | elapsed:  1.1min\n",
            "[Parallel(n_jobs=-1)]: Done  57 tasks      | elapsed:  1.2min\n",
            "[Parallel(n_jobs=-1)]: Done  58 tasks      | elapsed:  1.2min\n",
            "[Parallel(n_jobs=-1)]: Done  59 tasks      | elapsed:  1.2min\n",
            "[Parallel(n_jobs=-1)]: Done  60 tasks      | elapsed:  1.2min\n",
            "[Parallel(n_jobs=-1)]: Done  61 tasks      | elapsed:  1.2min\n",
            "[Parallel(n_jobs=-1)]: Done  62 tasks      | elapsed:  1.3min\n",
            "[Parallel(n_jobs=-1)]: Done  63 tasks      | elapsed:  1.3min\n",
            "[Parallel(n_jobs=-1)]: Done  64 tasks      | elapsed:  1.3min\n",
            "[Parallel(n_jobs=-1)]: Done  65 tasks      | elapsed:  1.3min\n",
            "[Parallel(n_jobs=-1)]: Done  66 tasks      | elapsed:  1.3min\n",
            "[Parallel(n_jobs=-1)]: Done  67 tasks      | elapsed:  1.4min\n",
            "[Parallel(n_jobs=-1)]: Done  68 tasks      | elapsed:  1.4min\n",
            "[Parallel(n_jobs=-1)]: Done  69 tasks      | elapsed:  1.4min\n"
          ],
          "name": "stderr"
        },
        {
          "output_type": "stream",
          "text": [
            "1.1169649211021628\n",
            "{'k': 40, 'sim_options': {'name': 'cosine', 'user_based': False}}\n"
          ],
          "name": "stdout"
        },
        {
          "output_type": "stream",
          "text": [
            "[Parallel(n_jobs=-1)]: Done  72 out of  72 | elapsed:  1.4min finished\n"
          ],
          "name": "stderr"
        }
      ]
    },
    {
      "cell_type": "code",
      "metadata": {
        "colab_type": "code",
        "id": "6YizOkbaq98D",
        "colab": {}
      },
      "source": [
        "#best item-item model\n",
        "#1.1169649211021628\n",
        "#{'k': 40, 'sim_options': {'name': 'cosine', 'user_based': False}}\n",
        "algo_i_i = i_i_gs.best_estimator['rmse']"
      ],
      "execution_count": 0,
      "outputs": []
    },
    {
      "cell_type": "code",
      "metadata": {
        "colab_type": "code",
        "outputId": "b0ef57ee-ff20-4d7f-fb3d-32ccfbd86f40",
        "id": "ssjhMChhPD9K",
        "colab": {
          "base_uri": "https://localhost:8080/",
          "height": 67
        }
      },
      "source": [
        "#refit on train data\n",
        "\n",
        "algo_i_i.fit(trainset)"
      ],
      "execution_count": 0,
      "outputs": [
        {
          "output_type": "stream",
          "text": [
            "Computing the cosine similarity matrix...\n",
            "Done computing similarity matrix.\n"
          ],
          "name": "stdout"
        },
        {
          "output_type": "execute_result",
          "data": {
            "text/plain": [
              "<surprise.prediction_algorithms.knns.KNNWithMeans at 0x7f412f1b3f28>"
            ]
          },
          "metadata": {
            "tags": []
          },
          "execution_count": 31
        }
      ]
    },
    {
      "cell_type": "code",
      "metadata": {
        "colab_type": "code",
        "id": "H-wQ5QLZq98E",
        "colab": {}
      },
      "source": [
        "#pickle save\n",
        "pickle.dump(algo_i_i,open('item_item_GSbest.sav','wb'))"
      ],
      "execution_count": 0,
      "outputs": []
    },
    {
      "cell_type": "code",
      "metadata": {
        "id": "QrBaBrmULxGa",
        "colab_type": "code",
        "outputId": "9a92d4ff-15e8-4c8b-c023-d67b095b5422",
        "colab": {
          "base_uri": "https://localhost:8080/",
          "height": 588
        }
      },
      "source": [
        "i_i_gs.cv_results['params'], i_i_gs.cv_results['mean_test_rmse']"
      ],
      "execution_count": 0,
      "outputs": [
        {
          "output_type": "execute_result",
          "data": {
            "text/plain": [
              "([{'k': 40, 'sim_options': {'name': 'pearson_baseline', 'user_based': False}},\n",
              "  {'k': 40, 'sim_options': {'name': 'cosine', 'user_based': False}},\n",
              "  {'k': 50, 'sim_options': {'name': 'pearson_baseline', 'user_based': False}},\n",
              "  {'k': 50, 'sim_options': {'name': 'cosine', 'user_based': False}},\n",
              "  {'k': 60, 'sim_options': {'name': 'pearson_baseline', 'user_based': False}},\n",
              "  {'k': 60, 'sim_options': {'name': 'cosine', 'user_based': False}},\n",
              "  {'k': 80, 'sim_options': {'name': 'pearson_baseline', 'user_based': False}},\n",
              "  {'k': 80, 'sim_options': {'name': 'cosine', 'user_based': False}},\n",
              "  {'k': 100, 'sim_options': {'name': 'pearson_baseline', 'user_based': False}},\n",
              "  {'k': 100, 'sim_options': {'name': 'cosine', 'user_based': False}},\n",
              "  {'k': 200, 'sim_options': {'name': 'pearson_baseline', 'user_based': False}},\n",
              "  {'k': 200, 'sim_options': {'name': 'cosine', 'user_based': False}},\n",
              "  {'k': 500, 'sim_options': {'name': 'pearson_baseline', 'user_based': False}},\n",
              "  {'k': 500, 'sim_options': {'name': 'cosine', 'user_based': False}},\n",
              "  {'k': 1000,\n",
              "   'sim_options': {'name': 'pearson_baseline', 'user_based': False}},\n",
              "  {'k': 1000, 'sim_options': {'name': 'cosine', 'user_based': False}},\n",
              "  {'k': 1500,\n",
              "   'sim_options': {'name': 'pearson_baseline', 'user_based': False}},\n",
              "  {'k': 1500, 'sim_options': {'name': 'cosine', 'user_based': False}},\n",
              "  {'k': 2000,\n",
              "   'sim_options': {'name': 'pearson_baseline', 'user_based': False}},\n",
              "  {'k': 2000, 'sim_options': {'name': 'cosine', 'user_based': False}},\n",
              "  {'k': 2500,\n",
              "   'sim_options': {'name': 'pearson_baseline', 'user_based': False}},\n",
              "  {'k': 2500, 'sim_options': {'name': 'cosine', 'user_based': False}},\n",
              "  {'k': 3000,\n",
              "   'sim_options': {'name': 'pearson_baseline', 'user_based': False}},\n",
              "  {'k': 3000, 'sim_options': {'name': 'cosine', 'user_based': False}}],\n",
              " array([1.2246384 , 1.11696492, 1.2246384 , 1.11696492, 1.2246384 ,\n",
              "        1.11696492, 1.2246384 , 1.11696492, 1.2246384 , 1.11696492,\n",
              "        1.2246384 , 1.11696492, 1.2246384 , 1.11696492, 1.2246384 ,\n",
              "        1.11696492, 1.2246384 , 1.11696492, 1.2246384 , 1.11696492,\n",
              "        1.2246384 , 1.11696492, 1.2246384 , 1.11696492]))"
            ]
          },
          "metadata": {
            "tags": []
          },
          "execution_count": 33
        }
      ]
    },
    {
      "cell_type": "markdown",
      "metadata": {
        "colab_type": "text",
        "id": "vLD3AaXDq98G"
      },
      "source": [
        "## Latent Factorisation"
      ]
    },
    {
      "cell_type": "code",
      "metadata": {
        "colab_type": "code",
        "outputId": "75237ce4-3225-4952-b152-19e03caaff1e",
        "id": "aTtks8M2q98G",
        "colab": {
          "base_uri": "https://localhost:8080/",
          "height": 1000
        }
      },
      "source": [
        "param_grid = {'n_factors': [10,20,30,40,50,60,70,80,90,100],\n",
        "              'lr_all': [0.00001, 0.0001, 0.001, 0.01,0.1,0.2,0.5],\n",
        "              'reg_all': [0.01,0.02,0.05,0.1,0.5,1,2]\n",
        "             }\n",
        "\n",
        "mf_gs = RandomizedSearchCV(SVD, param_grid,n_iter=50, measures=['rmse'], cv=3, n_jobs=-1, joblib_verbose=50)\n",
        "\n",
        "mf_gs.fit(data)\n",
        "\n",
        "# best RMSE score\n",
        "print(mf_gs.best_score['rmse'])\n",
        "\n",
        "# combination of parameters that gave the best RMSE score\n",
        "print(mf_gs.best_params['rmse'])"
      ],
      "execution_count": 0,
      "outputs": [
        {
          "output_type": "stream",
          "text": [
            "[Parallel(n_jobs=-1)]: Using backend LokyBackend with 2 concurrent workers.\n",
            "[Parallel(n_jobs=-1)]: Done   1 tasks      | elapsed:    5.2s\n",
            "[Parallel(n_jobs=-1)]: Done   2 tasks      | elapsed:    7.2s\n",
            "[Parallel(n_jobs=-1)]: Done   3 tasks      | elapsed:    9.3s\n",
            "[Parallel(n_jobs=-1)]: Done   4 tasks      | elapsed:   11.1s\n",
            "[Parallel(n_jobs=-1)]: Done   5 tasks      | elapsed:   11.4s\n",
            "[Parallel(n_jobs=-1)]: Done   6 tasks      | elapsed:   13.0s\n",
            "[Parallel(n_jobs=-1)]: Done   7 tasks      | elapsed:   17.4s\n",
            "[Parallel(n_jobs=-1)]: Done   8 tasks      | elapsed:   19.2s\n",
            "[Parallel(n_jobs=-1)]: Done   9 tasks      | elapsed:   22.5s\n",
            "[Parallel(n_jobs=-1)]: Done  10 tasks      | elapsed:   23.0s\n",
            "[Parallel(n_jobs=-1)]: Done  11 tasks      | elapsed:   26.2s\n",
            "[Parallel(n_jobs=-1)]: Done  12 tasks      | elapsed:   28.3s\n",
            "[Parallel(n_jobs=-1)]: Done  13 tasks      | elapsed:   28.5s\n",
            "[Parallel(n_jobs=-1)]: Done  14 tasks      | elapsed:   30.0s\n",
            "[Parallel(n_jobs=-1)]: Done  15 tasks      | elapsed:   31.2s\n",
            "[Parallel(n_jobs=-1)]: Done  16 tasks      | elapsed:   33.2s\n",
            "[Parallel(n_jobs=-1)]: Done  17 tasks      | elapsed:   34.6s\n",
            "[Parallel(n_jobs=-1)]: Done  18 tasks      | elapsed:   36.4s\n",
            "[Parallel(n_jobs=-1)]: Done  19 tasks      | elapsed:   40.2s\n",
            "[Parallel(n_jobs=-1)]: Done  20 tasks      | elapsed:   42.2s\n",
            "[Parallel(n_jobs=-1)]: Done  21 tasks      | elapsed:   45.1s\n",
            "[Parallel(n_jobs=-1)]: Done  22 tasks      | elapsed:   45.7s\n",
            "[Parallel(n_jobs=-1)]: Done  23 tasks      | elapsed:   47.8s\n",
            "[Parallel(n_jobs=-1)]: Done  24 tasks      | elapsed:   49.6s\n",
            "[Parallel(n_jobs=-1)]: Done  25 tasks      | elapsed:   53.5s\n",
            "[Parallel(n_jobs=-1)]: Done  26 tasks      | elapsed:   55.5s\n",
            "[Parallel(n_jobs=-1)]: Done  27 tasks      | elapsed:   57.5s\n",
            "[Parallel(n_jobs=-1)]: Done  28 tasks      | elapsed:   59.5s\n",
            "[Parallel(n_jobs=-1)]: Done  29 tasks      | elapsed:   60.0s\n",
            "[Parallel(n_jobs=-1)]: Done  30 tasks      | elapsed:  1.0min\n",
            "[Parallel(n_jobs=-1)]: Done  31 tasks      | elapsed:  1.1min\n",
            "[Parallel(n_jobs=-1)]: Done  32 tasks      | elapsed:  1.1min\n",
            "[Parallel(n_jobs=-1)]: Done  33 tasks      | elapsed:  1.1min\n",
            "[Parallel(n_jobs=-1)]: Done  34 tasks      | elapsed:  1.2min\n",
            "[Parallel(n_jobs=-1)]: Done  35 tasks      | elapsed:  1.2min\n",
            "[Parallel(n_jobs=-1)]: Done  36 tasks      | elapsed:  1.3min\n",
            "[Parallel(n_jobs=-1)]: Done  37 tasks      | elapsed:  1.3min\n",
            "[Parallel(n_jobs=-1)]: Done  38 tasks      | elapsed:  1.3min\n",
            "[Parallel(n_jobs=-1)]: Done  39 tasks      | elapsed:  1.4min\n",
            "[Parallel(n_jobs=-1)]: Done  40 tasks      | elapsed:  1.4min\n",
            "[Parallel(n_jobs=-1)]: Done  41 tasks      | elapsed:  1.4min\n",
            "[Parallel(n_jobs=-1)]: Done  42 tasks      | elapsed:  1.4min\n",
            "[Parallel(n_jobs=-1)]: Done  43 tasks      | elapsed:  1.4min\n",
            "[Parallel(n_jobs=-1)]: Done  44 tasks      | elapsed:  1.5min\n",
            "[Parallel(n_jobs=-1)]: Done  45 tasks      | elapsed:  1.5min\n",
            "[Parallel(n_jobs=-1)]: Done  46 tasks      | elapsed:  1.5min\n",
            "[Parallel(n_jobs=-1)]: Done  47 tasks      | elapsed:  1.5min\n",
            "[Parallel(n_jobs=-1)]: Done  48 tasks      | elapsed:  1.6min\n",
            "[Parallel(n_jobs=-1)]: Done  49 tasks      | elapsed:  1.6min\n",
            "[Parallel(n_jobs=-1)]: Done  50 tasks      | elapsed:  1.6min\n",
            "[Parallel(n_jobs=-1)]: Done  51 tasks      | elapsed:  1.7min\n",
            "[Parallel(n_jobs=-1)]: Done  52 tasks      | elapsed:  1.7min\n",
            "[Parallel(n_jobs=-1)]: Done  53 tasks      | elapsed:  1.7min\n",
            "[Parallel(n_jobs=-1)]: Done  54 tasks      | elapsed:  1.7min\n",
            "[Parallel(n_jobs=-1)]: Done  55 tasks      | elapsed:  1.8min\n",
            "[Parallel(n_jobs=-1)]: Done  56 tasks      | elapsed:  1.8min\n",
            "[Parallel(n_jobs=-1)]: Done  57 tasks      | elapsed:  1.8min\n",
            "[Parallel(n_jobs=-1)]: Done  58 tasks      | elapsed:  1.8min\n",
            "[Parallel(n_jobs=-1)]: Done  59 tasks      | elapsed:  1.9min\n",
            "[Parallel(n_jobs=-1)]: Done  60 tasks      | elapsed:  1.9min\n",
            "[Parallel(n_jobs=-1)]: Done  61 tasks      | elapsed:  2.0min\n",
            "[Parallel(n_jobs=-1)]: Done  62 tasks      | elapsed:  2.0min\n",
            "[Parallel(n_jobs=-1)]: Done  63 tasks      | elapsed:  2.0min\n",
            "[Parallel(n_jobs=-1)]: Done  64 tasks      | elapsed:  2.0min\n",
            "[Parallel(n_jobs=-1)]: Done  65 tasks      | elapsed:  2.1min\n",
            "[Parallel(n_jobs=-1)]: Done  66 tasks      | elapsed:  2.1min\n",
            "[Parallel(n_jobs=-1)]: Done  67 tasks      | elapsed:  2.2min\n",
            "[Parallel(n_jobs=-1)]: Done  68 tasks      | elapsed:  2.2min\n",
            "[Parallel(n_jobs=-1)]: Done  69 tasks      | elapsed:  2.2min\n",
            "[Parallel(n_jobs=-1)]: Done  70 tasks      | elapsed:  2.3min\n",
            "[Parallel(n_jobs=-1)]: Done  71 tasks      | elapsed:  2.3min\n",
            "[Parallel(n_jobs=-1)]: Done  72 tasks      | elapsed:  2.3min\n",
            "[Parallel(n_jobs=-1)]: Done  73 tasks      | elapsed:  2.4min\n",
            "[Parallel(n_jobs=-1)]: Done  74 tasks      | elapsed:  2.4min\n",
            "[Parallel(n_jobs=-1)]: Done  75 tasks      | elapsed:  2.4min\n",
            "[Parallel(n_jobs=-1)]: Done  76 tasks      | elapsed:  2.5min\n",
            "[Parallel(n_jobs=-1)]: Done  77 tasks      | elapsed:  2.5min\n",
            "[Parallel(n_jobs=-1)]: Done  78 tasks      | elapsed:  2.5min\n",
            "[Parallel(n_jobs=-1)]: Done  79 tasks      | elapsed:  2.6min\n",
            "[Parallel(n_jobs=-1)]: Done  80 tasks      | elapsed:  2.6min\n",
            "[Parallel(n_jobs=-1)]: Done  81 tasks      | elapsed:  2.7min\n",
            "[Parallel(n_jobs=-1)]: Done  82 tasks      | elapsed:  2.7min\n",
            "[Parallel(n_jobs=-1)]: Done  83 tasks      | elapsed:  2.7min\n",
            "[Parallel(n_jobs=-1)]: Done  84 tasks      | elapsed:  2.8min\n",
            "[Parallel(n_jobs=-1)]: Done  85 tasks      | elapsed:  2.8min\n",
            "[Parallel(n_jobs=-1)]: Done  86 tasks      | elapsed:  2.9min\n",
            "[Parallel(n_jobs=-1)]: Done  87 tasks      | elapsed:  2.9min\n",
            "[Parallel(n_jobs=-1)]: Done  88 tasks      | elapsed:  2.9min\n",
            "[Parallel(n_jobs=-1)]: Done  89 tasks      | elapsed:  3.0min\n",
            "[Parallel(n_jobs=-1)]: Done  90 tasks      | elapsed:  3.0min\n",
            "[Parallel(n_jobs=-1)]: Done  91 tasks      | elapsed:  3.0min\n",
            "[Parallel(n_jobs=-1)]: Done  92 tasks      | elapsed:  3.1min\n",
            "[Parallel(n_jobs=-1)]: Done  93 tasks      | elapsed:  3.1min\n",
            "[Parallel(n_jobs=-1)]: Done  94 tasks      | elapsed:  3.1min\n",
            "[Parallel(n_jobs=-1)]: Done  95 tasks      | elapsed:  3.2min\n",
            "[Parallel(n_jobs=-1)]: Done  96 tasks      | elapsed:  3.2min\n",
            "[Parallel(n_jobs=-1)]: Done  97 tasks      | elapsed:  3.2min\n",
            "[Parallel(n_jobs=-1)]: Done  98 tasks      | elapsed:  3.3min\n",
            "[Parallel(n_jobs=-1)]: Done  99 tasks      | elapsed:  3.3min\n",
            "[Parallel(n_jobs=-1)]: Done 100 tasks      | elapsed:  3.4min\n",
            "[Parallel(n_jobs=-1)]: Done 101 tasks      | elapsed:  3.4min\n",
            "[Parallel(n_jobs=-1)]: Done 102 tasks      | elapsed:  3.4min\n",
            "[Parallel(n_jobs=-1)]: Done 103 tasks      | elapsed:  3.4min\n",
            "[Parallel(n_jobs=-1)]: Done 104 tasks      | elapsed:  3.5min\n",
            "[Parallel(n_jobs=-1)]: Done 105 tasks      | elapsed:  3.5min\n",
            "[Parallel(n_jobs=-1)]: Done 106 tasks      | elapsed:  3.6min\n",
            "[Parallel(n_jobs=-1)]: Done 107 tasks      | elapsed:  3.6min\n",
            "[Parallel(n_jobs=-1)]: Done 108 tasks      | elapsed:  3.7min\n",
            "[Parallel(n_jobs=-1)]: Done 109 tasks      | elapsed:  3.7min\n",
            "[Parallel(n_jobs=-1)]: Done 110 tasks      | elapsed:  3.7min\n",
            "[Parallel(n_jobs=-1)]: Done 111 tasks      | elapsed:  3.8min\n",
            "[Parallel(n_jobs=-1)]: Done 112 tasks      | elapsed:  3.8min\n",
            "[Parallel(n_jobs=-1)]: Done 113 tasks      | elapsed:  3.8min\n",
            "[Parallel(n_jobs=-1)]: Done 114 tasks      | elapsed:  3.8min\n",
            "[Parallel(n_jobs=-1)]: Done 115 tasks      | elapsed:  3.9min\n",
            "[Parallel(n_jobs=-1)]: Done 116 tasks      | elapsed:  3.9min\n",
            "[Parallel(n_jobs=-1)]: Done 117 tasks      | elapsed:  4.0min\n",
            "[Parallel(n_jobs=-1)]: Done 118 tasks      | elapsed:  4.0min\n",
            "[Parallel(n_jobs=-1)]: Done 119 tasks      | elapsed:  4.0min\n",
            "[Parallel(n_jobs=-1)]: Done 120 tasks      | elapsed:  4.0min\n",
            "[Parallel(n_jobs=-1)]: Done 121 tasks      | elapsed:  4.1min\n",
            "[Parallel(n_jobs=-1)]: Done 122 tasks      | elapsed:  4.1min\n",
            "[Parallel(n_jobs=-1)]: Done 123 tasks      | elapsed:  4.1min\n",
            "[Parallel(n_jobs=-1)]: Done 124 tasks      | elapsed:  4.2min\n",
            "[Parallel(n_jobs=-1)]: Done 125 tasks      | elapsed:  4.2min\n",
            "[Parallel(n_jobs=-1)]: Done 126 tasks      | elapsed:  4.2min\n",
            "[Parallel(n_jobs=-1)]: Done 127 tasks      | elapsed:  4.2min\n",
            "[Parallel(n_jobs=-1)]: Done 128 tasks      | elapsed:  4.3min\n",
            "[Parallel(n_jobs=-1)]: Done 129 tasks      | elapsed:  4.3min\n",
            "[Parallel(n_jobs=-1)]: Done 130 tasks      | elapsed:  4.4min\n",
            "[Parallel(n_jobs=-1)]: Done 131 tasks      | elapsed:  4.4min\n",
            "[Parallel(n_jobs=-1)]: Done 132 tasks      | elapsed:  4.4min\n",
            "[Parallel(n_jobs=-1)]: Done 133 tasks      | elapsed:  4.5min\n",
            "[Parallel(n_jobs=-1)]: Done 134 tasks      | elapsed:  4.5min\n",
            "[Parallel(n_jobs=-1)]: Done 135 tasks      | elapsed:  4.5min\n",
            "[Parallel(n_jobs=-1)]: Done 136 tasks      | elapsed:  4.6min\n",
            "[Parallel(n_jobs=-1)]: Done 137 tasks      | elapsed:  4.6min\n",
            "[Parallel(n_jobs=-1)]: Done 138 tasks      | elapsed:  4.7min\n",
            "[Parallel(n_jobs=-1)]: Done 139 tasks      | elapsed:  4.7min\n",
            "[Parallel(n_jobs=-1)]: Done 140 tasks      | elapsed:  4.7min\n",
            "[Parallel(n_jobs=-1)]: Done 141 tasks      | elapsed:  4.8min\n",
            "[Parallel(n_jobs=-1)]: Done 142 tasks      | elapsed:  4.8min\n",
            "[Parallel(n_jobs=-1)]: Done 143 tasks      | elapsed:  4.9min\n",
            "[Parallel(n_jobs=-1)]: Done 144 tasks      | elapsed:  4.9min\n",
            "[Parallel(n_jobs=-1)]: Done 145 tasks      | elapsed:  4.9min\n",
            "[Parallel(n_jobs=-1)]: Done 146 tasks      | elapsed:  5.0min\n",
            "[Parallel(n_jobs=-1)]: Done 147 tasks      | elapsed:  5.0min\n",
            "[Parallel(n_jobs=-1)]: Done 150 out of 150 | elapsed:  5.1min finished\n",
            "1.0192473889324232\n",
            "{'n_factors': 90, 'lr_all': 0.1, 'reg_all': 0.02}\n"
          ],
          "name": "stdout"
        }
      ]
    },
    {
      "cell_type": "code",
      "metadata": {
        "colab_type": "code",
        "id": "HP5Jspjdq98I",
        "colab": {}
      },
      "source": [
        "#best latent factor model\n",
        "#0.8303826655531948\n",
        "#1.0192473889324232\n",
        "#{'n_factors': 90, 'lr_all': 0.1, 'reg_all': 0.02}\n",
        "algo_LF = mf_gs.best_estimator['rmse']"
      ],
      "execution_count": 0,
      "outputs": []
    },
    {
      "cell_type": "code",
      "metadata": {
        "colab_type": "code",
        "outputId": "3ca359ea-defa-4d1d-bd95-9bc56d8962bb",
        "id": "IZMINh5oRZb8",
        "colab": {
          "base_uri": "https://localhost:8080/",
          "height": 34
        }
      },
      "source": [
        "#refit on train data\n",
        "\n",
        "algo_LF.fit(trainset)"
      ],
      "execution_count": 0,
      "outputs": [
        {
          "output_type": "execute_result",
          "data": {
            "text/plain": [
              "<surprise.prediction_algorithms.matrix_factorization.SVD at 0x7f4131b69908>"
            ]
          },
          "metadata": {
            "tags": []
          },
          "execution_count": 36
        }
      ]
    },
    {
      "cell_type": "code",
      "metadata": {
        "colab_type": "code",
        "id": "s07VnLjhq98K",
        "colab": {}
      },
      "source": [
        "#pickle save\n",
        "import pickle\n",
        "pickle.dump(algo_LF,open('LF_GSbest.sav','wb'))"
      ],
      "execution_count": 0,
      "outputs": []
    },
    {
      "cell_type": "markdown",
      "metadata": {
        "colab_type": "text",
        "id": "-GXcR8xNq98M"
      },
      "source": [
        "#Load Best Models"
      ]
    },
    {
      "cell_type": "code",
      "metadata": {
        "colab_type": "code",
        "id": "ByDs7Jxoq98O",
        "colab": {}
      },
      "source": [
        "#pickle load USER-USER\n",
        "algo_u_u = pickle.load(open('user_user_GSbest.sav','rb'))"
      ],
      "execution_count": 0,
      "outputs": []
    },
    {
      "cell_type": "code",
      "metadata": {
        "colab_type": "code",
        "id": "J2aEjflQq98T",
        "colab": {}
      },
      "source": [
        "#pickle load ITEM-ITEM\n",
        "algo_i_i = pickle.load(open('item_item_GSbest.sav','rb'))"
      ],
      "execution_count": 0,
      "outputs": []
    },
    {
      "cell_type": "code",
      "metadata": {
        "colab_type": "code",
        "id": "AaW_05Mfq98X",
        "colab": {}
      },
      "source": [
        "#pickle load Latent Factorisation\n",
        "algo_LF = pickle.load(open('LF_GSbest.sav','rb'))"
      ],
      "execution_count": 0,
      "outputs": []
    },
    {
      "cell_type": "markdown",
      "metadata": {
        "colab_type": "text",
        "id": "F_3Xpx_Sq9-e"
      },
      "source": [
        "# Calculating Precision on test set \n",
        "  LF: Precision = 95%, recall = 47.5% (but this doesn't matter, because only items with top 10 estimated scores are recommended. Since number of predicted items are less, TP rate is also less)\n",
        "  \n",
        "  User-user: Precision = 92.5%\n",
        "  Item-item: Precision = 91.8%"
      ]
    },
    {
      "cell_type": "code",
      "metadata": {
        "colab_type": "code",
        "outputId": "94e386c6-2ec0-4154-9565-eed5ec06db7e",
        "id": "a8-1pUoHq9-h",
        "colab": {
          "base_uri": "https://localhost:8080/",
          "height": 50
        }
      },
      "source": [
        "predictions_ii_test = algo_i_i.test(testset)\n",
        "precisions, recalls = precision_recall_at_k(predictions_ii_test, k=10, threshold=4)\n",
        "\n",
        "# Precision and recall can then be averaged over all users\n",
        "print(sum(prec for prec in precisions.values()) / len(precisions))\n",
        "print(sum(rec for rec in recalls.values()) / len(recalls))"
      ],
      "execution_count": 0,
      "outputs": [
        {
          "output_type": "stream",
          "text": [
            "0.9574077882901415\n",
            "0.6344131358837239\n"
          ],
          "name": "stdout"
        }
      ]
    },
    {
      "cell_type": "code",
      "metadata": {
        "colab_type": "code",
        "outputId": "bf60fca3-8466-4ae5-82f9-b6d21ea6f6a8",
        "id": "NVZ5R5p5VxGd",
        "colab": {
          "base_uri": "https://localhost:8080/",
          "height": 50
        }
      },
      "source": [
        "predictions_uu_test = algo_u_u.test(testset)\n",
        "precisions, recalls = precision_recall_at_k(predictions_uu_test, k=10, threshold=4)\n",
        "\n",
        "# Precision and recall can then be averaged over all users\n",
        "print(sum(prec for prec in precisions.values()) / len(precisions))\n",
        "print(sum(rec for rec in recalls.values()) / len(recalls))"
      ],
      "execution_count": 0,
      "outputs": [
        {
          "output_type": "stream",
          "text": [
            "0.9601672836966956\n",
            "0.6449026463732346\n"
          ],
          "name": "stdout"
        }
      ]
    },
    {
      "cell_type": "code",
      "metadata": {
        "colab_type": "code",
        "outputId": "82a92a20-80b2-407f-e688-77a8367535b7",
        "id": "FefA_FfxWAIr",
        "colab": {
          "base_uri": "https://localhost:8080/",
          "height": 50
        }
      },
      "source": [
        "predictions_lf_test = algo_LF.test(testset)\n",
        "precisions, recalls = precision_recall_at_k(predictions_lf_test, k=10, threshold=4)\n",
        "\n",
        "# Precision and recall can then be averaged over all users\n",
        "print(sum(prec for prec in precisions.values()) / len(precisions))\n",
        "print(sum(rec for rec in recalls.values()) / len(recalls))"
      ],
      "execution_count": 0,
      "outputs": [
        {
          "output_type": "stream",
          "text": [
            "0.9889277389277388\n",
            "0.7088783765254352\n"
          ],
          "name": "stdout"
        }
      ]
    },
    {
      "cell_type": "code",
      "metadata": {
        "id": "Y-c-7k69iKJf",
        "colab_type": "code",
        "outputId": "cf5d1b4f-82e6-4db8-96d9-6486dcd0a76a",
        "colab": {
          "base_uri": "https://localhost:8080/",
          "height": 50
        }
      },
      "source": [
        "rmse(predictions_ii_test)"
      ],
      "execution_count": 0,
      "outputs": [
        {
          "output_type": "stream",
          "text": [
            "RMSE: 0.9130\n"
          ],
          "name": "stdout"
        },
        {
          "output_type": "execute_result",
          "data": {
            "text/plain": [
              "0.9130386842158857"
            ]
          },
          "metadata": {
            "tags": []
          },
          "execution_count": 35
        }
      ]
    },
    {
      "cell_type": "code",
      "metadata": {
        "id": "DJykosTsitjZ",
        "colab_type": "code",
        "outputId": "db21e4cb-8693-466a-a9a0-e0174ae33a4d",
        "colab": {
          "base_uri": "https://localhost:8080/",
          "height": 50
        }
      },
      "source": [
        "rmse(predictions_uu_test)"
      ],
      "execution_count": 0,
      "outputs": [
        {
          "output_type": "stream",
          "text": [
            "RMSE: 0.9048\n"
          ],
          "name": "stdout"
        },
        {
          "output_type": "execute_result",
          "data": {
            "text/plain": [
              "0.9048204844530616"
            ]
          },
          "metadata": {
            "tags": []
          },
          "execution_count": 36
        }
      ]
    },
    {
      "cell_type": "code",
      "metadata": {
        "id": "VssyeF9Sizvr",
        "colab_type": "code",
        "outputId": "98dc1af5-b12d-46b1-cb9e-80c72ec25e15",
        "colab": {
          "base_uri": "https://localhost:8080/",
          "height": 50
        }
      },
      "source": [
        "rmse(predictions_lf_test)"
      ],
      "execution_count": 0,
      "outputs": [
        {
          "output_type": "stream",
          "text": [
            "RMSE: 0.5853\n"
          ],
          "name": "stdout"
        },
        {
          "output_type": "execute_result",
          "data": {
            "text/plain": [
              "0.5853321903956664"
            ]
          },
          "metadata": {
            "tags": []
          },
          "execution_count": 37
        }
      ]
    },
    {
      "cell_type": "markdown",
      "metadata": {
        "colab_type": "text",
        "id": "IGlCp8yJq98j"
      },
      "source": [
        "# User-wise recommendations - Demo"
      ]
    },
    {
      "cell_type": "code",
      "metadata": {
        "colab_type": "code",
        "outputId": "50513261-05d5-4d76-dca5-0d69c610411d",
        "id": "GLinQzy5q98k",
        "colab": {
          "base_uri": "https://localhost:8080/",
          "height": 34
        }
      },
      "source": [
        "df['PartyID'].unique()"
      ],
      "execution_count": 0,
      "outputs": [
        {
          "output_type": "execute_result",
          "data": {
            "text/plain": [
              "array([  174884,   175387,   175550, ..., 85795846, 85808087, 85867033])"
            ]
          },
          "metadata": {
            "tags": []
          },
          "execution_count": 11
        }
      ]
    },
    {
      "cell_type": "code",
      "metadata": {
        "colab_type": "code",
        "outputId": "f4958a65-f208-430a-cbc3-c88a37d86c7e",
        "id": "9lnJTePGq98n",
        "colab": {
          "base_uri": "https://localhost:8080/",
          "height": 34
        }
      },
      "source": [
        "i=1\n",
        "user_input = input(\"Please enter user_id to recommend for her/him: \")\n",
        "while (i == 1):\n",
        "  if (pd.to_numeric(user_input) not in list(df['PartyID'])):\n",
        "    print(\"User_id is not in training set. Enter some other value.\")\n",
        "    user_input = input(\"Please enter user_id to recommend for her/him: \")\n",
        "  else:\n",
        "    i=0\n",
        "\n",
        "#entered 175550\n",
        "#can also enter 174884,85795846"
      ],
      "execution_count": 0,
      "outputs": [
        {
          "output_type": "stream",
          "text": [
            "Please enter user_id to recommend for her/him: 218737\n"
          ],
          "name": "stdout"
        }
      ]
    },
    {
      "cell_type": "code",
      "metadata": {
        "colab_type": "code",
        "id": "OR-dSnz2q98q",
        "colab": {}
      },
      "source": [
        "#get a list of all merchant names\n",
        "iids = df['Merchant_Name_Cleaned'].unique()\n",
        "#get a list of merchants that uid 175550 has transacted with\n",
        "iids_175550 = df.loc[df['PartyID']==int(user_input),'Merchant_Name_Cleaned']\n",
        "#remove the merchants that uid 175550 has transacted with from list of merchant names\n",
        "iids_to_pred = np.setdiff1d(iids,iids_175550) "
      ],
      "execution_count": 0,
      "outputs": []
    },
    {
      "cell_type": "code",
      "metadata": {
        "id": "LRkGOoMVd-Hj",
        "colab_type": "code",
        "outputId": "24f45aa0-3a4a-4e4b-f4ab-2ac934b18fd9",
        "colab": {
          "base_uri": "https://localhost:8080/",
          "height": 34
        }
      },
      "source": [
        "len(iids_to_pred), len(iids_175550),len(iids) "
      ],
      "execution_count": 0,
      "outputs": [
        {
          "output_type": "execute_result",
          "data": {
            "text/plain": [
              "(2133, 18, 2151)"
            ]
          },
          "metadata": {
            "tags": []
          },
          "execution_count": 60
        }
      ]
    },
    {
      "cell_type": "code",
      "metadata": {
        "colab_type": "code",
        "outputId": "b1b4e245-5c54-415d-b5ac-70a2d46bf3e3",
        "id": "CgQFLYkmq98u",
        "colab": {
          "base_uri": "https://localhost:8080/",
          "height": 34
        }
      },
      "source": [
        "#Latent Factor - get predicted ratings for untransacted merchants\n",
        "predictions_lf = [algo_LF.predict(pd.to_numeric(user_input),iid) for iid in iids_to_pred]\n",
        "predictions_lf[0]\n",
        "#convert to array to see all"
      ],
      "execution_count": 0,
      "outputs": [
        {
          "output_type": "execute_result",
          "data": {
            "text/plain": [
              "Prediction(uid=218737, iid='7-eleven', r_ui=None, est=2.118406167598147, details={'was_impossible': False})"
            ]
          },
          "metadata": {
            "tags": []
          },
          "execution_count": 61
        }
      ]
    },
    {
      "cell_type": "code",
      "metadata": {
        "id": "BC6CipIEcI7i",
        "colab_type": "code",
        "outputId": "0bef8d33-6be8-4a1d-d53d-a85466873fcf",
        "colab": {
          "base_uri": "https://localhost:8080/",
          "height": 580
        }
      },
      "source": [
        "df[df['PartyID']==int(user_input)]"
      ],
      "execution_count": 0,
      "outputs": [
        {
          "output_type": "execute_result",
          "data": {
            "text/html": [
              "<div>\n",
              "<style scoped>\n",
              "    .dataframe tbody tr th:only-of-type {\n",
              "        vertical-align: middle;\n",
              "    }\n",
              "\n",
              "    .dataframe tbody tr th {\n",
              "        vertical-align: top;\n",
              "    }\n",
              "\n",
              "    .dataframe thead th {\n",
              "        text-align: right;\n",
              "    }\n",
              "</style>\n",
              "<table border=\"1\" class=\"dataframe\">\n",
              "  <thead>\n",
              "    <tr style=\"text-align: right;\">\n",
              "      <th></th>\n",
              "      <th>PartyID</th>\n",
              "      <th>Merchant_Name_Cleaned</th>\n",
              "      <th>Merchant_Freq</th>\n",
              "      <th>TotalFrequency</th>\n",
              "      <th>rating</th>\n",
              "      <th>FreqProp</th>\n",
              "    </tr>\n",
              "  </thead>\n",
              "  <tbody>\n",
              "    <tr>\n",
              "      <th>2901</th>\n",
              "      <td>218737</td>\n",
              "      <td>Others</td>\n",
              "      <td>4</td>\n",
              "      <td>40</td>\n",
              "      <td>5</td>\n",
              "      <td>0.100</td>\n",
              "    </tr>\n",
              "    <tr>\n",
              "      <th>2902</th>\n",
              "      <td>218737</td>\n",
              "      <td>bee s birds nest singapore</td>\n",
              "      <td>1</td>\n",
              "      <td>40</td>\n",
              "      <td>2</td>\n",
              "      <td>0.025</td>\n",
              "    </tr>\n",
              "    <tr>\n",
              "      <th>2903</th>\n",
              "      <td>218737</td>\n",
              "      <td>cathay cineplex</td>\n",
              "      <td>1</td>\n",
              "      <td>40</td>\n",
              "      <td>2</td>\n",
              "      <td>0.025</td>\n",
              "    </tr>\n",
              "    <tr>\n",
              "      <th>2904</th>\n",
              "      <td>218737</td>\n",
              "      <td>enets</td>\n",
              "      <td>1</td>\n",
              "      <td>40</td>\n",
              "      <td>2</td>\n",
              "      <td>0.025</td>\n",
              "    </tr>\n",
              "    <tr>\n",
              "      <th>2905</th>\n",
              "      <td>218737</td>\n",
              "      <td>fairprice</td>\n",
              "      <td>9</td>\n",
              "      <td>40</td>\n",
              "      <td>5</td>\n",
              "      <td>0.225</td>\n",
              "    </tr>\n",
              "    <tr>\n",
              "      <th>2906</th>\n",
              "      <td>218737</td>\n",
              "      <td>giosis qoo</td>\n",
              "      <td>7</td>\n",
              "      <td>40</td>\n",
              "      <td>5</td>\n",
              "      <td>0.175</td>\n",
              "    </tr>\n",
              "    <tr>\n",
              "      <th>2907</th>\n",
              "      <td>218737</td>\n",
              "      <td>groupon</td>\n",
              "      <td>4</td>\n",
              "      <td>40</td>\n",
              "      <td>5</td>\n",
              "      <td>0.100</td>\n",
              "    </tr>\n",
              "    <tr>\n",
              "      <th>2908</th>\n",
              "      <td>218737</td>\n",
              "      <td>ichiban sushi</td>\n",
              "      <td>1</td>\n",
              "      <td>40</td>\n",
              "      <td>2</td>\n",
              "      <td>0.025</td>\n",
              "    </tr>\n",
              "    <tr>\n",
              "      <th>2909</th>\n",
              "      <td>218737</td>\n",
              "      <td>ktph</td>\n",
              "      <td>1</td>\n",
              "      <td>40</td>\n",
              "      <td>2</td>\n",
              "      <td>0.025</td>\n",
              "    </tr>\n",
              "    <tr>\n",
              "      <th>2910</th>\n",
              "      <td>218737</td>\n",
              "      <td>mc donalds</td>\n",
              "      <td>1</td>\n",
              "      <td>40</td>\n",
              "      <td>2</td>\n",
              "      <td>0.025</td>\n",
              "    </tr>\n",
              "    <tr>\n",
              "      <th>2911</th>\n",
              "      <td>218737</td>\n",
              "      <td>new york new york</td>\n",
              "      <td>1</td>\n",
              "      <td>40</td>\n",
              "      <td>2</td>\n",
              "      <td>0.025</td>\n",
              "    </tr>\n",
              "    <tr>\n",
              "      <th>2912</th>\n",
              "      <td>218737</td>\n",
              "      <td>oac insurance</td>\n",
              "      <td>1</td>\n",
              "      <td>40</td>\n",
              "      <td>2</td>\n",
              "      <td>0.025</td>\n",
              "    </tr>\n",
              "    <tr>\n",
              "      <th>2913</th>\n",
              "      <td>218737</td>\n",
              "      <td>pandora</td>\n",
              "      <td>1</td>\n",
              "      <td>40</td>\n",
              "      <td>2</td>\n",
              "      <td>0.025</td>\n",
              "    </tr>\n",
              "    <tr>\n",
              "      <th>2914</th>\n",
              "      <td>218737</td>\n",
              "      <td>pastamania</td>\n",
              "      <td>1</td>\n",
              "      <td>40</td>\n",
              "      <td>2</td>\n",
              "      <td>0.025</td>\n",
              "    </tr>\n",
              "    <tr>\n",
              "      <th>2915</th>\n",
              "      <td>218737</td>\n",
              "      <td>pizza hut s</td>\n",
              "      <td>1</td>\n",
              "      <td>40</td>\n",
              "      <td>2</td>\n",
              "      <td>0.025</td>\n",
              "    </tr>\n",
              "    <tr>\n",
              "      <th>2916</th>\n",
              "      <td>218737</td>\n",
              "      <td>ramen play</td>\n",
              "      <td>1</td>\n",
              "      <td>40</td>\n",
              "      <td>2</td>\n",
              "      <td>0.025</td>\n",
              "    </tr>\n",
              "    <tr>\n",
              "      <th>2917</th>\n",
              "      <td>218737</td>\n",
              "      <td>swensen s</td>\n",
              "      <td>1</td>\n",
              "      <td>40</td>\n",
              "      <td>2</td>\n",
              "      <td>0.025</td>\n",
              "    </tr>\n",
              "    <tr>\n",
              "      <th>2918</th>\n",
              "      <td>218737</td>\n",
              "      <td>zalora</td>\n",
              "      <td>3</td>\n",
              "      <td>40</td>\n",
              "      <td>4</td>\n",
              "      <td>0.075</td>\n",
              "    </tr>\n",
              "  </tbody>\n",
              "</table>\n",
              "</div>"
            ],
            "text/plain": [
              "      PartyID       Merchant_Name_Cleaned  ...  rating  FreqProp\n",
              "2901   218737                      Others  ...       5     0.100\n",
              "2902   218737  bee s birds nest singapore  ...       2     0.025\n",
              "2903   218737             cathay cineplex  ...       2     0.025\n",
              "2904   218737                       enets  ...       2     0.025\n",
              "2905   218737                   fairprice  ...       5     0.225\n",
              "2906   218737                  giosis qoo  ...       5     0.175\n",
              "2907   218737                     groupon  ...       5     0.100\n",
              "2908   218737               ichiban sushi  ...       2     0.025\n",
              "2909   218737                        ktph  ...       2     0.025\n",
              "2910   218737                  mc donalds  ...       2     0.025\n",
              "2911   218737           new york new york  ...       2     0.025\n",
              "2912   218737               oac insurance  ...       2     0.025\n",
              "2913   218737                     pandora  ...       2     0.025\n",
              "2914   218737                  pastamania  ...       2     0.025\n",
              "2915   218737                 pizza hut s  ...       2     0.025\n",
              "2916   218737                  ramen play  ...       2     0.025\n",
              "2917   218737                   swensen s  ...       2     0.025\n",
              "2918   218737                      zalora  ...       4     0.075\n",
              "\n",
              "[18 rows x 6 columns]"
            ]
          },
          "metadata": {
            "tags": []
          },
          "execution_count": 62
        }
      ]
    },
    {
      "cell_type": "code",
      "metadata": {
        "id": "57mBe_MYVIxg",
        "colab_type": "code",
        "outputId": "5a7a5594-0901-4c16-b121-bc23ceeff757",
        "colab": {
          "base_uri": "https://localhost:8080/",
          "height": 319
        }
      },
      "source": [
        "df.loc[df['PartyID']==int(user_input),'Merchant_Name_Cleaned'].to_list()"
      ],
      "execution_count": 0,
      "outputs": [
        {
          "output_type": "execute_result",
          "data": {
            "text/plain": [
              "['Others',\n",
              " 'bee s birds nest singapore',\n",
              " 'cathay cineplex',\n",
              " 'enets',\n",
              " 'fairprice',\n",
              " 'giosis qoo',\n",
              " 'groupon',\n",
              " 'ichiban sushi',\n",
              " 'ktph',\n",
              " 'mc donalds',\n",
              " 'new york new york',\n",
              " 'oac insurance',\n",
              " 'pandora',\n",
              " 'pastamania',\n",
              " 'pizza hut s',\n",
              " 'ramen play',\n",
              " 'swensen s',\n",
              " 'zalora']"
            ]
          },
          "metadata": {
            "tags": []
          },
          "execution_count": 63
        }
      ]
    },
    {
      "cell_type": "code",
      "metadata": {
        "colab_type": "code",
        "outputId": "0f44c74b-0281-4832-d0b8-979becb4605e",
        "id": "ema6XNnLq98w",
        "colab": {
          "base_uri": "https://localhost:8080/",
          "height": 34
        }
      },
      "source": [
        "#Latent Factor - get predicted rating for specific merchant\n",
        "algo_LF.predict(175550,'groupon',5)"
      ],
      "execution_count": 0,
      "outputs": [
        {
          "output_type": "execute_result",
          "data": {
            "text/plain": [
              "Prediction(uid=175550, iid='groupon', r_ui=5, est=5, details={'was_impossible': False})"
            ]
          },
          "metadata": {
            "tags": []
          },
          "execution_count": 64
        }
      ]
    },
    {
      "cell_type": "code",
      "metadata": {
        "colab_type": "code",
        "outputId": "f5561b72-11d9-4ae0-b02a-accafb5b83ed",
        "id": "91Vt7r8vq980",
        "colab": {
          "base_uri": "https://localhost:8080/",
          "height": 34
        }
      },
      "source": [
        "#Latent factor - find top merchant to recommend\n",
        "pred_ratings_lf = np.array([pred.est for pred in predictions_lf])\n",
        "#find the index of the maximum predicted rating\n",
        "i_max = pred_ratings_lf.argmax()\n",
        "#use this to find the corresponding iid to recommend\n",
        "iid = iids_to_pred[i_max]\n",
        "print('Top merchant for user {2} is \"{0}\" with predicted rating of {1}.'.format (iid,pred_ratings_lf[i_max],user_input))"
      ],
      "execution_count": 0,
      "outputs": [
        {
          "output_type": "stream",
          "text": [
            "Top merchant for user 218737 is \"fitness first\" with predicted rating of 4.577881059406431.\n"
          ],
          "name": "stdout"
        }
      ]
    },
    {
      "cell_type": "code",
      "metadata": {
        "colab_type": "code",
        "outputId": "c6674c38-ffbd-4e56-aab6-ccd12ad9f2b2",
        "id": "bB6khgJ8q981",
        "colab": {
          "base_uri": "https://localhost:8080/",
          "height": 50
        }
      },
      "source": [
        "#Latent factor - find top 5 merchant to recommend\n",
        "#for top 5 predicted ratings\n",
        "pred_ratings_lf = np.array([pred.est for pred in predictions_lf])\n",
        "#find the index of the maximum predicted rating\n",
        "i_maxs = np.argsort(-1*pred_ratings_lf)[:5]\n",
        "iids_lf = iids_to_pred[i_maxs]\n",
        "print('Top 5 merchants for user {2} are: {0} with predicted rating of {1} respectively.'.format (iids_lf,pred_ratings_lf[i_maxs],user_input))"
      ],
      "execution_count": 0,
      "outputs": [
        {
          "output_type": "stream",
          "text": [
            "Top 5 merchants for user 218737 are: ['fitness first' 'spore telecom' 'hospital illness careplus'\n",
            " 'the butter factory p l' 'taxi service'] with predicted rating of [4.57788106 4.54957991 4.3965501  4.31093863 4.24410426] respectively.\n"
          ],
          "name": "stdout"
        }
      ]
    },
    {
      "cell_type": "code",
      "metadata": {
        "colab_type": "code",
        "outputId": "d41b2b68-98ae-46c4-e167-56010e234257",
        "id": "NAT343rmq983",
        "colab": {
          "base_uri": "https://localhost:8080/",
          "height": 34
        }
      },
      "source": [
        "#ITEM-ITEM - to get predicted ratings\n",
        "predictions_ii = [algo_i_i.predict(pd.to_numeric(user_input),iid) for iid in iids_to_pred]\n",
        "predictions_ii[0]\n",
        "#convert to array to see all"
      ],
      "execution_count": 0,
      "outputs": [
        {
          "output_type": "execute_result",
          "data": {
            "text/plain": [
              "Prediction(uid=175550, iid='7-eleven', r_ui=None, est=2.5022913316773012, details={'actual_k': 2, 'was_impossible': False})"
            ]
          },
          "metadata": {
            "tags": []
          },
          "execution_count": 85
        }
      ]
    },
    {
      "cell_type": "code",
      "metadata": {
        "colab_type": "code",
        "outputId": "3e4e7483-be40-4599-a124-94e638520cb3",
        "id": "qwTdpJXMq987",
        "colab": {
          "base_uri": "https://localhost:8080/",
          "height": 34
        }
      },
      "source": [
        "#ITEM-ITEM\n",
        "#for top 5 predicted ratings\n",
        "pred_ratings_ii = np.array([pred.est for pred in predictions_ii])\n",
        "#find the index of the maximum predicted rating\n",
        "i_maxs = np.argsort(-1*pred_ratings_ii)[:5]\n",
        "iids_ii = iids_to_pred[i_maxs]\n",
        "print('Top 5 merchants for user {2} are: {0} with predicted rating of {1} respectively.'.format (iids_ii,pred_ratings_ii[i_maxs],user_input))"
      ],
      "execution_count": 0,
      "outputs": [
        {
          "output_type": "stream",
          "text": [
            "Top 5 merchants for user 175550 are: ['jess pub' 'nuskin' 'nucerity in' 'ngovietanhf' 'think pte'] with predicted rating of [5. 5. 5. 5. 5.] respectively.\n"
          ],
          "name": "stdout"
        }
      ]
    },
    {
      "cell_type": "code",
      "metadata": {
        "colab_type": "code",
        "outputId": "fd4c713c-aa03-4801-d3cd-a4cd4cb32d8f",
        "id": "Ko611rwqh7Y6",
        "colab": {
          "base_uri": "https://localhost:8080/",
          "height": 34
        }
      },
      "source": [
        "#USER-USER - to get predicted ratings\n",
        "predictions_uu = [algo_u_u.predict(pd.to_numeric(user_input),iid) for iid in iids_to_pred]\n",
        "predictions_uu[0]\n",
        "#convert to array to see all"
      ],
      "execution_count": 0,
      "outputs": [
        {
          "output_type": "execute_result",
          "data": {
            "text/plain": [
              "Prediction(uid=175550, iid='7-eleven', r_ui=None, est=4.135680182969481, details={'actual_k': 11, 'was_impossible': False})"
            ]
          },
          "metadata": {
            "tags": []
          },
          "execution_count": 55
        }
      ]
    },
    {
      "cell_type": "code",
      "metadata": {
        "colab_type": "code",
        "outputId": "f22e84d8-75ea-4f5c-a915-001265445d1d",
        "id": "mx8kyRU4h7ZA",
        "colab": {
          "base_uri": "https://localhost:8080/",
          "height": 34
        }
      },
      "source": [
        "#ITEM-ITEM\n",
        "#for top 5 predicted ratings\n",
        "pred_ratings_uu = np.array([pred.est for pred in predictions_uu])\n",
        "#find the index of the maximum predicted rating\n",
        "i_maxs = np.argsort(-1*pred_ratings_ii)[:5]\n",
        "iids_uu = iids_to_pred[i_maxs]\n",
        "print('Top 5 merchants for user {2} are: {0} with predicted rating of {1} respectively.'.format (iids_uu,pred_ratings_uu[i_maxs],user_input))"
      ],
      "execution_count": 0,
      "outputs": [
        {
          "output_type": "stream",
          "text": [
            "Top 5 merchants for user 175550 are: ['jess pub' 'nuskin' 'nucerity in' 'ngovietanhf' 'think pte'] with predicted rating of [5. 5. 5. 5. 5.] respectively.\n"
          ],
          "name": "stdout"
        }
      ]
    },
    {
      "cell_type": "code",
      "metadata": {
        "colab_type": "code",
        "outputId": "f3175d6b-727d-4e5f-bd5c-82354adbc85a",
        "id": "lIORAybWq989",
        "colab": {
          "base_uri": "https://localhost:8080/",
          "height": 34
        }
      },
      "source": [
        "df['rating'].astype(int).mean()"
      ],
      "execution_count": 0,
      "outputs": [
        {
          "output_type": "execute_result",
          "data": {
            "text/plain": [
              "2.991437332213698"
            ]
          },
          "metadata": {
            "tags": []
          },
          "execution_count": 165
        }
      ]
    },
    {
      "cell_type": "markdown",
      "metadata": {
        "id": "GlFSstU-iDOU",
        "colab_type": "text"
      },
      "source": [
        "#Generating data for clustering"
      ]
    },
    {
      "cell_type": "code",
      "metadata": {
        "id": "DBR83zB_OZjs",
        "colab_type": "code",
        "outputId": "b0b1ba84-8b4e-41cf-fbcf-a5308a1f895a",
        "colab": {
          "base_uri": "https://localhost:8080/",
          "height": 590
        }
      },
      "source": [
        "txn_demo_high"
      ],
      "execution_count": 0,
      "outputs": [
        {
          "output_type": "execute_result",
          "data": {
            "text/html": [
              "<div>\n",
              "<style scoped>\n",
              "    .dataframe tbody tr th:only-of-type {\n",
              "        vertical-align: middle;\n",
              "    }\n",
              "\n",
              "    .dataframe tbody tr th {\n",
              "        vertical-align: top;\n",
              "    }\n",
              "\n",
              "    .dataframe thead th {\n",
              "        text-align: right;\n",
              "    }\n",
              "</style>\n",
              "<table border=\"1\" class=\"dataframe\">\n",
              "  <thead>\n",
              "    <tr style=\"text-align: right;\">\n",
              "      <th></th>\n",
              "      <th>PartyID</th>\n",
              "      <th>PurchaseFrequency</th>\n",
              "      <th>CardType_nunique</th>\n",
              "      <th>Merchant_Category_nunique</th>\n",
              "      <th>Merchant_Name_nunique</th>\n",
              "      <th>Transaction_amount_mean</th>\n",
              "      <th>Transaction_amount_sum</th>\n",
              "      <th>Transaction_Date_max</th>\n",
              "      <th>DaysSinceLastPurchase</th>\n",
              "      <th>DaysSinceLastPurchase_Rev</th>\n",
              "      <th>R_quantile</th>\n",
              "      <th>F_quantile</th>\n",
              "      <th>M_quantile</th>\n",
              "      <th>RFM_q</th>\n",
              "      <th>EngagementScore</th>\n",
              "      <th>EngagementSegments</th>\n",
              "      <th>AgeBand</th>\n",
              "      <th>CreditLimitBand</th>\n",
              "      <th>District</th>\n",
              "      <th>Gender</th>\n",
              "      <th>RevolverFlag</th>\n",
              "      <th>CardType</th>\n",
              "      <th>Merchant_Category</th>\n",
              "      <th>Merchant_Name_Cleaned</th>\n",
              "      <th>Transaction_amount</th>\n",
              "      <th>Transaction_Date</th>\n",
              "      <th>HasTransacted?</th>\n",
              "      <th>WeekOfYear</th>\n",
              "      <th>Month</th>\n",
              "      <th>DayOfMonth</th>\n",
              "      <th>DayOfWeek</th>\n",
              "      <th>Weekday/Weekend</th>\n",
              "      <th>Merchant_Gateway</th>\n",
              "    </tr>\n",
              "  </thead>\n",
              "  <tbody>\n",
              "    <tr>\n",
              "      <th>0</th>\n",
              "      <td>174884</td>\n",
              "      <td>56</td>\n",
              "      <td>1</td>\n",
              "      <td>12</td>\n",
              "      <td>27</td>\n",
              "      <td>152.070893</td>\n",
              "      <td>8515.97</td>\n",
              "      <td>0</td>\n",
              "      <td>0</td>\n",
              "      <td>0</td>\n",
              "      <td>5</td>\n",
              "      <td>5</td>\n",
              "      <td>5</td>\n",
              "      <td>555</td>\n",
              "      <td>15</td>\n",
              "      <td>High</td>\n",
              "      <td>05 (60 - 69)</td>\n",
              "      <td>01 (&lt; 10)K</td>\n",
              "      <td>57</td>\n",
              "      <td>M</td>\n",
              "      <td>02 Transactor</td>\n",
              "      <td>Co-Brand</td>\n",
              "      <td>RESTAURANTS-BARS</td>\n",
              "      <td>long beach king</td>\n",
              "      <td>79.43</td>\n",
              "      <td>41699</td>\n",
              "      <td>1</td>\n",
              "      <td>9</td>\n",
              "      <td>3</td>\n",
              "      <td>1</td>\n",
              "      <td>7</td>\n",
              "      <td>Weekend</td>\n",
              "      <td>NaN</td>\n",
              "    </tr>\n",
              "    <tr>\n",
              "      <th>1</th>\n",
              "      <td>174884</td>\n",
              "      <td>56</td>\n",
              "      <td>1</td>\n",
              "      <td>12</td>\n",
              "      <td>27</td>\n",
              "      <td>152.070893</td>\n",
              "      <td>8515.97</td>\n",
              "      <td>0</td>\n",
              "      <td>0</td>\n",
              "      <td>0</td>\n",
              "      <td>5</td>\n",
              "      <td>5</td>\n",
              "      <td>5</td>\n",
              "      <td>555</td>\n",
              "      <td>15</td>\n",
              "      <td>High</td>\n",
              "      <td>05 (60 - 69)</td>\n",
              "      <td>01 (&lt; 10)K</td>\n",
              "      <td>57</td>\n",
              "      <td>M</td>\n",
              "      <td>02 Transactor</td>\n",
              "      <td>Co-Brand</td>\n",
              "      <td>FOOD STORES-WAREHOUSE</td>\n",
              "      <td>fairprice</td>\n",
              "      <td>44.50</td>\n",
              "      <td>41705</td>\n",
              "      <td>1</td>\n",
              "      <td>10</td>\n",
              "      <td>3</td>\n",
              "      <td>7</td>\n",
              "      <td>6</td>\n",
              "      <td>Weekday</td>\n",
              "      <td>NaN</td>\n",
              "    </tr>\n",
              "    <tr>\n",
              "      <th>2</th>\n",
              "      <td>174884</td>\n",
              "      <td>56</td>\n",
              "      <td>1</td>\n",
              "      <td>12</td>\n",
              "      <td>27</td>\n",
              "      <td>152.070893</td>\n",
              "      <td>8515.97</td>\n",
              "      <td>0</td>\n",
              "      <td>0</td>\n",
              "      <td>0</td>\n",
              "      <td>5</td>\n",
              "      <td>5</td>\n",
              "      <td>5</td>\n",
              "      <td>555</td>\n",
              "      <td>15</td>\n",
              "      <td>High</td>\n",
              "      <td>05 (60 - 69)</td>\n",
              "      <td>01 (&lt; 10)K</td>\n",
              "      <td>57</td>\n",
              "      <td>M</td>\n",
              "      <td>02 Transactor</td>\n",
              "      <td>Co-Brand</td>\n",
              "      <td>TRAVEL AGENCIES</td>\n",
              "      <td>agoda</td>\n",
              "      <td>1427.46</td>\n",
              "      <td>41706</td>\n",
              "      <td>1</td>\n",
              "      <td>10</td>\n",
              "      <td>3</td>\n",
              "      <td>8</td>\n",
              "      <td>7</td>\n",
              "      <td>Weekend</td>\n",
              "      <td>NaN</td>\n",
              "    </tr>\n",
              "    <tr>\n",
              "      <th>3</th>\n",
              "      <td>174884</td>\n",
              "      <td>56</td>\n",
              "      <td>1</td>\n",
              "      <td>12</td>\n",
              "      <td>27</td>\n",
              "      <td>152.070893</td>\n",
              "      <td>8515.97</td>\n",
              "      <td>0</td>\n",
              "      <td>0</td>\n",
              "      <td>0</td>\n",
              "      <td>5</td>\n",
              "      <td>5</td>\n",
              "      <td>5</td>\n",
              "      <td>555</td>\n",
              "      <td>15</td>\n",
              "      <td>High</td>\n",
              "      <td>05 (60 - 69)</td>\n",
              "      <td>01 (&lt; 10)K</td>\n",
              "      <td>57</td>\n",
              "      <td>M</td>\n",
              "      <td>02 Transactor</td>\n",
              "      <td>Co-Brand</td>\n",
              "      <td>FOOD STORES-WAREHOUSE</td>\n",
              "      <td>fairprice</td>\n",
              "      <td>25.00</td>\n",
              "      <td>41707</td>\n",
              "      <td>1</td>\n",
              "      <td>11</td>\n",
              "      <td>3</td>\n",
              "      <td>9</td>\n",
              "      <td>1</td>\n",
              "      <td>Weekend</td>\n",
              "      <td>NaN</td>\n",
              "    </tr>\n",
              "    <tr>\n",
              "      <th>4</th>\n",
              "      <td>174884</td>\n",
              "      <td>56</td>\n",
              "      <td>1</td>\n",
              "      <td>12</td>\n",
              "      <td>27</td>\n",
              "      <td>152.070893</td>\n",
              "      <td>8515.97</td>\n",
              "      <td>0</td>\n",
              "      <td>0</td>\n",
              "      <td>0</td>\n",
              "      <td>5</td>\n",
              "      <td>5</td>\n",
              "      <td>5</td>\n",
              "      <td>555</td>\n",
              "      <td>15</td>\n",
              "      <td>High</td>\n",
              "      <td>05 (60 - 69)</td>\n",
              "      <td>01 (&lt; 10)K</td>\n",
              "      <td>57</td>\n",
              "      <td>M</td>\n",
              "      <td>02 Transactor</td>\n",
              "      <td>Co-Brand</td>\n",
              "      <td>UTILITIES</td>\n",
              "      <td>hello amk hub</td>\n",
              "      <td>308.86</td>\n",
              "      <td>41707</td>\n",
              "      <td>1</td>\n",
              "      <td>11</td>\n",
              "      <td>3</td>\n",
              "      <td>9</td>\n",
              "      <td>1</td>\n",
              "      <td>Weekend</td>\n",
              "      <td>NaN</td>\n",
              "    </tr>\n",
              "    <tr>\n",
              "      <th>...</th>\n",
              "      <td>...</td>\n",
              "      <td>...</td>\n",
              "      <td>...</td>\n",
              "      <td>...</td>\n",
              "      <td>...</td>\n",
              "      <td>...</td>\n",
              "      <td>...</td>\n",
              "      <td>...</td>\n",
              "      <td>...</td>\n",
              "      <td>...</td>\n",
              "      <td>...</td>\n",
              "      <td>...</td>\n",
              "      <td>...</td>\n",
              "      <td>...</td>\n",
              "      <td>...</td>\n",
              "      <td>...</td>\n",
              "      <td>...</td>\n",
              "      <td>...</td>\n",
              "      <td>...</td>\n",
              "      <td>...</td>\n",
              "      <td>...</td>\n",
              "      <td>...</td>\n",
              "      <td>...</td>\n",
              "      <td>...</td>\n",
              "      <td>...</td>\n",
              "      <td>...</td>\n",
              "      <td>...</td>\n",
              "      <td>...</td>\n",
              "      <td>...</td>\n",
              "      <td>...</td>\n",
              "      <td>...</td>\n",
              "      <td>...</td>\n",
              "      <td>...</td>\n",
              "    </tr>\n",
              "    <tr>\n",
              "      <th>242848</th>\n",
              "      <td>85867033</td>\n",
              "      <td>42</td>\n",
              "      <td>1</td>\n",
              "      <td>11</td>\n",
              "      <td>36</td>\n",
              "      <td>176.071191</td>\n",
              "      <td>7394.99</td>\n",
              "      <td>0</td>\n",
              "      <td>3</td>\n",
              "      <td>-3</td>\n",
              "      <td>3</td>\n",
              "      <td>5</td>\n",
              "      <td>5</td>\n",
              "      <td>355</td>\n",
              "      <td>13</td>\n",
              "      <td>High</td>\n",
              "      <td>01 (20 - 29)</td>\n",
              "      <td>01 (&lt; 10)K</td>\n",
              "      <td>51</td>\n",
              "      <td>F</td>\n",
              "      <td>01 New Customer</td>\n",
              "      <td>Core Card</td>\n",
              "      <td>RESTAURANTS-BARS</td>\n",
              "      <td>Others</td>\n",
              "      <td>39.22</td>\n",
              "      <td>41775</td>\n",
              "      <td>1</td>\n",
              "      <td>20</td>\n",
              "      <td>5</td>\n",
              "      <td>16</td>\n",
              "      <td>6</td>\n",
              "      <td>Weekday</td>\n",
              "      <td>NaN</td>\n",
              "    </tr>\n",
              "    <tr>\n",
              "      <th>242849</th>\n",
              "      <td>85867033</td>\n",
              "      <td>42</td>\n",
              "      <td>1</td>\n",
              "      <td>11</td>\n",
              "      <td>36</td>\n",
              "      <td>176.071191</td>\n",
              "      <td>7394.99</td>\n",
              "      <td>0</td>\n",
              "      <td>3</td>\n",
              "      <td>-3</td>\n",
              "      <td>3</td>\n",
              "      <td>5</td>\n",
              "      <td>5</td>\n",
              "      <td>355</td>\n",
              "      <td>13</td>\n",
              "      <td>High</td>\n",
              "      <td>01 (20 - 29)</td>\n",
              "      <td>01 (&lt; 10)K</td>\n",
              "      <td>51</td>\n",
              "      <td>F</td>\n",
              "      <td>01 New Customer</td>\n",
              "      <td>Core Card</td>\n",
              "      <td>RESTAURANTS-BARS</td>\n",
              "      <td>Others</td>\n",
              "      <td>131.26</td>\n",
              "      <td>41777</td>\n",
              "      <td>1</td>\n",
              "      <td>21</td>\n",
              "      <td>5</td>\n",
              "      <td>18</td>\n",
              "      <td>1</td>\n",
              "      <td>Weekend</td>\n",
              "      <td>NaN</td>\n",
              "    </tr>\n",
              "    <tr>\n",
              "      <th>242850</th>\n",
              "      <td>85867033</td>\n",
              "      <td>42</td>\n",
              "      <td>1</td>\n",
              "      <td>11</td>\n",
              "      <td>36</td>\n",
              "      <td>176.071191</td>\n",
              "      <td>7394.99</td>\n",
              "      <td>0</td>\n",
              "      <td>3</td>\n",
              "      <td>-3</td>\n",
              "      <td>3</td>\n",
              "      <td>5</td>\n",
              "      <td>5</td>\n",
              "      <td>355</td>\n",
              "      <td>13</td>\n",
              "      <td>High</td>\n",
              "      <td>01 (20 - 29)</td>\n",
              "      <td>01 (&lt; 10)K</td>\n",
              "      <td>51</td>\n",
              "      <td>F</td>\n",
              "      <td>01 New Customer</td>\n",
              "      <td>Core Card</td>\n",
              "      <td>FOOD STORES-WAREHOUSE</td>\n",
              "      <td>fairprice</td>\n",
              "      <td>6.78</td>\n",
              "      <td>41778</td>\n",
              "      <td>1</td>\n",
              "      <td>21</td>\n",
              "      <td>5</td>\n",
              "      <td>19</td>\n",
              "      <td>2</td>\n",
              "      <td>Weekday</td>\n",
              "      <td>NaN</td>\n",
              "    </tr>\n",
              "    <tr>\n",
              "      <th>242851</th>\n",
              "      <td>85867033</td>\n",
              "      <td>42</td>\n",
              "      <td>1</td>\n",
              "      <td>11</td>\n",
              "      <td>36</td>\n",
              "      <td>176.071191</td>\n",
              "      <td>7394.99</td>\n",
              "      <td>0</td>\n",
              "      <td>3</td>\n",
              "      <td>-3</td>\n",
              "      <td>3</td>\n",
              "      <td>5</td>\n",
              "      <td>5</td>\n",
              "      <td>355</td>\n",
              "      <td>13</td>\n",
              "      <td>High</td>\n",
              "      <td>01 (20 - 29)</td>\n",
              "      <td>01 (&lt; 10)K</td>\n",
              "      <td>51</td>\n",
              "      <td>F</td>\n",
              "      <td>01 New Customer</td>\n",
              "      <td>Core Card</td>\n",
              "      <td>FOOD STORES-WAREHOUSE</td>\n",
              "      <td>Others</td>\n",
              "      <td>22.55</td>\n",
              "      <td>41779</td>\n",
              "      <td>1</td>\n",
              "      <td>21</td>\n",
              "      <td>5</td>\n",
              "      <td>20</td>\n",
              "      <td>3</td>\n",
              "      <td>Weekday</td>\n",
              "      <td>NaN</td>\n",
              "    </tr>\n",
              "    <tr>\n",
              "      <th>242852</th>\n",
              "      <td>85867033</td>\n",
              "      <td>42</td>\n",
              "      <td>1</td>\n",
              "      <td>11</td>\n",
              "      <td>36</td>\n",
              "      <td>176.071191</td>\n",
              "      <td>7394.99</td>\n",
              "      <td>0</td>\n",
              "      <td>3</td>\n",
              "      <td>-3</td>\n",
              "      <td>3</td>\n",
              "      <td>5</td>\n",
              "      <td>5</td>\n",
              "      <td>355</td>\n",
              "      <td>13</td>\n",
              "      <td>High</td>\n",
              "      <td>01 (20 - 29)</td>\n",
              "      <td>01 (&lt; 10)K</td>\n",
              "      <td>51</td>\n",
              "      <td>F</td>\n",
              "      <td>01 New Customer</td>\n",
              "      <td>Core Card</td>\n",
              "      <td>AIRLINE</td>\n",
              "      <td>Tiger Air</td>\n",
              "      <td>334.79</td>\n",
              "      <td>41787</td>\n",
              "      <td>1</td>\n",
              "      <td>22</td>\n",
              "      <td>5</td>\n",
              "      <td>28</td>\n",
              "      <td>4</td>\n",
              "      <td>Weekday</td>\n",
              "      <td>NaN</td>\n",
              "    </tr>\n",
              "  </tbody>\n",
              "</table>\n",
              "<p>242853 rows × 33 columns</p>\n",
              "</div>"
            ],
            "text/plain": [
              "         PartyID  PurchaseFrequency  ...  Weekday/Weekend  Merchant_Gateway\n",
              "0         174884                 56  ...          Weekend               NaN\n",
              "1         174884                 56  ...          Weekday               NaN\n",
              "2         174884                 56  ...          Weekend               NaN\n",
              "3         174884                 56  ...          Weekend               NaN\n",
              "4         174884                 56  ...          Weekend               NaN\n",
              "...          ...                ...  ...              ...               ...\n",
              "242848  85867033                 42  ...          Weekday               NaN\n",
              "242849  85867033                 42  ...          Weekend               NaN\n",
              "242850  85867033                 42  ...          Weekday               NaN\n",
              "242851  85867033                 42  ...          Weekday               NaN\n",
              "242852  85867033                 42  ...          Weekday               NaN\n",
              "\n",
              "[242853 rows x 33 columns]"
            ]
          },
          "metadata": {
            "tags": []
          },
          "execution_count": 87
        }
      ]
    },
    {
      "cell_type": "code",
      "metadata": {
        "id": "Wz7yqw-hOag5",
        "colab_type": "code",
        "colab": {}
      },
      "source": [
        "df_clustering = pd.pivot_table(txn_demo_high,values = 'Transaction_amount',index = 'PartyID',columns='Merchant_Category',aggfunc='sum')\n",
        "df_clustering = df_clustering.fillna(0)"
      ],
      "execution_count": 0,
      "outputs": []
    },
    {
      "cell_type": "code",
      "metadata": {
        "id": "Kyq2gL2sPf6v",
        "colab_type": "code",
        "colab": {}
      },
      "source": [
        "df_clustering['Total'] = df_clustering.sum(axis=1)"
      ],
      "execution_count": 0,
      "outputs": []
    },
    {
      "cell_type": "code",
      "metadata": {
        "id": "mDz91zzpPFVz",
        "colab_type": "code",
        "outputId": "1737abdb-60b7-4f11-bcb1-c99977b3c839",
        "colab": {
          "base_uri": "https://localhost:8080/",
          "height": 485
        }
      },
      "source": [
        "df_clustering"
      ],
      "execution_count": 0,
      "outputs": [
        {
          "output_type": "execute_result",
          "data": {
            "text/html": [
              "<div>\n",
              "<style scoped>\n",
              "    .dataframe tbody tr th:only-of-type {\n",
              "        vertical-align: middle;\n",
              "    }\n",
              "\n",
              "    .dataframe tbody tr th {\n",
              "        vertical-align: top;\n",
              "    }\n",
              "\n",
              "    .dataframe thead th {\n",
              "        text-align: right;\n",
              "    }\n",
              "</style>\n",
              "<table border=\"1\" class=\"dataframe\">\n",
              "  <thead>\n",
              "    <tr style=\"text-align: right;\">\n",
              "      <th>Merchant_Category</th>\n",
              "      <th>AIRLINE</th>\n",
              "      <th>AUTO RENTAL</th>\n",
              "      <th>CLOTHING STORES</th>\n",
              "      <th>DEPARTMENT STORES</th>\n",
              "      <th>DISCOUNT STORES</th>\n",
              "      <th>DRUG STORES</th>\n",
              "      <th>EDUCATION</th>\n",
              "      <th>ELECTRIC-APPLIANCE</th>\n",
              "      <th>FOOD STORES-WAREHOUSE</th>\n",
              "      <th>GAS STATIONS</th>\n",
              "      <th>HARDWARE</th>\n",
              "      <th>HEALTH CARE</th>\n",
              "      <th>HOTEL-MOTEL</th>\n",
              "      <th>INTERIOR FURNISHINGS</th>\n",
              "      <th>MAIL ORDER</th>\n",
              "      <th>OTHER RETAIL</th>\n",
              "      <th>OTHER SERVICES</th>\n",
              "      <th>OTHER TRANSPORT</th>\n",
              "      <th>Others</th>\n",
              "      <th>PROFESSIONAL SERVICES</th>\n",
              "      <th>QUASI CASH</th>\n",
              "      <th>RECREATION</th>\n",
              "      <th>REPAIR SHOPS</th>\n",
              "      <th>RESTAURANTS-BARS</th>\n",
              "      <th>SPORTING-TOY STORES</th>\n",
              "      <th>TRAVEL AGENCIES</th>\n",
              "      <th>UTILITIES</th>\n",
              "      <th>VEHICLES</th>\n",
              "      <th>Total</th>\n",
              "    </tr>\n",
              "    <tr>\n",
              "      <th>PartyID</th>\n",
              "      <th></th>\n",
              "      <th></th>\n",
              "      <th></th>\n",
              "      <th></th>\n",
              "      <th></th>\n",
              "      <th></th>\n",
              "      <th></th>\n",
              "      <th></th>\n",
              "      <th></th>\n",
              "      <th></th>\n",
              "      <th></th>\n",
              "      <th></th>\n",
              "      <th></th>\n",
              "      <th></th>\n",
              "      <th></th>\n",
              "      <th></th>\n",
              "      <th></th>\n",
              "      <th></th>\n",
              "      <th></th>\n",
              "      <th></th>\n",
              "      <th></th>\n",
              "      <th></th>\n",
              "      <th></th>\n",
              "      <th></th>\n",
              "      <th></th>\n",
              "      <th></th>\n",
              "      <th></th>\n",
              "      <th></th>\n",
              "      <th></th>\n",
              "    </tr>\n",
              "  </thead>\n",
              "  <tbody>\n",
              "    <tr>\n",
              "      <th>174884</th>\n",
              "      <td>0.00</td>\n",
              "      <td>0.00</td>\n",
              "      <td>121.43</td>\n",
              "      <td>0.00</td>\n",
              "      <td>0.0</td>\n",
              "      <td>0.00</td>\n",
              "      <td>0.0</td>\n",
              "      <td>0.00</td>\n",
              "      <td>958.88</td>\n",
              "      <td>673.23</td>\n",
              "      <td>1055.45</td>\n",
              "      <td>0.00</td>\n",
              "      <td>0.0</td>\n",
              "      <td>399.96</td>\n",
              "      <td>216.13</td>\n",
              "      <td>27.78</td>\n",
              "      <td>0.00</td>\n",
              "      <td>860.36</td>\n",
              "      <td>0.0</td>\n",
              "      <td>0.00</td>\n",
              "      <td>0.00</td>\n",
              "      <td>0.00</td>\n",
              "      <td>0.0</td>\n",
              "      <td>1627.50</td>\n",
              "      <td>0.00</td>\n",
              "      <td>1427.46</td>\n",
              "      <td>308.86</td>\n",
              "      <td>838.93</td>\n",
              "      <td>8515.97</td>\n",
              "    </tr>\n",
              "    <tr>\n",
              "      <th>175387</th>\n",
              "      <td>0.00</td>\n",
              "      <td>0.00</td>\n",
              "      <td>146.87</td>\n",
              "      <td>0.00</td>\n",
              "      <td>0.0</td>\n",
              "      <td>96.42</td>\n",
              "      <td>0.0</td>\n",
              "      <td>0.00</td>\n",
              "      <td>586.60</td>\n",
              "      <td>0.00</td>\n",
              "      <td>0.00</td>\n",
              "      <td>0.00</td>\n",
              "      <td>0.0</td>\n",
              "      <td>0.00</td>\n",
              "      <td>0.00</td>\n",
              "      <td>47.60</td>\n",
              "      <td>545.94</td>\n",
              "      <td>0.00</td>\n",
              "      <td>0.0</td>\n",
              "      <td>0.00</td>\n",
              "      <td>0.00</td>\n",
              "      <td>119.21</td>\n",
              "      <td>0.0</td>\n",
              "      <td>151.08</td>\n",
              "      <td>0.00</td>\n",
              "      <td>0.00</td>\n",
              "      <td>0.00</td>\n",
              "      <td>0.00</td>\n",
              "      <td>1693.72</td>\n",
              "    </tr>\n",
              "    <tr>\n",
              "      <th>175550</th>\n",
              "      <td>0.00</td>\n",
              "      <td>0.00</td>\n",
              "      <td>0.00</td>\n",
              "      <td>0.00</td>\n",
              "      <td>0.0</td>\n",
              "      <td>0.00</td>\n",
              "      <td>0.0</td>\n",
              "      <td>55.53</td>\n",
              "      <td>0.00</td>\n",
              "      <td>1934.40</td>\n",
              "      <td>0.00</td>\n",
              "      <td>0.00</td>\n",
              "      <td>0.0</td>\n",
              "      <td>0.00</td>\n",
              "      <td>0.00</td>\n",
              "      <td>32.27</td>\n",
              "      <td>195.98</td>\n",
              "      <td>0.00</td>\n",
              "      <td>0.0</td>\n",
              "      <td>1.34</td>\n",
              "      <td>0.00</td>\n",
              "      <td>0.00</td>\n",
              "      <td>0.0</td>\n",
              "      <td>0.00</td>\n",
              "      <td>38.43</td>\n",
              "      <td>0.00</td>\n",
              "      <td>0.00</td>\n",
              "      <td>0.00</td>\n",
              "      <td>2257.95</td>\n",
              "    </tr>\n",
              "    <tr>\n",
              "      <th>176146</th>\n",
              "      <td>0.00</td>\n",
              "      <td>0.00</td>\n",
              "      <td>540.68</td>\n",
              "      <td>213.08</td>\n",
              "      <td>0.0</td>\n",
              "      <td>0.00</td>\n",
              "      <td>0.0</td>\n",
              "      <td>604.39</td>\n",
              "      <td>470.94</td>\n",
              "      <td>0.00</td>\n",
              "      <td>0.00</td>\n",
              "      <td>315.14</td>\n",
              "      <td>0.0</td>\n",
              "      <td>0.00</td>\n",
              "      <td>0.00</td>\n",
              "      <td>73.95</td>\n",
              "      <td>0.00</td>\n",
              "      <td>0.00</td>\n",
              "      <td>0.0</td>\n",
              "      <td>0.00</td>\n",
              "      <td>0.00</td>\n",
              "      <td>19.78</td>\n",
              "      <td>0.0</td>\n",
              "      <td>144.82</td>\n",
              "      <td>140.83</td>\n",
              "      <td>0.00</td>\n",
              "      <td>76.66</td>\n",
              "      <td>0.00</td>\n",
              "      <td>2600.27</td>\n",
              "    </tr>\n",
              "    <tr>\n",
              "      <th>176222</th>\n",
              "      <td>0.00</td>\n",
              "      <td>0.00</td>\n",
              "      <td>0.00</td>\n",
              "      <td>0.00</td>\n",
              "      <td>0.0</td>\n",
              "      <td>0.00</td>\n",
              "      <td>0.0</td>\n",
              "      <td>0.00</td>\n",
              "      <td>148.52</td>\n",
              "      <td>0.00</td>\n",
              "      <td>0.00</td>\n",
              "      <td>0.00</td>\n",
              "      <td>0.0</td>\n",
              "      <td>0.00</td>\n",
              "      <td>0.00</td>\n",
              "      <td>0.00</td>\n",
              "      <td>0.00</td>\n",
              "      <td>0.00</td>\n",
              "      <td>0.0</td>\n",
              "      <td>9120.13</td>\n",
              "      <td>0.00</td>\n",
              "      <td>0.00</td>\n",
              "      <td>0.0</td>\n",
              "      <td>145.53</td>\n",
              "      <td>0.00</td>\n",
              "      <td>0.00</td>\n",
              "      <td>0.00</td>\n",
              "      <td>0.00</td>\n",
              "      <td>9414.18</td>\n",
              "    </tr>\n",
              "    <tr>\n",
              "      <th>...</th>\n",
              "      <td>...</td>\n",
              "      <td>...</td>\n",
              "      <td>...</td>\n",
              "      <td>...</td>\n",
              "      <td>...</td>\n",
              "      <td>...</td>\n",
              "      <td>...</td>\n",
              "      <td>...</td>\n",
              "      <td>...</td>\n",
              "      <td>...</td>\n",
              "      <td>...</td>\n",
              "      <td>...</td>\n",
              "      <td>...</td>\n",
              "      <td>...</td>\n",
              "      <td>...</td>\n",
              "      <td>...</td>\n",
              "      <td>...</td>\n",
              "      <td>...</td>\n",
              "      <td>...</td>\n",
              "      <td>...</td>\n",
              "      <td>...</td>\n",
              "      <td>...</td>\n",
              "      <td>...</td>\n",
              "      <td>...</td>\n",
              "      <td>...</td>\n",
              "      <td>...</td>\n",
              "      <td>...</td>\n",
              "      <td>...</td>\n",
              "      <td>...</td>\n",
              "    </tr>\n",
              "    <tr>\n",
              "      <th>85795366</th>\n",
              "      <td>0.00</td>\n",
              "      <td>0.00</td>\n",
              "      <td>8.85</td>\n",
              "      <td>0.00</td>\n",
              "      <td>0.0</td>\n",
              "      <td>0.00</td>\n",
              "      <td>0.0</td>\n",
              "      <td>0.00</td>\n",
              "      <td>165.43</td>\n",
              "      <td>0.00</td>\n",
              "      <td>0.00</td>\n",
              "      <td>0.00</td>\n",
              "      <td>0.0</td>\n",
              "      <td>0.00</td>\n",
              "      <td>0.00</td>\n",
              "      <td>0.00</td>\n",
              "      <td>130.87</td>\n",
              "      <td>0.00</td>\n",
              "      <td>0.0</td>\n",
              "      <td>0.00</td>\n",
              "      <td>0.00</td>\n",
              "      <td>0.00</td>\n",
              "      <td>0.0</td>\n",
              "      <td>161.15</td>\n",
              "      <td>0.00</td>\n",
              "      <td>0.00</td>\n",
              "      <td>172.20</td>\n",
              "      <td>0.00</td>\n",
              "      <td>638.50</td>\n",
              "    </tr>\n",
              "    <tr>\n",
              "      <th>85795614</th>\n",
              "      <td>0.00</td>\n",
              "      <td>0.00</td>\n",
              "      <td>236.59</td>\n",
              "      <td>0.00</td>\n",
              "      <td>0.0</td>\n",
              "      <td>0.00</td>\n",
              "      <td>0.0</td>\n",
              "      <td>100.02</td>\n",
              "      <td>496.32</td>\n",
              "      <td>0.00</td>\n",
              "      <td>0.00</td>\n",
              "      <td>0.00</td>\n",
              "      <td>0.0</td>\n",
              "      <td>0.00</td>\n",
              "      <td>0.00</td>\n",
              "      <td>137.29</td>\n",
              "      <td>454.65</td>\n",
              "      <td>0.00</td>\n",
              "      <td>0.0</td>\n",
              "      <td>232.27</td>\n",
              "      <td>0.00</td>\n",
              "      <td>395.51</td>\n",
              "      <td>0.0</td>\n",
              "      <td>182.10</td>\n",
              "      <td>0.00</td>\n",
              "      <td>0.00</td>\n",
              "      <td>159.37</td>\n",
              "      <td>0.00</td>\n",
              "      <td>2394.12</td>\n",
              "    </tr>\n",
              "    <tr>\n",
              "      <th>85795846</th>\n",
              "      <td>567.72</td>\n",
              "      <td>0.00</td>\n",
              "      <td>478.39</td>\n",
              "      <td>237.42</td>\n",
              "      <td>0.0</td>\n",
              "      <td>0.00</td>\n",
              "      <td>0.0</td>\n",
              "      <td>0.00</td>\n",
              "      <td>88.43</td>\n",
              "      <td>0.00</td>\n",
              "      <td>0.00</td>\n",
              "      <td>0.00</td>\n",
              "      <td>0.0</td>\n",
              "      <td>0.00</td>\n",
              "      <td>0.00</td>\n",
              "      <td>0.00</td>\n",
              "      <td>0.00</td>\n",
              "      <td>0.00</td>\n",
              "      <td>0.0</td>\n",
              "      <td>0.00</td>\n",
              "      <td>0.00</td>\n",
              "      <td>0.00</td>\n",
              "      <td>0.0</td>\n",
              "      <td>26.94</td>\n",
              "      <td>0.00</td>\n",
              "      <td>0.00</td>\n",
              "      <td>0.00</td>\n",
              "      <td>0.00</td>\n",
              "      <td>1398.90</td>\n",
              "    </tr>\n",
              "    <tr>\n",
              "      <th>85808087</th>\n",
              "      <td>0.00</td>\n",
              "      <td>0.00</td>\n",
              "      <td>1039.49</td>\n",
              "      <td>58.88</td>\n",
              "      <td>0.0</td>\n",
              "      <td>0.00</td>\n",
              "      <td>0.0</td>\n",
              "      <td>0.00</td>\n",
              "      <td>0.00</td>\n",
              "      <td>0.00</td>\n",
              "      <td>0.00</td>\n",
              "      <td>0.00</td>\n",
              "      <td>0.0</td>\n",
              "      <td>0.00</td>\n",
              "      <td>0.00</td>\n",
              "      <td>171.71</td>\n",
              "      <td>166.79</td>\n",
              "      <td>0.00</td>\n",
              "      <td>0.0</td>\n",
              "      <td>0.00</td>\n",
              "      <td>55.55</td>\n",
              "      <td>0.00</td>\n",
              "      <td>0.0</td>\n",
              "      <td>789.62</td>\n",
              "      <td>0.00</td>\n",
              "      <td>313.40</td>\n",
              "      <td>0.00</td>\n",
              "      <td>0.00</td>\n",
              "      <td>2595.44</td>\n",
              "    </tr>\n",
              "    <tr>\n",
              "      <th>85867033</th>\n",
              "      <td>334.79</td>\n",
              "      <td>147.66</td>\n",
              "      <td>541.23</td>\n",
              "      <td>3332.15</td>\n",
              "      <td>0.0</td>\n",
              "      <td>147.03</td>\n",
              "      <td>0.0</td>\n",
              "      <td>0.00</td>\n",
              "      <td>291.49</td>\n",
              "      <td>0.00</td>\n",
              "      <td>0.00</td>\n",
              "      <td>336.39</td>\n",
              "      <td>0.0</td>\n",
              "      <td>0.00</td>\n",
              "      <td>0.00</td>\n",
              "      <td>1647.61</td>\n",
              "      <td>0.00</td>\n",
              "      <td>0.00</td>\n",
              "      <td>0.0</td>\n",
              "      <td>0.00</td>\n",
              "      <td>55.55</td>\n",
              "      <td>0.00</td>\n",
              "      <td>0.0</td>\n",
              "      <td>545.52</td>\n",
              "      <td>15.57</td>\n",
              "      <td>0.00</td>\n",
              "      <td>0.00</td>\n",
              "      <td>0.00</td>\n",
              "      <td>7394.99</td>\n",
              "    </tr>\n",
              "  </tbody>\n",
              "</table>\n",
              "<p>6414 rows × 29 columns</p>\n",
              "</div>"
            ],
            "text/plain": [
              "Merchant_Category  AIRLINE  AUTO RENTAL  ...  VEHICLES    Total\n",
              "PartyID                                  ...                   \n",
              "174884                0.00         0.00  ...    838.93  8515.97\n",
              "175387                0.00         0.00  ...      0.00  1693.72\n",
              "175550                0.00         0.00  ...      0.00  2257.95\n",
              "176146                0.00         0.00  ...      0.00  2600.27\n",
              "176222                0.00         0.00  ...      0.00  9414.18\n",
              "...                    ...          ...  ...       ...      ...\n",
              "85795366              0.00         0.00  ...      0.00   638.50\n",
              "85795614              0.00         0.00  ...      0.00  2394.12\n",
              "85795846            567.72         0.00  ...      0.00  1398.90\n",
              "85808087              0.00         0.00  ...      0.00  2595.44\n",
              "85867033            334.79       147.66  ...      0.00  7394.99\n",
              "\n",
              "[6414 rows x 29 columns]"
            ]
          },
          "metadata": {
            "tags": []
          },
          "execution_count": 103
        }
      ]
    },
    {
      "cell_type": "code",
      "metadata": {
        "id": "_5frlaUUP3wj",
        "colab_type": "code",
        "colab": {}
      },
      "source": [
        "#df_clustering.reset_index(inplace = True)"
      ],
      "execution_count": 0,
      "outputs": []
    },
    {
      "cell_type": "code",
      "metadata": {
        "id": "XWC8UlatQFpp",
        "colab_type": "code",
        "outputId": "d520abf7-7949-41bd-abcc-b2741e49cd50",
        "colab": {
          "base_uri": "https://localhost:8080/",
          "height": 168
        }
      },
      "source": [
        "df_clustering.columns"
      ],
      "execution_count": 0,
      "outputs": [
        {
          "output_type": "execute_result",
          "data": {
            "text/plain": [
              "Index(['AIRLINE', 'AUTO RENTAL', 'CLOTHING STORES', 'DEPARTMENT STORES',\n",
              "       'DISCOUNT STORES', 'DRUG STORES', 'EDUCATION', 'ELECTRIC-APPLIANCE',\n",
              "       'FOOD STORES-WAREHOUSE', 'GAS STATIONS', 'HARDWARE', 'HEALTH CARE',\n",
              "       'HOTEL-MOTEL', 'INTERIOR FURNISHINGS', 'MAIL ORDER', 'OTHER RETAIL',\n",
              "       'OTHER SERVICES', 'OTHER TRANSPORT', 'Others', 'PROFESSIONAL SERVICES',\n",
              "       'QUASI CASH', 'RECREATION', 'REPAIR SHOPS', 'RESTAURANTS-BARS',\n",
              "       'SPORTING-TOY STORES', 'TRAVEL AGENCIES', 'UTILITIES', 'VEHICLES',\n",
              "       'Total'],\n",
              "      dtype='object', name='Merchant_Category')"
            ]
          },
          "metadata": {
            "tags": []
          },
          "execution_count": 104
        }
      ]
    },
    {
      "cell_type": "code",
      "metadata": {
        "id": "D4DVNKXvQnp2",
        "colab_type": "code",
        "colab": {}
      },
      "source": [
        "for col in df_clustering.columns:\n",
        "       df_clustering[col] = df_clustering[col]/df_clustering['Total']"
      ],
      "execution_count": 0,
      "outputs": []
    },
    {
      "cell_type": "code",
      "metadata": {
        "id": "n09FJx73RMYl",
        "colab_type": "code",
        "colab": {}
      },
      "source": [
        "df_clustering.drop(columns = 'Total',inplace= True)"
      ],
      "execution_count": 0,
      "outputs": []
    },
    {
      "cell_type": "code",
      "metadata": {
        "id": "r7_rSzY4RUaQ",
        "colab_type": "code",
        "outputId": "cf54355f-bad0-4ac5-e191-f218b99809a3",
        "colab": {
          "base_uri": "https://localhost:8080/",
          "height": 485
        }
      },
      "source": [
        "df_clustering"
      ],
      "execution_count": 0,
      "outputs": [
        {
          "output_type": "execute_result",
          "data": {
            "text/html": [
              "<div>\n",
              "<style scoped>\n",
              "    .dataframe tbody tr th:only-of-type {\n",
              "        vertical-align: middle;\n",
              "    }\n",
              "\n",
              "    .dataframe tbody tr th {\n",
              "        vertical-align: top;\n",
              "    }\n",
              "\n",
              "    .dataframe thead th {\n",
              "        text-align: right;\n",
              "    }\n",
              "</style>\n",
              "<table border=\"1\" class=\"dataframe\">\n",
              "  <thead>\n",
              "    <tr style=\"text-align: right;\">\n",
              "      <th>Merchant_Category</th>\n",
              "      <th>AIRLINE</th>\n",
              "      <th>AUTO RENTAL</th>\n",
              "      <th>CLOTHING STORES</th>\n",
              "      <th>DEPARTMENT STORES</th>\n",
              "      <th>DISCOUNT STORES</th>\n",
              "      <th>DRUG STORES</th>\n",
              "      <th>EDUCATION</th>\n",
              "      <th>ELECTRIC-APPLIANCE</th>\n",
              "      <th>FOOD STORES-WAREHOUSE</th>\n",
              "      <th>GAS STATIONS</th>\n",
              "      <th>HARDWARE</th>\n",
              "      <th>HEALTH CARE</th>\n",
              "      <th>HOTEL-MOTEL</th>\n",
              "      <th>INTERIOR FURNISHINGS</th>\n",
              "      <th>MAIL ORDER</th>\n",
              "      <th>OTHER RETAIL</th>\n",
              "      <th>OTHER SERVICES</th>\n",
              "      <th>OTHER TRANSPORT</th>\n",
              "      <th>Others</th>\n",
              "      <th>PROFESSIONAL SERVICES</th>\n",
              "      <th>QUASI CASH</th>\n",
              "      <th>RECREATION</th>\n",
              "      <th>REPAIR SHOPS</th>\n",
              "      <th>RESTAURANTS-BARS</th>\n",
              "      <th>SPORTING-TOY STORES</th>\n",
              "      <th>TRAVEL AGENCIES</th>\n",
              "      <th>UTILITIES</th>\n",
              "      <th>VEHICLES</th>\n",
              "    </tr>\n",
              "    <tr>\n",
              "      <th>PartyID</th>\n",
              "      <th></th>\n",
              "      <th></th>\n",
              "      <th></th>\n",
              "      <th></th>\n",
              "      <th></th>\n",
              "      <th></th>\n",
              "      <th></th>\n",
              "      <th></th>\n",
              "      <th></th>\n",
              "      <th></th>\n",
              "      <th></th>\n",
              "      <th></th>\n",
              "      <th></th>\n",
              "      <th></th>\n",
              "      <th></th>\n",
              "      <th></th>\n",
              "      <th></th>\n",
              "      <th></th>\n",
              "      <th></th>\n",
              "      <th></th>\n",
              "      <th></th>\n",
              "      <th></th>\n",
              "      <th></th>\n",
              "      <th></th>\n",
              "      <th></th>\n",
              "      <th></th>\n",
              "      <th></th>\n",
              "      <th></th>\n",
              "    </tr>\n",
              "  </thead>\n",
              "  <tbody>\n",
              "    <tr>\n",
              "      <th>174884</th>\n",
              "      <td>0.000000</td>\n",
              "      <td>0.000000</td>\n",
              "      <td>0.014259</td>\n",
              "      <td>0.000000</td>\n",
              "      <td>0.0</td>\n",
              "      <td>0.000000</td>\n",
              "      <td>0.0</td>\n",
              "      <td>0.000000</td>\n",
              "      <td>0.112598</td>\n",
              "      <td>0.079055</td>\n",
              "      <td>0.123938</td>\n",
              "      <td>0.000000</td>\n",
              "      <td>0.0</td>\n",
              "      <td>0.046966</td>\n",
              "      <td>0.025379</td>\n",
              "      <td>0.003262</td>\n",
              "      <td>0.000000</td>\n",
              "      <td>0.101029</td>\n",
              "      <td>0.0</td>\n",
              "      <td>0.000000</td>\n",
              "      <td>0.000000</td>\n",
              "      <td>0.000000</td>\n",
              "      <td>0.0</td>\n",
              "      <td>0.191112</td>\n",
              "      <td>0.000000</td>\n",
              "      <td>0.167622</td>\n",
              "      <td>0.036268</td>\n",
              "      <td>0.098513</td>\n",
              "    </tr>\n",
              "    <tr>\n",
              "      <th>175387</th>\n",
              "      <td>0.000000</td>\n",
              "      <td>0.000000</td>\n",
              "      <td>0.086714</td>\n",
              "      <td>0.000000</td>\n",
              "      <td>0.0</td>\n",
              "      <td>0.056928</td>\n",
              "      <td>0.0</td>\n",
              "      <td>0.000000</td>\n",
              "      <td>0.346338</td>\n",
              "      <td>0.000000</td>\n",
              "      <td>0.000000</td>\n",
              "      <td>0.000000</td>\n",
              "      <td>0.0</td>\n",
              "      <td>0.000000</td>\n",
              "      <td>0.000000</td>\n",
              "      <td>0.028104</td>\n",
              "      <td>0.322332</td>\n",
              "      <td>0.000000</td>\n",
              "      <td>0.0</td>\n",
              "      <td>0.000000</td>\n",
              "      <td>0.000000</td>\n",
              "      <td>0.070384</td>\n",
              "      <td>0.0</td>\n",
              "      <td>0.089200</td>\n",
              "      <td>0.000000</td>\n",
              "      <td>0.000000</td>\n",
              "      <td>0.000000</td>\n",
              "      <td>0.000000</td>\n",
              "    </tr>\n",
              "    <tr>\n",
              "      <th>175550</th>\n",
              "      <td>0.000000</td>\n",
              "      <td>0.000000</td>\n",
              "      <td>0.000000</td>\n",
              "      <td>0.000000</td>\n",
              "      <td>0.0</td>\n",
              "      <td>0.000000</td>\n",
              "      <td>0.0</td>\n",
              "      <td>0.024593</td>\n",
              "      <td>0.000000</td>\n",
              "      <td>0.856706</td>\n",
              "      <td>0.000000</td>\n",
              "      <td>0.000000</td>\n",
              "      <td>0.0</td>\n",
              "      <td>0.000000</td>\n",
              "      <td>0.000000</td>\n",
              "      <td>0.014292</td>\n",
              "      <td>0.086796</td>\n",
              "      <td>0.000000</td>\n",
              "      <td>0.0</td>\n",
              "      <td>0.000593</td>\n",
              "      <td>0.000000</td>\n",
              "      <td>0.000000</td>\n",
              "      <td>0.0</td>\n",
              "      <td>0.000000</td>\n",
              "      <td>0.017020</td>\n",
              "      <td>0.000000</td>\n",
              "      <td>0.000000</td>\n",
              "      <td>0.000000</td>\n",
              "    </tr>\n",
              "    <tr>\n",
              "      <th>176146</th>\n",
              "      <td>0.000000</td>\n",
              "      <td>0.000000</td>\n",
              "      <td>0.207932</td>\n",
              "      <td>0.081945</td>\n",
              "      <td>0.0</td>\n",
              "      <td>0.000000</td>\n",
              "      <td>0.0</td>\n",
              "      <td>0.232434</td>\n",
              "      <td>0.181112</td>\n",
              "      <td>0.000000</td>\n",
              "      <td>0.000000</td>\n",
              "      <td>0.121195</td>\n",
              "      <td>0.0</td>\n",
              "      <td>0.000000</td>\n",
              "      <td>0.000000</td>\n",
              "      <td>0.028439</td>\n",
              "      <td>0.000000</td>\n",
              "      <td>0.000000</td>\n",
              "      <td>0.0</td>\n",
              "      <td>0.000000</td>\n",
              "      <td>0.000000</td>\n",
              "      <td>0.007607</td>\n",
              "      <td>0.0</td>\n",
              "      <td>0.055694</td>\n",
              "      <td>0.054160</td>\n",
              "      <td>0.000000</td>\n",
              "      <td>0.029482</td>\n",
              "      <td>0.000000</td>\n",
              "    </tr>\n",
              "    <tr>\n",
              "      <th>176222</th>\n",
              "      <td>0.000000</td>\n",
              "      <td>0.000000</td>\n",
              "      <td>0.000000</td>\n",
              "      <td>0.000000</td>\n",
              "      <td>0.0</td>\n",
              "      <td>0.000000</td>\n",
              "      <td>0.0</td>\n",
              "      <td>0.000000</td>\n",
              "      <td>0.015776</td>\n",
              "      <td>0.000000</td>\n",
              "      <td>0.000000</td>\n",
              "      <td>0.000000</td>\n",
              "      <td>0.0</td>\n",
              "      <td>0.000000</td>\n",
              "      <td>0.000000</td>\n",
              "      <td>0.000000</td>\n",
              "      <td>0.000000</td>\n",
              "      <td>0.000000</td>\n",
              "      <td>0.0</td>\n",
              "      <td>0.968765</td>\n",
              "      <td>0.000000</td>\n",
              "      <td>0.000000</td>\n",
              "      <td>0.0</td>\n",
              "      <td>0.015459</td>\n",
              "      <td>0.000000</td>\n",
              "      <td>0.000000</td>\n",
              "      <td>0.000000</td>\n",
              "      <td>0.000000</td>\n",
              "    </tr>\n",
              "    <tr>\n",
              "      <th>...</th>\n",
              "      <td>...</td>\n",
              "      <td>...</td>\n",
              "      <td>...</td>\n",
              "      <td>...</td>\n",
              "      <td>...</td>\n",
              "      <td>...</td>\n",
              "      <td>...</td>\n",
              "      <td>...</td>\n",
              "      <td>...</td>\n",
              "      <td>...</td>\n",
              "      <td>...</td>\n",
              "      <td>...</td>\n",
              "      <td>...</td>\n",
              "      <td>...</td>\n",
              "      <td>...</td>\n",
              "      <td>...</td>\n",
              "      <td>...</td>\n",
              "      <td>...</td>\n",
              "      <td>...</td>\n",
              "      <td>...</td>\n",
              "      <td>...</td>\n",
              "      <td>...</td>\n",
              "      <td>...</td>\n",
              "      <td>...</td>\n",
              "      <td>...</td>\n",
              "      <td>...</td>\n",
              "      <td>...</td>\n",
              "      <td>...</td>\n",
              "    </tr>\n",
              "    <tr>\n",
              "      <th>85795366</th>\n",
              "      <td>0.000000</td>\n",
              "      <td>0.000000</td>\n",
              "      <td>0.013861</td>\n",
              "      <td>0.000000</td>\n",
              "      <td>0.0</td>\n",
              "      <td>0.000000</td>\n",
              "      <td>0.0</td>\n",
              "      <td>0.000000</td>\n",
              "      <td>0.259092</td>\n",
              "      <td>0.000000</td>\n",
              "      <td>0.000000</td>\n",
              "      <td>0.000000</td>\n",
              "      <td>0.0</td>\n",
              "      <td>0.000000</td>\n",
              "      <td>0.000000</td>\n",
              "      <td>0.000000</td>\n",
              "      <td>0.204965</td>\n",
              "      <td>0.000000</td>\n",
              "      <td>0.0</td>\n",
              "      <td>0.000000</td>\n",
              "      <td>0.000000</td>\n",
              "      <td>0.000000</td>\n",
              "      <td>0.0</td>\n",
              "      <td>0.252388</td>\n",
              "      <td>0.000000</td>\n",
              "      <td>0.000000</td>\n",
              "      <td>0.269695</td>\n",
              "      <td>0.000000</td>\n",
              "    </tr>\n",
              "    <tr>\n",
              "      <th>85795614</th>\n",
              "      <td>0.000000</td>\n",
              "      <td>0.000000</td>\n",
              "      <td>0.098821</td>\n",
              "      <td>0.000000</td>\n",
              "      <td>0.0</td>\n",
              "      <td>0.000000</td>\n",
              "      <td>0.0</td>\n",
              "      <td>0.041777</td>\n",
              "      <td>0.207308</td>\n",
              "      <td>0.000000</td>\n",
              "      <td>0.000000</td>\n",
              "      <td>0.000000</td>\n",
              "      <td>0.0</td>\n",
              "      <td>0.000000</td>\n",
              "      <td>0.000000</td>\n",
              "      <td>0.057345</td>\n",
              "      <td>0.189903</td>\n",
              "      <td>0.000000</td>\n",
              "      <td>0.0</td>\n",
              "      <td>0.097017</td>\n",
              "      <td>0.000000</td>\n",
              "      <td>0.165201</td>\n",
              "      <td>0.0</td>\n",
              "      <td>0.076061</td>\n",
              "      <td>0.000000</td>\n",
              "      <td>0.000000</td>\n",
              "      <td>0.066567</td>\n",
              "      <td>0.000000</td>\n",
              "    </tr>\n",
              "    <tr>\n",
              "      <th>85795846</th>\n",
              "      <td>0.405833</td>\n",
              "      <td>0.000000</td>\n",
              "      <td>0.341976</td>\n",
              "      <td>0.169719</td>\n",
              "      <td>0.0</td>\n",
              "      <td>0.000000</td>\n",
              "      <td>0.0</td>\n",
              "      <td>0.000000</td>\n",
              "      <td>0.063214</td>\n",
              "      <td>0.000000</td>\n",
              "      <td>0.000000</td>\n",
              "      <td>0.000000</td>\n",
              "      <td>0.0</td>\n",
              "      <td>0.000000</td>\n",
              "      <td>0.000000</td>\n",
              "      <td>0.000000</td>\n",
              "      <td>0.000000</td>\n",
              "      <td>0.000000</td>\n",
              "      <td>0.0</td>\n",
              "      <td>0.000000</td>\n",
              "      <td>0.000000</td>\n",
              "      <td>0.000000</td>\n",
              "      <td>0.0</td>\n",
              "      <td>0.019258</td>\n",
              "      <td>0.000000</td>\n",
              "      <td>0.000000</td>\n",
              "      <td>0.000000</td>\n",
              "      <td>0.000000</td>\n",
              "    </tr>\n",
              "    <tr>\n",
              "      <th>85808087</th>\n",
              "      <td>0.000000</td>\n",
              "      <td>0.000000</td>\n",
              "      <td>0.400506</td>\n",
              "      <td>0.022686</td>\n",
              "      <td>0.0</td>\n",
              "      <td>0.000000</td>\n",
              "      <td>0.0</td>\n",
              "      <td>0.000000</td>\n",
              "      <td>0.000000</td>\n",
              "      <td>0.000000</td>\n",
              "      <td>0.000000</td>\n",
              "      <td>0.000000</td>\n",
              "      <td>0.0</td>\n",
              "      <td>0.000000</td>\n",
              "      <td>0.000000</td>\n",
              "      <td>0.066158</td>\n",
              "      <td>0.064263</td>\n",
              "      <td>0.000000</td>\n",
              "      <td>0.0</td>\n",
              "      <td>0.000000</td>\n",
              "      <td>0.021403</td>\n",
              "      <td>0.000000</td>\n",
              "      <td>0.0</td>\n",
              "      <td>0.304234</td>\n",
              "      <td>0.000000</td>\n",
              "      <td>0.120750</td>\n",
              "      <td>0.000000</td>\n",
              "      <td>0.000000</td>\n",
              "    </tr>\n",
              "    <tr>\n",
              "      <th>85867033</th>\n",
              "      <td>0.045273</td>\n",
              "      <td>0.019968</td>\n",
              "      <td>0.073189</td>\n",
              "      <td>0.450596</td>\n",
              "      <td>0.0</td>\n",
              "      <td>0.019882</td>\n",
              "      <td>0.0</td>\n",
              "      <td>0.000000</td>\n",
              "      <td>0.039417</td>\n",
              "      <td>0.000000</td>\n",
              "      <td>0.000000</td>\n",
              "      <td>0.045489</td>\n",
              "      <td>0.0</td>\n",
              "      <td>0.000000</td>\n",
              "      <td>0.000000</td>\n",
              "      <td>0.222801</td>\n",
              "      <td>0.000000</td>\n",
              "      <td>0.000000</td>\n",
              "      <td>0.0</td>\n",
              "      <td>0.000000</td>\n",
              "      <td>0.007512</td>\n",
              "      <td>0.000000</td>\n",
              "      <td>0.0</td>\n",
              "      <td>0.073769</td>\n",
              "      <td>0.002105</td>\n",
              "      <td>0.000000</td>\n",
              "      <td>0.000000</td>\n",
              "      <td>0.000000</td>\n",
              "    </tr>\n",
              "  </tbody>\n",
              "</table>\n",
              "<p>6414 rows × 28 columns</p>\n",
              "</div>"
            ],
            "text/plain": [
              "Merchant_Category   AIRLINE  AUTO RENTAL  ...  UTILITIES  VEHICLES\n",
              "PartyID                                   ...                     \n",
              "174884             0.000000     0.000000  ...   0.036268  0.098513\n",
              "175387             0.000000     0.000000  ...   0.000000  0.000000\n",
              "175550             0.000000     0.000000  ...   0.000000  0.000000\n",
              "176146             0.000000     0.000000  ...   0.029482  0.000000\n",
              "176222             0.000000     0.000000  ...   0.000000  0.000000\n",
              "...                     ...          ...  ...        ...       ...\n",
              "85795366           0.000000     0.000000  ...   0.269695  0.000000\n",
              "85795614           0.000000     0.000000  ...   0.066567  0.000000\n",
              "85795846           0.405833     0.000000  ...   0.000000  0.000000\n",
              "85808087           0.000000     0.000000  ...   0.000000  0.000000\n",
              "85867033           0.045273     0.019968  ...   0.000000  0.000000\n",
              "\n",
              "[6414 rows x 28 columns]"
            ]
          },
          "metadata": {
            "tags": []
          },
          "execution_count": 111
        }
      ]
    },
    {
      "cell_type": "code",
      "metadata": {
        "id": "LBTd8V9GRvN3",
        "colab_type": "code",
        "colab": {}
      },
      "source": [
        "#df_clustering.to_csv('Clustering_data.csv')"
      ],
      "execution_count": 0,
      "outputs": []
    }
  ]
}